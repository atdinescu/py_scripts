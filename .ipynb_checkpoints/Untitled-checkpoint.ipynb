{
 "cells": [
  {
   "cell_type": "code",
   "execution_count": null,
   "id": "0b9fe566-8c7b-4ce9-8ff5-fd5fdfb71e7c",
   "metadata": {},
   "outputs": [],
   "source": [
    "import matplotlib.pyplot as plt\n",
    "import numpy as np\n",
    "import matplotlib\n",
    "\n",
    "f= np.loadtxt('data', unpack='False')\n",
    "\n",
    "# set bins' interval for your data\n",
    "# You have following intervals: \n",
    "# 1st col is number of data elements in [0,10000);\n",
    "# 2nd col is number of data elements in [10000, 20000); \n",
    "# ...\n",
    "# last col is number of data elements in [100000, 200000]; \n",
    "bins = [0,5,10,15,20,25,30,35,40,45,50,55,60,65,70,75,80,85,90] \n",
    "\n",
    "plt.hist(f, histtype='bar', bins = bins)\n",
    "plt.xlabel('Diameter')\n",
    "plt.ylabel('Number of Chondrules')\n",
    "plt.title('Distribution of chondules diameter')\n",
    "plt.legend()\n",
    "plt.show()"
   ]
  }
 ],
 "metadata": {
  "kernelspec": {
   "display_name": "Python 3",
   "language": "python",
   "name": "python3"
  },
  "language_info": {
   "codemirror_mode": {
    "name": "ipython",
    "version": 3
   },
   "file_extension": ".py",
   "mimetype": "text/x-python",
   "name": "python",
   "nbconvert_exporter": "python",
   "pygments_lexer": "ipython3",
   "version": "3.8.8"
  }
 },
 "nbformat": 4,
 "nbformat_minor": 5
}
