{
 "cells": [
  {
   "cell_type": "markdown",
   "id": "ig0UNePuHr1-",
   "metadata": {
    "id": "ig0UNePuHr1-"
   },
   "source": [
    "# Import Python libraries and directory of results"
   ]
  },
  {
   "cell_type": "code",
   "execution_count": 9,
   "id": "1449611c",
   "metadata": {
    "colab": {
     "base_uri": "https://localhost:8080/"
    },
    "id": "1449611c",
    "outputId": "30af662b-ac3e-46fd-e7a7-3bfd5b91b374"
   },
   "outputs": [],
   "source": [
    "import seaborn as sns\n",
    "import pandas as pd\n",
    "import matplotlib.pyplot as plt\n",
    "import pingouin as pg\n",
    "import statsmodels.api as sm\n",
    "import scikit_posthocs as sp\n",
    "from statsmodels.formula.api import ols\n",
    "from statannotations.Annotator import Annotator\n",
    "#from ITS_lib.ITS_functions import ITS_plot, ITS_subplots"
   ]
  },
  {
   "cell_type": "code",
   "execution_count": 10,
   "id": "93205667-5583-4a56-b393-ccf371c2ad7e",
   "metadata": {},
   "outputs": [],
   "source": [
    "#from google.colab import drive\n",
    "#drive.mount(\"/content/drive\")\n",
    "\n",
    "#!pip install pingouin\n",
    "\n",
    "#!pip install statannotations\n",
    "#!pip install statsmodels\n",
    "#!pip install scikit_posthocs"
   ]
  },
  {
   "cell_type": "code",
   "execution_count": 11,
   "id": "WJJSB6rhFgAU",
   "metadata": {
    "id": "WJJSB6rhFgAU"
   },
   "outputs": [],
   "source": [
    "from pathlib import Path\n",
    "\n",
    "#DATA = Path(\"/content/drive/My Drive/BBL/GP_ITS\")\n",
    "DATA = Path(\"C:/Users/Teo/Downloads\")"
   ]
  },
  {
   "cell_type": "markdown",
   "id": "TAZa2l41tbx3",
   "metadata": {
    "id": "TAZa2l41tbx3"
   },
   "source": [
    "# Create one table with ITS results"
   ]
  },
  {
   "cell_type": "code",
   "execution_count": 12,
   "id": "yRDB7RnO2DSh",
   "metadata": {
    "colab": {
     "base_uri": "https://localhost:8080/",
     "height": 314
    },
    "id": "yRDB7RnO2DSh",
    "outputId": "5c02908d-6bbd-440b-82d9-41108846e449"
   },
   "outputs": [
    {
     "data": {
      "text/html": [
       "<div>\n",
       "<style scoped>\n",
       "    .dataframe tbody tr th:only-of-type {\n",
       "        vertical-align: middle;\n",
       "    }\n",
       "\n",
       "    .dataframe tbody tr th {\n",
       "        vertical-align: top;\n",
       "    }\n",
       "\n",
       "    .dataframe thead th {\n",
       "        text-align: right;\n",
       "    }\n",
       "</style>\n",
       "<table border=\"1\" class=\"dataframe\">\n",
       "  <thead>\n",
       "    <tr style=\"text-align: right;\">\n",
       "      <th></th>\n",
       "      <th>Filename</th>\n",
       "      <th>Thickness</th>\n",
       "      <th>Porosity</th>\n",
       "      <th>BMD</th>\n",
       "      <th>TMD</th>\n",
       "      <th>ID</th>\n",
       "      <th>Location</th>\n",
       "      <th>Subregion</th>\n",
       "      <th>Location_Subregion</th>\n",
       "    </tr>\n",
       "  </thead>\n",
       "  <tbody>\n",
       "    <tr>\n",
       "      <th>0</th>\n",
       "      <td>E0016652_LF_LAT</td>\n",
       "      <td>0.2738</td>\n",
       "      <td>0.247248</td>\n",
       "      <td>912.694346</td>\n",
       "      <td>1204.382048</td>\n",
       "      <td>E0016652</td>\n",
       "      <td>LF</td>\n",
       "      <td>LAT</td>\n",
       "      <td>LF_LAT</td>\n",
       "    </tr>\n",
       "    <tr>\n",
       "      <th>1</th>\n",
       "      <td>E0016652_LF_MED</td>\n",
       "      <td>0.2681</td>\n",
       "      <td>0.277952</td>\n",
       "      <td>851.170837</td>\n",
       "      <td>1169.341802</td>\n",
       "      <td>E0016652</td>\n",
       "      <td>LF</td>\n",
       "      <td>MED</td>\n",
       "      <td>LF_MED</td>\n",
       "    </tr>\n",
       "    <tr>\n",
       "      <th>2</th>\n",
       "      <td>E0016652_LT_LAT</td>\n",
       "      <td>0.2994</td>\n",
       "      <td>0.222734</td>\n",
       "      <td>960.661315</td>\n",
       "      <td>1228.887595</td>\n",
       "      <td>E0016652</td>\n",
       "      <td>LT</td>\n",
       "      <td>LAT</td>\n",
       "      <td>LT_LAT</td>\n",
       "    </tr>\n",
       "    <tr>\n",
       "      <th>3</th>\n",
       "      <td>E0016652_LT_MED</td>\n",
       "      <td>0.2483</td>\n",
       "      <td>NaN</td>\n",
       "      <td>NaN</td>\n",
       "      <td>NaN</td>\n",
       "      <td>E0016652</td>\n",
       "      <td>LT</td>\n",
       "      <td>MED</td>\n",
       "      <td>LT_MED</td>\n",
       "    </tr>\n",
       "    <tr>\n",
       "      <th>4</th>\n",
       "      <td>E0016652_RF_LAT</td>\n",
       "      <td>0.2419</td>\n",
       "      <td>0.268690</td>\n",
       "      <td>NaN</td>\n",
       "      <td>NaN</td>\n",
       "      <td>E0016652</td>\n",
       "      <td>RF</td>\n",
       "      <td>LAT</td>\n",
       "      <td>RF_LAT</td>\n",
       "    </tr>\n",
       "  </tbody>\n",
       "</table>\n",
       "</div>"
      ],
      "text/plain": [
       "          Filename  Thickness  Porosity         BMD          TMD        ID  \\\n",
       "0  E0016652_LF_LAT     0.2738  0.247248  912.694346  1204.382048  E0016652   \n",
       "1  E0016652_LF_MED     0.2681  0.277952  851.170837  1169.341802  E0016652   \n",
       "2  E0016652_LT_LAT     0.2994  0.222734  960.661315  1228.887595  E0016652   \n",
       "3  E0016652_LT_MED     0.2483       NaN         NaN          NaN  E0016652   \n",
       "4  E0016652_RF_LAT     0.2419  0.268690         NaN          NaN  E0016652   \n",
       "\n",
       "  Location Subregion Location_Subregion  \n",
       "0       LF       LAT             LF_LAT  \n",
       "1       LF       MED             LF_MED  \n",
       "2       LT       LAT             LT_LAT  \n",
       "3       LT       MED             LT_MED  \n",
       "4       RF       LAT             RF_LAT  "
      ]
     },
     "execution_count": 12,
     "metadata": {},
     "output_type": "execute_result"
    }
   ],
   "source": [
    "ITS = pd.read_csv(DATA / 'result_gp_SBP.txt', sep = '\\t', header = None)\n",
    "ITS.columns = ['Filename','Thickness', 'Porosity', 'BMD', 'TMD']\n",
    "ITS['ID'] = ITS['Filename'].astype(str).str.split('_').str[0]\n",
    "ITS['Location'] = ITS['Filename'].astype(str).str.split('_').str[1]\n",
    "ITS['Subregion'] = ITS['Filename'].astype(str).str.split('_').str[2]\n",
    "ITS['Location_Subregion'] = ITS['Location'] + '_' + ITS['Subregion']\n",
    "ITS.head()"
   ]
  },
  {
   "cell_type": "code",
   "execution_count": 13,
   "id": "HeHFMEUdtaRC",
   "metadata": {
    "id": "HeHFMEUdtaRC"
   },
   "outputs": [],
   "source": [
    "GP_ID = pd.read_csv(DATA /'GP_fileID.txt', header = None, sep = '\\t')\n",
    "GP_ID.columns = ['GP','Month', 'ID','Location']"
   ]
  },
  {
   "cell_type": "code",
   "execution_count": 14,
   "id": "1RIu2uXo2l5w",
   "metadata": {
    "colab": {
     "base_uri": "https://localhost:8080/",
     "height": 314
    },
    "id": "1RIu2uXo2l5w",
    "outputId": "a325aac0-72ff-4a27-82db-668782e8817b"
   },
   "outputs": [
    {
     "data": {
      "text/html": [
       "<div>\n",
       "<style scoped>\n",
       "    .dataframe tbody tr th:only-of-type {\n",
       "        vertical-align: middle;\n",
       "    }\n",
       "\n",
       "    .dataframe tbody tr th {\n",
       "        vertical-align: top;\n",
       "    }\n",
       "\n",
       "    .dataframe thead th {\n",
       "        text-align: right;\n",
       "    }\n",
       "</style>\n",
       "<table border=\"1\" class=\"dataframe\">\n",
       "  <thead>\n",
       "    <tr style=\"text-align: right;\">\n",
       "      <th></th>\n",
       "      <th>Filename</th>\n",
       "      <th>Thickness</th>\n",
       "      <th>Porosity</th>\n",
       "      <th>BMD</th>\n",
       "      <th>TMD</th>\n",
       "      <th>ID</th>\n",
       "      <th>Location_x</th>\n",
       "      <th>Subregion</th>\n",
       "      <th>Location_Subregion</th>\n",
       "      <th>GP</th>\n",
       "      <th>Month</th>\n",
       "      <th>Location_y</th>\n",
       "    </tr>\n",
       "  </thead>\n",
       "  <tbody>\n",
       "    <tr>\n",
       "      <th>0</th>\n",
       "      <td>E0016652_LF_LAT</td>\n",
       "      <td>0.2738</td>\n",
       "      <td>0.247248</td>\n",
       "      <td>912.694346</td>\n",
       "      <td>1204.382048</td>\n",
       "      <td>E0016652</td>\n",
       "      <td>LF</td>\n",
       "      <td>LAT</td>\n",
       "      <td>LF_LAT</td>\n",
       "      <td>GP_7</td>\n",
       "      <td>2</td>\n",
       "      <td>NaN</td>\n",
       "    </tr>\n",
       "    <tr>\n",
       "      <th>1</th>\n",
       "      <td>E0016652_LF_MED</td>\n",
       "      <td>0.2681</td>\n",
       "      <td>0.277952</td>\n",
       "      <td>851.170837</td>\n",
       "      <td>1169.341802</td>\n",
       "      <td>E0016652</td>\n",
       "      <td>LF</td>\n",
       "      <td>MED</td>\n",
       "      <td>LF_MED</td>\n",
       "      <td>GP_7</td>\n",
       "      <td>2</td>\n",
       "      <td>NaN</td>\n",
       "    </tr>\n",
       "    <tr>\n",
       "      <th>2</th>\n",
       "      <td>E0016652_LT_LAT</td>\n",
       "      <td>0.2994</td>\n",
       "      <td>0.222734</td>\n",
       "      <td>960.661315</td>\n",
       "      <td>1228.887595</td>\n",
       "      <td>E0016652</td>\n",
       "      <td>LT</td>\n",
       "      <td>LAT</td>\n",
       "      <td>LT_LAT</td>\n",
       "      <td>GP_7</td>\n",
       "      <td>2</td>\n",
       "      <td>NaN</td>\n",
       "    </tr>\n",
       "    <tr>\n",
       "      <th>3</th>\n",
       "      <td>E0016652_LT_MED</td>\n",
       "      <td>0.2483</td>\n",
       "      <td>NaN</td>\n",
       "      <td>NaN</td>\n",
       "      <td>NaN</td>\n",
       "      <td>E0016652</td>\n",
       "      <td>LT</td>\n",
       "      <td>MED</td>\n",
       "      <td>LT_MED</td>\n",
       "      <td>GP_7</td>\n",
       "      <td>2</td>\n",
       "      <td>NaN</td>\n",
       "    </tr>\n",
       "    <tr>\n",
       "      <th>4</th>\n",
       "      <td>E0016652_RF_LAT</td>\n",
       "      <td>0.2419</td>\n",
       "      <td>0.268690</td>\n",
       "      <td>NaN</td>\n",
       "      <td>NaN</td>\n",
       "      <td>E0016652</td>\n",
       "      <td>RF</td>\n",
       "      <td>LAT</td>\n",
       "      <td>RF_LAT</td>\n",
       "      <td>GP_7</td>\n",
       "      <td>2</td>\n",
       "      <td>NaN</td>\n",
       "    </tr>\n",
       "  </tbody>\n",
       "</table>\n",
       "</div>"
      ],
      "text/plain": [
       "          Filename  Thickness  Porosity         BMD          TMD        ID  \\\n",
       "0  E0016652_LF_LAT     0.2738  0.247248  912.694346  1204.382048  E0016652   \n",
       "1  E0016652_LF_MED     0.2681  0.277952  851.170837  1169.341802  E0016652   \n",
       "2  E0016652_LT_LAT     0.2994  0.222734  960.661315  1228.887595  E0016652   \n",
       "3  E0016652_LT_MED     0.2483       NaN         NaN          NaN  E0016652   \n",
       "4  E0016652_RF_LAT     0.2419  0.268690         NaN          NaN  E0016652   \n",
       "\n",
       "  Location_x Subregion Location_Subregion    GP  Month Location_y  \n",
       "0         LF       LAT             LF_LAT  GP_7      2        NaN  \n",
       "1         LF       MED             LF_MED  GP_7      2        NaN  \n",
       "2         LT       LAT             LT_LAT  GP_7      2        NaN  \n",
       "3         LT       MED             LT_MED  GP_7      2        NaN  \n",
       "4         RF       LAT             RF_LAT  GP_7      2        NaN  "
      ]
     },
     "execution_count": 14,
     "metadata": {},
     "output_type": "execute_result"
    }
   ],
   "source": [
    "ITS_merge = pd.merge(ITS, GP_ID, left_on = 'ID', right_on = 'ID')\n",
    "ITS_merge.head()"
   ]
  },
  {
   "cell_type": "code",
   "execution_count": 15,
   "id": "NlWAHXkiN3rt",
   "metadata": {
    "colab": {
     "base_uri": "https://localhost:8080/",
     "height": 1000
    },
    "id": "NlWAHXkiN3rt",
    "outputId": "a23dbe5a-69cf-471b-e489-839594fc1a3e"
   },
   "outputs": [
    {
     "data": {
      "text/html": [
       "<div>\n",
       "<style scoped>\n",
       "    .dataframe tbody tr th:only-of-type {\n",
       "        vertical-align: middle;\n",
       "    }\n",
       "\n",
       "    .dataframe tbody tr th {\n",
       "        vertical-align: top;\n",
       "    }\n",
       "\n",
       "    .dataframe thead th {\n",
       "        text-align: right;\n",
       "    }\n",
       "</style>\n",
       "<table border=\"1\" class=\"dataframe\">\n",
       "  <thead>\n",
       "    <tr style=\"text-align: right;\">\n",
       "      <th></th>\n",
       "      <th></th>\n",
       "      <th>Thickness</th>\n",
       "      <th>Porosity</th>\n",
       "      <th>BMD</th>\n",
       "      <th>TMD</th>\n",
       "    </tr>\n",
       "    <tr>\n",
       "      <th>Location_Subregion</th>\n",
       "      <th>Month</th>\n",
       "      <th></th>\n",
       "      <th></th>\n",
       "      <th></th>\n",
       "      <th></th>\n",
       "    </tr>\n",
       "  </thead>\n",
       "  <tbody>\n",
       "    <tr>\n",
       "      <th rowspan=\"4\" valign=\"top\">LF_LAT</th>\n",
       "      <th>2</th>\n",
       "      <td>0.264433</td>\n",
       "      <td>0.271128</td>\n",
       "      <td>830.171873</td>\n",
       "      <td>1126.850705</td>\n",
       "    </tr>\n",
       "    <tr>\n",
       "      <th>3</th>\n",
       "      <td>0.278122</td>\n",
       "      <td>0.226171</td>\n",
       "      <td>976.601029</td>\n",
       "      <td>1245.122886</td>\n",
       "    </tr>\n",
       "    <tr>\n",
       "      <th>4</th>\n",
       "      <td>0.262183</td>\n",
       "      <td>0.247976</td>\n",
       "      <td>992.677057</td>\n",
       "      <td>1308.530352</td>\n",
       "    </tr>\n",
       "    <tr>\n",
       "      <th>5</th>\n",
       "      <td>0.275050</td>\n",
       "      <td>0.107868</td>\n",
       "      <td>1332.267236</td>\n",
       "      <td>1489.408897</td>\n",
       "    </tr>\n",
       "    <tr>\n",
       "      <th rowspan=\"4\" valign=\"top\">LF_MED</th>\n",
       "      <th>2</th>\n",
       "      <td>0.269609</td>\n",
       "      <td>0.283270</td>\n",
       "      <td>845.487915</td>\n",
       "      <td>1163.908181</td>\n",
       "    </tr>\n",
       "    <tr>\n",
       "      <th>3</th>\n",
       "      <td>0.271244</td>\n",
       "      <td>0.215228</td>\n",
       "      <td>980.750953</td>\n",
       "      <td>1255.785271</td>\n",
       "    </tr>\n",
       "    <tr>\n",
       "      <th>4</th>\n",
       "      <td>0.279067</td>\n",
       "      <td>0.228667</td>\n",
       "      <td>1043.914967</td>\n",
       "      <td>1343.246014</td>\n",
       "    </tr>\n",
       "    <tr>\n",
       "      <th>5</th>\n",
       "      <td>0.290450</td>\n",
       "      <td>0.110672</td>\n",
       "      <td>1370.880173</td>\n",
       "      <td>1537.177620</td>\n",
       "    </tr>\n",
       "    <tr>\n",
       "      <th rowspan=\"4\" valign=\"top\">LT_LAT</th>\n",
       "      <th>2</th>\n",
       "      <td>0.289018</td>\n",
       "      <td>0.234547</td>\n",
       "      <td>917.064821</td>\n",
       "      <td>1185.813002</td>\n",
       "    </tr>\n",
       "    <tr>\n",
       "      <th>3</th>\n",
       "      <td>0.296430</td>\n",
       "      <td>0.186222</td>\n",
       "      <td>1098.736339</td>\n",
       "      <td>1346.887039</td>\n",
       "    </tr>\n",
       "    <tr>\n",
       "      <th>4</th>\n",
       "      <td>0.314625</td>\n",
       "      <td>0.225391</td>\n",
       "      <td>1109.269619</td>\n",
       "      <td>1426.856501</td>\n",
       "    </tr>\n",
       "    <tr>\n",
       "      <th>5</th>\n",
       "      <td>0.272850</td>\n",
       "      <td>0.141185</td>\n",
       "      <td>1329.363924</td>\n",
       "      <td>1537.634690</td>\n",
       "    </tr>\n",
       "    <tr>\n",
       "      <th rowspan=\"4\" valign=\"top\">LT_MED</th>\n",
       "      <th>2</th>\n",
       "      <td>0.292758</td>\n",
       "      <td>0.253173</td>\n",
       "      <td>885.302437</td>\n",
       "      <td>1183.492300</td>\n",
       "    </tr>\n",
       "    <tr>\n",
       "      <th>3</th>\n",
       "      <td>0.299000</td>\n",
       "      <td>0.181875</td>\n",
       "      <td>1111.084457</td>\n",
       "      <td>1346.399970</td>\n",
       "    </tr>\n",
       "    <tr>\n",
       "      <th>4</th>\n",
       "      <td>0.310037</td>\n",
       "      <td>0.136779</td>\n",
       "      <td>1304.405398</td>\n",
       "      <td>1502.126387</td>\n",
       "    </tr>\n",
       "    <tr>\n",
       "      <th>5</th>\n",
       "      <td>0.264125</td>\n",
       "      <td>0.101400</td>\n",
       "      <td>1440.667600</td>\n",
       "      <td>1593.798422</td>\n",
       "    </tr>\n",
       "    <tr>\n",
       "      <th rowspan=\"4\" valign=\"top\">RF_LAT</th>\n",
       "      <th>2</th>\n",
       "      <td>0.244467</td>\n",
       "      <td>0.290413</td>\n",
       "      <td>786.738509</td>\n",
       "      <td>1096.735417</td>\n",
       "    </tr>\n",
       "    <tr>\n",
       "      <th>3</th>\n",
       "      <td>0.260138</td>\n",
       "      <td>0.207578</td>\n",
       "      <td>1033.919395</td>\n",
       "      <td>1290.978406</td>\n",
       "    </tr>\n",
       "    <tr>\n",
       "      <th>4</th>\n",
       "      <td>0.263667</td>\n",
       "      <td>0.217634</td>\n",
       "      <td>1072.467513</td>\n",
       "      <td>1355.885020</td>\n",
       "    </tr>\n",
       "    <tr>\n",
       "      <th>5</th>\n",
       "      <td>0.292325</td>\n",
       "      <td>0.093865</td>\n",
       "      <td>1469.265745</td>\n",
       "      <td>1615.129741</td>\n",
       "    </tr>\n",
       "    <tr>\n",
       "      <th rowspan=\"4\" valign=\"top\">RF_MED</th>\n",
       "      <th>2</th>\n",
       "      <td>0.262982</td>\n",
       "      <td>0.275742</td>\n",
       "      <td>821.288411</td>\n",
       "      <td>1122.564723</td>\n",
       "    </tr>\n",
       "    <tr>\n",
       "      <th>3</th>\n",
       "      <td>0.255578</td>\n",
       "      <td>0.218227</td>\n",
       "      <td>1022.890871</td>\n",
       "      <td>1290.272069</td>\n",
       "    </tr>\n",
       "    <tr>\n",
       "      <th>4</th>\n",
       "      <td>0.297214</td>\n",
       "      <td>0.194530</td>\n",
       "      <td>1160.220863</td>\n",
       "      <td>1418.729930</td>\n",
       "    </tr>\n",
       "    <tr>\n",
       "      <th>5</th>\n",
       "      <td>0.297550</td>\n",
       "      <td>0.098992</td>\n",
       "      <td>1445.065172</td>\n",
       "      <td>1600.576982</td>\n",
       "    </tr>\n",
       "    <tr>\n",
       "      <th rowspan=\"4\" valign=\"top\">RT_LAT</th>\n",
       "      <th>2</th>\n",
       "      <td>0.270758</td>\n",
       "      <td>0.224429</td>\n",
       "      <td>917.776131</td>\n",
       "      <td>1174.802687</td>\n",
       "    </tr>\n",
       "    <tr>\n",
       "      <th>3</th>\n",
       "      <td>0.312625</td>\n",
       "      <td>0.173756</td>\n",
       "      <td>1115.902787</td>\n",
       "      <td>1339.963575</td>\n",
       "    </tr>\n",
       "    <tr>\n",
       "      <th>4</th>\n",
       "      <td>0.298350</td>\n",
       "      <td>0.143232</td>\n",
       "      <td>1263.281060</td>\n",
       "      <td>1462.238900</td>\n",
       "    </tr>\n",
       "    <tr>\n",
       "      <th>5</th>\n",
       "      <td>0.321800</td>\n",
       "      <td>0.090060</td>\n",
       "      <td>1458.580769</td>\n",
       "      <td>1598.324085</td>\n",
       "    </tr>\n",
       "    <tr>\n",
       "      <th rowspan=\"4\" valign=\"top\">RT_MED</th>\n",
       "      <th>2</th>\n",
       "      <td>0.254827</td>\n",
       "      <td>0.215228</td>\n",
       "      <td>950.261890</td>\n",
       "      <td>1209.706454</td>\n",
       "    </tr>\n",
       "    <tr>\n",
       "      <th>3</th>\n",
       "      <td>0.282060</td>\n",
       "      <td>0.161351</td>\n",
       "      <td>1149.452705</td>\n",
       "      <td>1358.818105</td>\n",
       "    </tr>\n",
       "    <tr>\n",
       "      <th>4</th>\n",
       "      <td>0.304214</td>\n",
       "      <td>0.127025</td>\n",
       "      <td>1316.341588</td>\n",
       "      <td>1496.852401</td>\n",
       "    </tr>\n",
       "    <tr>\n",
       "      <th>5</th>\n",
       "      <td>0.349240</td>\n",
       "      <td>0.092595</td>\n",
       "      <td>1472.829618</td>\n",
       "      <td>1615.636406</td>\n",
       "    </tr>\n",
       "  </tbody>\n",
       "</table>\n",
       "</div>"
      ],
      "text/plain": [
       "                          Thickness  Porosity          BMD          TMD\n",
       "Location_Subregion Month                                               \n",
       "LF_LAT             2       0.264433  0.271128   830.171873  1126.850705\n",
       "                   3       0.278122  0.226171   976.601029  1245.122886\n",
       "                   4       0.262183  0.247976   992.677057  1308.530352\n",
       "                   5       0.275050  0.107868  1332.267236  1489.408897\n",
       "LF_MED             2       0.269609  0.283270   845.487915  1163.908181\n",
       "                   3       0.271244  0.215228   980.750953  1255.785271\n",
       "                   4       0.279067  0.228667  1043.914967  1343.246014\n",
       "                   5       0.290450  0.110672  1370.880173  1537.177620\n",
       "LT_LAT             2       0.289018  0.234547   917.064821  1185.813002\n",
       "                   3       0.296430  0.186222  1098.736339  1346.887039\n",
       "                   4       0.314625  0.225391  1109.269619  1426.856501\n",
       "                   5       0.272850  0.141185  1329.363924  1537.634690\n",
       "LT_MED             2       0.292758  0.253173   885.302437  1183.492300\n",
       "                   3       0.299000  0.181875  1111.084457  1346.399970\n",
       "                   4       0.310037  0.136779  1304.405398  1502.126387\n",
       "                   5       0.264125  0.101400  1440.667600  1593.798422\n",
       "RF_LAT             2       0.244467  0.290413   786.738509  1096.735417\n",
       "                   3       0.260138  0.207578  1033.919395  1290.978406\n",
       "                   4       0.263667  0.217634  1072.467513  1355.885020\n",
       "                   5       0.292325  0.093865  1469.265745  1615.129741\n",
       "RF_MED             2       0.262982  0.275742   821.288411  1122.564723\n",
       "                   3       0.255578  0.218227  1022.890871  1290.272069\n",
       "                   4       0.297214  0.194530  1160.220863  1418.729930\n",
       "                   5       0.297550  0.098992  1445.065172  1600.576982\n",
       "RT_LAT             2       0.270758  0.224429   917.776131  1174.802687\n",
       "                   3       0.312625  0.173756  1115.902787  1339.963575\n",
       "                   4       0.298350  0.143232  1263.281060  1462.238900\n",
       "                   5       0.321800  0.090060  1458.580769  1598.324085\n",
       "RT_MED             2       0.254827  0.215228   950.261890  1209.706454\n",
       "                   3       0.282060  0.161351  1149.452705  1358.818105\n",
       "                   4       0.304214  0.127025  1316.341588  1496.852401\n",
       "                   5       0.349240  0.092595  1472.829618  1615.636406"
      ]
     },
     "execution_count": 15,
     "metadata": {},
     "output_type": "execute_result"
    }
   ],
   "source": [
    "ITS_merge.groupby(['Location_Subregion', 'Month']).mean()"
   ]
  },
  {
   "cell_type": "code",
   "execution_count": 16,
   "id": "KI6QmdiPN9Zd",
   "metadata": {
    "colab": {
     "base_uri": "https://localhost:8080/",
     "height": 1000
    },
    "id": "KI6QmdiPN9Zd",
    "outputId": "de728f5f-a377-4df9-d50b-b90d2d30e542"
   },
   "outputs": [
    {
     "data": {
      "text/html": [
       "<div>\n",
       "<style scoped>\n",
       "    .dataframe tbody tr th:only-of-type {\n",
       "        vertical-align: middle;\n",
       "    }\n",
       "\n",
       "    .dataframe tbody tr th {\n",
       "        vertical-align: top;\n",
       "    }\n",
       "\n",
       "    .dataframe thead th {\n",
       "        text-align: right;\n",
       "    }\n",
       "</style>\n",
       "<table border=\"1\" class=\"dataframe\">\n",
       "  <thead>\n",
       "    <tr style=\"text-align: right;\">\n",
       "      <th></th>\n",
       "      <th></th>\n",
       "      <th>Thickness</th>\n",
       "      <th>Porosity</th>\n",
       "      <th>BMD</th>\n",
       "      <th>TMD</th>\n",
       "    </tr>\n",
       "    <tr>\n",
       "      <th>Location_Subregion</th>\n",
       "      <th>Month</th>\n",
       "      <th></th>\n",
       "      <th></th>\n",
       "      <th></th>\n",
       "      <th></th>\n",
       "    </tr>\n",
       "  </thead>\n",
       "  <tbody>\n",
       "    <tr>\n",
       "      <th rowspan=\"4\" valign=\"top\">LF_LAT</th>\n",
       "      <th>2</th>\n",
       "      <td>0.033127</td>\n",
       "      <td>0.050284</td>\n",
       "      <td>92.154818</td>\n",
       "      <td>65.109243</td>\n",
       "    </tr>\n",
       "    <tr>\n",
       "      <th>3</th>\n",
       "      <td>0.060071</td>\n",
       "      <td>0.075375</td>\n",
       "      <td>173.628080</td>\n",
       "      <td>122.030830</td>\n",
       "    </tr>\n",
       "    <tr>\n",
       "      <th>4</th>\n",
       "      <td>0.081358</td>\n",
       "      <td>0.057687</td>\n",
       "      <td>117.917149</td>\n",
       "      <td>65.789566</td>\n",
       "    </tr>\n",
       "    <tr>\n",
       "      <th>5</th>\n",
       "      <td>0.016476</td>\n",
       "      <td>0.024487</td>\n",
       "      <td>40.362403</td>\n",
       "      <td>27.322264</td>\n",
       "    </tr>\n",
       "    <tr>\n",
       "      <th rowspan=\"4\" valign=\"top\">LF_MED</th>\n",
       "      <th>2</th>\n",
       "      <td>0.043252</td>\n",
       "      <td>0.054764</td>\n",
       "      <td>133.690941</td>\n",
       "      <td>115.676341</td>\n",
       "    </tr>\n",
       "    <tr>\n",
       "      <th>3</th>\n",
       "      <td>0.040794</td>\n",
       "      <td>0.048463</td>\n",
       "      <td>118.368126</td>\n",
       "      <td>104.535921</td>\n",
       "    </tr>\n",
       "    <tr>\n",
       "      <th>4</th>\n",
       "      <td>0.066200</td>\n",
       "      <td>0.055686</td>\n",
       "      <td>114.001464</td>\n",
       "      <td>62.344745</td>\n",
       "    </tr>\n",
       "    <tr>\n",
       "      <th>5</th>\n",
       "      <td>0.039810</td>\n",
       "      <td>0.023693</td>\n",
       "      <td>70.670043</td>\n",
       "      <td>69.138672</td>\n",
       "    </tr>\n",
       "    <tr>\n",
       "      <th rowspan=\"4\" valign=\"top\">LT_LAT</th>\n",
       "      <th>2</th>\n",
       "      <td>0.057631</td>\n",
       "      <td>0.046602</td>\n",
       "      <td>103.999149</td>\n",
       "      <td>67.845386</td>\n",
       "    </tr>\n",
       "    <tr>\n",
       "      <th>3</th>\n",
       "      <td>0.075153</td>\n",
       "      <td>0.055074</td>\n",
       "      <td>184.883410</td>\n",
       "      <td>148.929474</td>\n",
       "    </tr>\n",
       "    <tr>\n",
       "      <th>4</th>\n",
       "      <td>0.055018</td>\n",
       "      <td>0.152476</td>\n",
       "      <td>226.149718</td>\n",
       "      <td>103.898410</td>\n",
       "    </tr>\n",
       "    <tr>\n",
       "      <th>5</th>\n",
       "      <td>0.054657</td>\n",
       "      <td>0.061415</td>\n",
       "      <td>200.760678</td>\n",
       "      <td>157.945303</td>\n",
       "    </tr>\n",
       "    <tr>\n",
       "      <th rowspan=\"4\" valign=\"top\">LT_MED</th>\n",
       "      <th>2</th>\n",
       "      <td>0.047007</td>\n",
       "      <td>0.110465</td>\n",
       "      <td>162.948550</td>\n",
       "      <td>62.599065</td>\n",
       "    </tr>\n",
       "    <tr>\n",
       "      <th>3</th>\n",
       "      <td>0.044429</td>\n",
       "      <td>0.059123</td>\n",
       "      <td>173.845689</td>\n",
       "      <td>124.998626</td>\n",
       "    </tr>\n",
       "    <tr>\n",
       "      <th>4</th>\n",
       "      <td>0.043658</td>\n",
       "      <td>0.042213</td>\n",
       "      <td>172.841455</td>\n",
       "      <td>127.682892</td>\n",
       "    </tr>\n",
       "    <tr>\n",
       "      <th>5</th>\n",
       "      <td>0.040403</td>\n",
       "      <td>0.050500</td>\n",
       "      <td>218.413488</td>\n",
       "      <td>162.700738</td>\n",
       "    </tr>\n",
       "    <tr>\n",
       "      <th rowspan=\"4\" valign=\"top\">RF_LAT</th>\n",
       "      <th>2</th>\n",
       "      <td>0.048612</td>\n",
       "      <td>0.060787</td>\n",
       "      <td>109.515915</td>\n",
       "      <td>70.105080</td>\n",
       "    </tr>\n",
       "    <tr>\n",
       "      <th>3</th>\n",
       "      <td>0.050852</td>\n",
       "      <td>0.055729</td>\n",
       "      <td>174.949920</td>\n",
       "      <td>140.848541</td>\n",
       "    </tr>\n",
       "    <tr>\n",
       "      <th>4</th>\n",
       "      <td>0.069964</td>\n",
       "      <td>0.068097</td>\n",
       "      <td>191.229426</td>\n",
       "      <td>139.635768</td>\n",
       "    </tr>\n",
       "    <tr>\n",
       "      <th>5</th>\n",
       "      <td>0.030194</td>\n",
       "      <td>0.024559</td>\n",
       "      <td>202.928602</td>\n",
       "      <td>183.131533</td>\n",
       "    </tr>\n",
       "    <tr>\n",
       "      <th rowspan=\"4\" valign=\"top\">RF_MED</th>\n",
       "      <th>2</th>\n",
       "      <td>0.056894</td>\n",
       "      <td>0.045161</td>\n",
       "      <td>77.887256</td>\n",
       "      <td>47.424308</td>\n",
       "    </tr>\n",
       "    <tr>\n",
       "      <th>3</th>\n",
       "      <td>0.088685</td>\n",
       "      <td>0.077450</td>\n",
       "      <td>205.538758</td>\n",
       "      <td>146.485450</td>\n",
       "    </tr>\n",
       "    <tr>\n",
       "      <th>4</th>\n",
       "      <td>0.087268</td>\n",
       "      <td>0.082956</td>\n",
       "      <td>265.127394</td>\n",
       "      <td>190.825266</td>\n",
       "    </tr>\n",
       "    <tr>\n",
       "      <th>5</th>\n",
       "      <td>0.017828</td>\n",
       "      <td>0.016900</td>\n",
       "      <td>104.589733</td>\n",
       "      <td>110.771273</td>\n",
       "    </tr>\n",
       "    <tr>\n",
       "      <th rowspan=\"4\" valign=\"top\">RT_LAT</th>\n",
       "      <th>2</th>\n",
       "      <td>0.058457</td>\n",
       "      <td>0.044505</td>\n",
       "      <td>77.605224</td>\n",
       "      <td>47.350000</td>\n",
       "    </tr>\n",
       "    <tr>\n",
       "      <th>3</th>\n",
       "      <td>0.064184</td>\n",
       "      <td>0.049856</td>\n",
       "      <td>154.104272</td>\n",
       "      <td>108.284323</td>\n",
       "    </tr>\n",
       "    <tr>\n",
       "      <th>4</th>\n",
       "      <td>0.030713</td>\n",
       "      <td>0.049091</td>\n",
       "      <td>214.821075</td>\n",
       "      <td>161.604886</td>\n",
       "    </tr>\n",
       "    <tr>\n",
       "      <th>5</th>\n",
       "      <td>0.051300</td>\n",
       "      <td>0.019279</td>\n",
       "      <td>121.683956</td>\n",
       "      <td>108.476157</td>\n",
       "    </tr>\n",
       "    <tr>\n",
       "      <th rowspan=\"4\" valign=\"top\">RT_MED</th>\n",
       "      <th>2</th>\n",
       "      <td>0.052212</td>\n",
       "      <td>0.046568</td>\n",
       "      <td>77.855483</td>\n",
       "      <td>49.818781</td>\n",
       "    </tr>\n",
       "    <tr>\n",
       "      <th>3</th>\n",
       "      <td>0.057623</td>\n",
       "      <td>0.062070</td>\n",
       "      <td>179.431536</td>\n",
       "      <td>119.410521</td>\n",
       "    </tr>\n",
       "    <tr>\n",
       "      <th>4</th>\n",
       "      <td>0.048421</td>\n",
       "      <td>0.057218</td>\n",
       "      <td>217.878306</td>\n",
       "      <td>162.694239</td>\n",
       "    </tr>\n",
       "    <tr>\n",
       "      <th>5</th>\n",
       "      <td>0.071244</td>\n",
       "      <td>0.035292</td>\n",
       "      <td>185.236463</td>\n",
       "      <td>148.963961</td>\n",
       "    </tr>\n",
       "  </tbody>\n",
       "</table>\n",
       "</div>"
      ],
      "text/plain": [
       "                          Thickness  Porosity         BMD         TMD\n",
       "Location_Subregion Month                                             \n",
       "LF_LAT             2       0.033127  0.050284   92.154818   65.109243\n",
       "                   3       0.060071  0.075375  173.628080  122.030830\n",
       "                   4       0.081358  0.057687  117.917149   65.789566\n",
       "                   5       0.016476  0.024487   40.362403   27.322264\n",
       "LF_MED             2       0.043252  0.054764  133.690941  115.676341\n",
       "                   3       0.040794  0.048463  118.368126  104.535921\n",
       "                   4       0.066200  0.055686  114.001464   62.344745\n",
       "                   5       0.039810  0.023693   70.670043   69.138672\n",
       "LT_LAT             2       0.057631  0.046602  103.999149   67.845386\n",
       "                   3       0.075153  0.055074  184.883410  148.929474\n",
       "                   4       0.055018  0.152476  226.149718  103.898410\n",
       "                   5       0.054657  0.061415  200.760678  157.945303\n",
       "LT_MED             2       0.047007  0.110465  162.948550   62.599065\n",
       "                   3       0.044429  0.059123  173.845689  124.998626\n",
       "                   4       0.043658  0.042213  172.841455  127.682892\n",
       "                   5       0.040403  0.050500  218.413488  162.700738\n",
       "RF_LAT             2       0.048612  0.060787  109.515915   70.105080\n",
       "                   3       0.050852  0.055729  174.949920  140.848541\n",
       "                   4       0.069964  0.068097  191.229426  139.635768\n",
       "                   5       0.030194  0.024559  202.928602  183.131533\n",
       "RF_MED             2       0.056894  0.045161   77.887256   47.424308\n",
       "                   3       0.088685  0.077450  205.538758  146.485450\n",
       "                   4       0.087268  0.082956  265.127394  190.825266\n",
       "                   5       0.017828  0.016900  104.589733  110.771273\n",
       "RT_LAT             2       0.058457  0.044505   77.605224   47.350000\n",
       "                   3       0.064184  0.049856  154.104272  108.284323\n",
       "                   4       0.030713  0.049091  214.821075  161.604886\n",
       "                   5       0.051300  0.019279  121.683956  108.476157\n",
       "RT_MED             2       0.052212  0.046568   77.855483   49.818781\n",
       "                   3       0.057623  0.062070  179.431536  119.410521\n",
       "                   4       0.048421  0.057218  217.878306  162.694239\n",
       "                   5       0.071244  0.035292  185.236463  148.963961"
      ]
     },
     "execution_count": 16,
     "metadata": {},
     "output_type": "execute_result"
    }
   ],
   "source": [
    "ITS_merge.groupby(['Location_Subregion', 'Month']).std()"
   ]
  },
  {
   "cell_type": "markdown",
   "id": "JkKmCcrlwqU2",
   "metadata": {
    "id": "JkKmCcrlwqU2",
    "tags": [],
    "toc-hr-collapsed": true
   },
   "source": [
    "### Add code to save merged dataframe and can start with that"
   ]
  },
  {
   "cell_type": "markdown",
   "id": "YV39FnO3N4Rt",
   "metadata": {
    "id": "YV39FnO3N4Rt",
    "tags": [],
    "toc-hr-collapsed": true
   },
   "source": [
    "## Filter by individual GP"
   ]
  },
  {
   "cell_type": "code",
   "execution_count": 137,
   "id": "k4TdBE8c2ceA",
   "metadata": {
    "id": "k4TdBE8c2ceA"
   },
   "outputs": [],
   "source": [
    "def label_cohort (row):\n",
    "   if row['GP'] == 'GP_10':\n",
    "      return 5\n",
    "   if row['GP'] == 'GP_11':\n",
    "      return 5\n",
    "   if row['GP'] == 'GP_12':\n",
    "      return 5\n",
    "   if row['GP'] == 'GP_13':\n",
    "      return 4\n",
    "   if row['GP'] == 'GP_14':\n",
    "      return 4\n",
    "   if row['GP'] == 'GP_15':\n",
    "      return 4\n",
    "   if row['GP'] == 'GP_8':\n",
    "      return 3\n",
    "   if row['GP'] == 'GP_9':\n",
    "      return 3\n",
    "   if row['GP'] == 'GP_16':\n",
    "      return 3\n",
    "   if row['GP'] == 'GP_17':\n",
    "      return 3\n",
    "   return 0"
   ]
  },
  {
   "cell_type": "code",
   "execution_count": 138,
   "id": "KEk6W73m5U_8",
   "metadata": {
    "id": "KEk6W73m5U_8"
   },
   "outputs": [],
   "source": [
    "ITS_merge['Cohort'] = ITS_merge.apply(lambda row: label_cohort(row), axis=1)"
   ]
  },
  {
   "cell_type": "code",
   "execution_count": 139,
   "id": "3Lf2x7P0NIdR",
   "metadata": {
    "id": "3Lf2x7P0NIdR"
   },
   "outputs": [],
   "source": [
    "ITS_merge['GP_Location_Subregion'] = ITS_merge['GP'] + '_' + ITS_merge['Location_Subregion']"
   ]
  },
  {
   "cell_type": "code",
   "execution_count": 140,
   "id": "yavYrrZqN0ve",
   "metadata": {
    "id": "yavYrrZqN0ve"
   },
   "outputs": [],
   "source": [
    "ITS_erode_RT_MED = ITS_merge[(ITS_merge.Location_Subregion == \"RT_MED\")]"
   ]
  },
  {
   "cell_type": "code",
   "execution_count": 141,
   "id": "WSlFbslgRpOO",
   "metadata": {
    "colab": {
     "base_uri": "https://localhost:8080/",
     "height": 905
    },
    "id": "WSlFbslgRpOO",
    "outputId": "4cf11a20-f35d-49fe-c3ae-f2a6f83a8624"
   },
   "outputs": [
    {
     "data": {
      "text/html": [
       "<div>\n",
       "<style scoped>\n",
       "    .dataframe tbody tr th:only-of-type {\n",
       "        vertical-align: middle;\n",
       "    }\n",
       "\n",
       "    .dataframe tbody tr th {\n",
       "        vertical-align: top;\n",
       "    }\n",
       "\n",
       "    .dataframe thead th {\n",
       "        text-align: right;\n",
       "    }\n",
       "</style>\n",
       "<table border=\"1\" class=\"dataframe\">\n",
       "  <thead>\n",
       "    <tr style=\"text-align: right;\">\n",
       "      <th></th>\n",
       "      <th></th>\n",
       "      <th>Thickness</th>\n",
       "      <th>Porosity</th>\n",
       "      <th>BMD</th>\n",
       "      <th>TMD</th>\n",
       "      <th>Cohort</th>\n",
       "    </tr>\n",
       "    <tr>\n",
       "      <th>GP</th>\n",
       "      <th>Month</th>\n",
       "      <th></th>\n",
       "      <th></th>\n",
       "      <th></th>\n",
       "      <th></th>\n",
       "      <th></th>\n",
       "    </tr>\n",
       "  </thead>\n",
       "  <tbody>\n",
       "    <tr>\n",
       "      <th rowspan=\"4\" valign=\"top\">GP_10</th>\n",
       "      <th>2</th>\n",
       "      <td>0.1446</td>\n",
       "      <td>0.193494</td>\n",
       "      <td>982.034077</td>\n",
       "      <td>1211.728012</td>\n",
       "      <td>5</td>\n",
       "    </tr>\n",
       "    <tr>\n",
       "      <th>3</th>\n",
       "      <td>0.2976</td>\n",
       "      <td>0.220531</td>\n",
       "      <td>992.584060</td>\n",
       "      <td>1266.438423</td>\n",
       "      <td>5</td>\n",
       "    </tr>\n",
       "    <tr>\n",
       "      <th>4</th>\n",
       "      <td>0.3243</td>\n",
       "      <td>0.221924</td>\n",
       "      <td>1044.528148</td>\n",
       "      <td>1335.421439</td>\n",
       "      <td>5</td>\n",
       "    </tr>\n",
       "    <tr>\n",
       "      <th>5</th>\n",
       "      <td>0.2374</td>\n",
       "      <td>0.069232</td>\n",
       "      <td>1679.945869</td>\n",
       "      <td>1803.069656</td>\n",
       "      <td>5</td>\n",
       "    </tr>\n",
       "    <tr>\n",
       "      <th rowspan=\"3\" valign=\"top\">GP_11</th>\n",
       "      <th>3</th>\n",
       "      <td>0.3102</td>\n",
       "      <td>0.145073</td>\n",
       "      <td>1155.866665</td>\n",
       "      <td>1347.825076</td>\n",
       "      <td>5</td>\n",
       "    </tr>\n",
       "    <tr>\n",
       "      <th>4</th>\n",
       "      <td>0.2750</td>\n",
       "      <td>0.171932</td>\n",
       "      <td>1161.073406</td>\n",
       "      <td>1397.031073</td>\n",
       "      <td>5</td>\n",
       "    </tr>\n",
       "    <tr>\n",
       "      <th>5</th>\n",
       "      <td>0.1901</td>\n",
       "      <td>0.120319</td>\n",
       "      <td>1517.626240</td>\n",
       "      <td>1721.830562</td>\n",
       "      <td>5</td>\n",
       "    </tr>\n",
       "    <tr>\n",
       "      <th rowspan=\"4\" valign=\"top\">GP_12</th>\n",
       "      <th>2</th>\n",
       "      <td>0.2260</td>\n",
       "      <td>0.165613</td>\n",
       "      <td>NaN</td>\n",
       "      <td>NaN</td>\n",
       "      <td>5</td>\n",
       "    </tr>\n",
       "    <tr>\n",
       "      <th>3</th>\n",
       "      <td>0.2503</td>\n",
       "      <td>0.238783</td>\n",
       "      <td>947.348096</td>\n",
       "      <td>1236.786998</td>\n",
       "      <td>5</td>\n",
       "    </tr>\n",
       "    <tr>\n",
       "      <th>4</th>\n",
       "      <td>0.3041</td>\n",
       "      <td>0.119437</td>\n",
       "      <td>NaN</td>\n",
       "      <td>NaN</td>\n",
       "      <td>5</td>\n",
       "    </tr>\n",
       "    <tr>\n",
       "      <th>5</th>\n",
       "      <td>0.2956</td>\n",
       "      <td>0.040218</td>\n",
       "      <td>1654.722103</td>\n",
       "      <td>1722.293739</td>\n",
       "      <td>5</td>\n",
       "    </tr>\n",
       "  </tbody>\n",
       "</table>\n",
       "</div>"
      ],
      "text/plain": [
       "             Thickness  Porosity          BMD          TMD  Cohort\n",
       "GP    Month                                                       \n",
       "GP_10 2         0.1446  0.193494   982.034077  1211.728012       5\n",
       "      3         0.2976  0.220531   992.584060  1266.438423       5\n",
       "      4         0.3243  0.221924  1044.528148  1335.421439       5\n",
       "      5         0.2374  0.069232  1679.945869  1803.069656       5\n",
       "GP_11 3         0.3102  0.145073  1155.866665  1347.825076       5\n",
       "      4         0.2750  0.171932  1161.073406  1397.031073       5\n",
       "      5         0.1901  0.120319  1517.626240  1721.830562       5\n",
       "GP_12 2         0.2260  0.165613          NaN          NaN       5\n",
       "      3         0.2503  0.238783   947.348096  1236.786998       5\n",
       "      4         0.3041  0.119437          NaN          NaN       5\n",
       "      5         0.2956  0.040218  1654.722103  1722.293739       5"
      ]
     },
     "execution_count": 141,
     "metadata": {},
     "output_type": "execute_result"
    }
   ],
   "source": [
    "ITS_erode_RT_MED.groupby(['GP', 'Month']).mean()"
   ]
  },
  {
   "cell_type": "code",
   "execution_count": 142,
   "id": "OEBQa5WeKpb5",
   "metadata": {
    "colab": {
     "base_uri": "https://localhost:8080/",
     "height": 394
    },
    "id": "OEBQa5WeKpb5",
    "outputId": "6002bc10-1d00-4be4-9987-cf833a3b816b"
   },
   "outputs": [
    {
     "data": {
      "text/html": [
       "<div>\n",
       "<style scoped>\n",
       "    .dataframe tbody tr th:only-of-type {\n",
       "        vertical-align: middle;\n",
       "    }\n",
       "\n",
       "    .dataframe tbody tr th {\n",
       "        vertical-align: top;\n",
       "    }\n",
       "\n",
       "    .dataframe thead th {\n",
       "        text-align: right;\n",
       "    }\n",
       "</style>\n",
       "<table border=\"1\" class=\"dataframe\">\n",
       "  <thead>\n",
       "    <tr style=\"text-align: right;\">\n",
       "      <th></th>\n",
       "      <th></th>\n",
       "      <th>Thickness</th>\n",
       "      <th>Porosity</th>\n",
       "      <th>BMD</th>\n",
       "      <th>TMD</th>\n",
       "    </tr>\n",
       "    <tr>\n",
       "      <th>Cohort</th>\n",
       "      <th>Month</th>\n",
       "      <th></th>\n",
       "      <th></th>\n",
       "      <th></th>\n",
       "      <th></th>\n",
       "    </tr>\n",
       "  </thead>\n",
       "  <tbody>\n",
       "    <tr>\n",
       "      <th rowspan=\"4\" valign=\"top\">5</th>\n",
       "      <th>2</th>\n",
       "      <td>0.185300</td>\n",
       "      <td>0.179554</td>\n",
       "      <td>982.034077</td>\n",
       "      <td>1211.728012</td>\n",
       "    </tr>\n",
       "    <tr>\n",
       "      <th>3</th>\n",
       "      <td>0.286033</td>\n",
       "      <td>0.201462</td>\n",
       "      <td>1031.932940</td>\n",
       "      <td>1283.683499</td>\n",
       "    </tr>\n",
       "    <tr>\n",
       "      <th>4</th>\n",
       "      <td>0.301133</td>\n",
       "      <td>0.171098</td>\n",
       "      <td>1102.800777</td>\n",
       "      <td>1366.226256</td>\n",
       "    </tr>\n",
       "    <tr>\n",
       "      <th>5</th>\n",
       "      <td>0.241033</td>\n",
       "      <td>0.076590</td>\n",
       "      <td>1617.431404</td>\n",
       "      <td>1749.064652</td>\n",
       "    </tr>\n",
       "  </tbody>\n",
       "</table>\n",
       "</div>"
      ],
      "text/plain": [
       "              Thickness  Porosity          BMD          TMD\n",
       "Cohort Month                                               \n",
       "5      2       0.185300  0.179554   982.034077  1211.728012\n",
       "       3       0.286033  0.201462  1031.932940  1283.683499\n",
       "       4       0.301133  0.171098  1102.800777  1366.226256\n",
       "       5       0.241033  0.076590  1617.431404  1749.064652"
      ]
     },
     "execution_count": 142,
     "metadata": {},
     "output_type": "execute_result"
    }
   ],
   "source": [
    "ITS_erode_RT_MED.groupby(['Cohort', 'Month']).mean()"
   ]
  },
  {
   "cell_type": "code",
   "execution_count": 143,
   "id": "P4Z2Q3gdK5k-",
   "metadata": {
    "colab": {
     "base_uri": "https://localhost:8080/"
    },
    "id": "P4Z2Q3gdK5k-",
    "outputId": "6035a257-51d7-40c9-9b8b-3d091608b6ef"
   },
   "outputs": [
    {
     "name": "stderr",
     "output_type": "stream",
     "text": [
      "D:\\Anaconda3\\lib\\site-packages\\scipy\\stats\\_stats_py.py:3630: F_onewayBadInputSizesWarning: at least one input has length 0\n",
      "  warnings.warn(F_onewayBadInputSizesWarning('at least one input '\n"
     ]
    },
    {
     "data": {
      "text/plain": [
       "F_onewayResult(statistic=nan, pvalue=nan)"
      ]
     },
     "execution_count": 143,
     "metadata": {},
     "output_type": "execute_result"
    }
   ],
   "source": [
    "import scipy.stats as stats\n",
    "\n",
    "stats.f_oneway(ITS_erode_RT_MED['Thickness'][ITS_erode_RT_MED['Cohort'] == 3],\n",
    "               ITS_erode_RT_MED['Thickness'][ITS_erode_RT_MED['Cohort'] == 4],\n",
    "               ITS_erode_RT_MED['Thickness'][ITS_erode_RT_MED['Cohort'] == 5])"
   ]
  },
  {
   "cell_type": "code",
   "execution_count": 144,
   "id": "U5QPn3OOLYvd",
   "metadata": {
    "colab": {
     "base_uri": "https://localhost:8080/"
    },
    "id": "U5QPn3OOLYvd",
    "outputId": "9b1fc5d8-ef31-4c9e-9a18-aa0533fce534"
   },
   "outputs": [
    {
     "name": "stderr",
     "output_type": "stream",
     "text": [
      "D:\\Anaconda3\\lib\\site-packages\\scipy\\stats\\_stats_py.py:3630: F_onewayBadInputSizesWarning: at least one input has length 0\n",
      "  warnings.warn(F_onewayBadInputSizesWarning('at least one input '\n"
     ]
    },
    {
     "data": {
      "text/plain": [
       "F_onewayResult(statistic=nan, pvalue=nan)"
      ]
     },
     "execution_count": 144,
     "metadata": {},
     "output_type": "execute_result"
    }
   ],
   "source": [
    "stats.f_oneway(ITS_erode_RT_MED['Porosity'][ITS_erode_RT_MED['Cohort'] == 3],\n",
    "               ITS_erode_RT_MED['Porosity'][ITS_erode_RT_MED['Cohort'] == 4],\n",
    "               ITS_erode_RT_MED['Porosity'][ITS_erode_RT_MED['Cohort'] == 5])"
   ]
  },
  {
   "cell_type": "code",
   "execution_count": 145,
   "id": "R_Zf-GydSNi2",
   "metadata": {
    "colab": {
     "base_uri": "https://localhost:8080/"
    },
    "id": "R_Zf-GydSNi2",
    "outputId": "7534e245-f5d4-4f77-9e1b-56def7b09baf"
   },
   "outputs": [
    {
     "name": "stderr",
     "output_type": "stream",
     "text": [
      "D:\\Anaconda3\\lib\\site-packages\\scipy\\stats\\_stats_py.py:3630: F_onewayBadInputSizesWarning: at least one input has length 0\n",
      "  warnings.warn(F_onewayBadInputSizesWarning('at least one input '\n"
     ]
    },
    {
     "data": {
      "text/plain": [
       "F_onewayResult(statistic=nan, pvalue=nan)"
      ]
     },
     "execution_count": 145,
     "metadata": {},
     "output_type": "execute_result"
    }
   ],
   "source": [
    "stats.f_oneway(ITS_erode_RT_MED['TMD'][ITS_erode_RT_MED['Cohort'] == 3],\n",
    "               ITS_erode_RT_MED['TMD'][ITS_erode_RT_MED['Cohort'] == 4],\n",
    "               ITS_erode_RT_MED['TMD'][ITS_erode_RT_MED['Cohort'] == 5])"
   ]
  },
  {
   "cell_type": "code",
   "execution_count": 146,
   "id": "C474ETZGSSdh",
   "metadata": {
    "colab": {
     "base_uri": "https://localhost:8080/"
    },
    "id": "C474ETZGSSdh",
    "outputId": "0f8d9a15-b930-4014-ad1f-5cb017efc0a7"
   },
   "outputs": [
    {
     "name": "stderr",
     "output_type": "stream",
     "text": [
      "D:\\Anaconda3\\lib\\site-packages\\scipy\\stats\\_stats_py.py:3630: F_onewayBadInputSizesWarning: at least one input has length 0\n",
      "  warnings.warn(F_onewayBadInputSizesWarning('at least one input '\n"
     ]
    },
    {
     "data": {
      "text/plain": [
       "F_onewayResult(statistic=nan, pvalue=nan)"
      ]
     },
     "execution_count": 146,
     "metadata": {},
     "output_type": "execute_result"
    }
   ],
   "source": [
    "stats.f_oneway(ITS_erode_RT_MED['BMD'][ITS_erode_RT_MED['Cohort'] == 3],\n",
    "               ITS_erode_RT_MED['BMD'][ITS_erode_RT_MED['Cohort'] == 4],\n",
    "               ITS_erode_RT_MED['BMD'][ITS_erode_RT_MED['Cohort'] == 5])"
   ]
  },
  {
   "cell_type": "markdown",
   "id": "GI0xYtBkkpQd",
   "metadata": {
    "id": "GI0xYtBkkpQd",
    "tags": [],
    "toc-hr-collapsed": true
   },
   "source": [
    "# Cartilage thickness"
   ]
  },
  {
   "cell_type": "code",
   "execution_count": null,
   "id": "UXlFmEoAvL-S",
   "metadata": {
    "id": "UXlFmEoAvL-S"
   },
   "outputs": [],
   "source": [
    "GP_measurements = pd.read_csv(DATA /'gp_measurements.txt', header = None, sep = '\\t')\n",
    "GP_measurements.columns = ['GP','Sample','ID']"
   ]
  },
  {
   "cell_type": "code",
   "execution_count": null,
   "id": "rQjjn_mZvffg",
   "metadata": {
    "id": "rQjjn_mZvffg"
   },
   "outputs": [],
   "source": [
    "GP_cartilage_thickness= pd.read_csv(DATA /'gp_cartilage_thickness.txt', header = None, sep = '\\t')\n",
    "GP_cartilage_thickness.columns = ['Sample','Cart_LAT_thickness','Cart_MED_thickness']"
   ]
  },
  {
   "cell_type": "code",
   "execution_count": null,
   "id": "v-H2nwcxvz4D",
   "metadata": {
    "id": "v-H2nwcxvz4D"
   },
   "outputs": [],
   "source": [
    "GP_merge = pd.merge(GP_cartilage_thickness, GP_measurements, left_on = 'Sample', right_on = 'Sample')\n",
    "GP_merge.head()"
   ]
  },
  {
   "cell_type": "code",
   "execution_count": null,
   "id": "UBIbtLTwzbfZ",
   "metadata": {
    "id": "UBIbtLTwzbfZ"
   },
   "outputs": [],
   "source": [
    "ITS_erode_merge = pd.merge(ITS_erode_merge, GP_merge, left_on = 'ID', right_on = 'ID')\n",
    "ITS_erode_merge.head()"
   ]
  },
  {
   "cell_type": "code",
   "execution_count": null,
   "id": "cg4S4DRerx40",
   "metadata": {
    "id": "cg4S4DRerx40"
   },
   "outputs": [],
   "source": [
    "ITS_erode_merge.to_csv(DATA /'GP_right.txt', sep = '\\t')"
   ]
  },
  {
   "cell_type": "code",
   "execution_count": null,
   "id": "PnHJZ5tc0lue",
   "metadata": {
    "id": "PnHJZ5tc0lue"
   },
   "outputs": [],
   "source": [
    "ax = sns.barplot(data = ITS_erode_merge, x='Location_Subregion', y='Cart_LAT_thickness', hue='Month', estimator=np.mean, ci = 68, capsize=.2)\n",
    "ax.legend_.remove()\n",
    "pairs=[('RF_LAT', 'RF_MED'), ('RF_LAT', 'RT_LAT'), ('RF_LAT', 'RT_MED'),('RF_MED',  'RT_LAT'), ('RF_MED', 'RT_MED'), ('RT_LAT', 'RT_MED')]\n",
    "\n",
    "annotator = Annotator(ax, pairs, data=ITS_erode_merge, x='Location_Subregion', y='Cart_LAT_thickness')\n",
    "annotator.configure(test='t-test_paired', text_format='star', loc='outside')\n",
    "#annotator.apply_and_annotate()"
   ]
  },
  {
   "cell_type": "markdown",
   "id": "8Nva5BYxjkJR",
   "metadata": {
    "id": "8Nva5BYxjkJR",
    "tags": [],
    "toc-hr-collapsed": true
   },
   "source": [
    "# Statistical Analysis"
   ]
  },
  {
   "cell_type": "code",
   "execution_count": null,
   "id": "g0MEeJ-zhj5f",
   "metadata": {
    "colab": {
     "base_uri": "https://localhost:8080/"
    },
    "id": "g0MEeJ-zhj5f",
    "outputId": "3d195ef1-3b7d-4e64-e418-01b1a71bea50"
   },
   "outputs": [],
   "source": [
    "print(pg.normality(ITS_erode_merge))"
   ]
  },
  {
   "cell_type": "markdown",
   "id": "FmJx-WlpH2Yc",
   "metadata": {
    "id": "FmJx-WlpH2Yc"
   },
   "source": [
    "## Longitudinal Analyses"
   ]
  },
  {
   "cell_type": "code",
   "execution_count": null,
   "id": "FP8fgCdcjmj4",
   "metadata": {
    "colab": {
     "base_uri": "https://localhost:8080/"
    },
    "id": "FP8fgCdcjmj4",
    "outputId": "930e51eb-3f31-41e9-a90d-ad172d28794d"
   },
   "outputs": [],
   "source": [
    "ITS_erode_merge.rm_anova(dv='PR_ratio',\n",
    "                  within=['Location_Subregion', 'Month'],\n",
    "                  subject='GP', detailed = False)"
   ]
  },
  {
   "cell_type": "code",
   "execution_count": null,
   "id": "uT1aGwO5Qwlq",
   "metadata": {
    "colab": {
     "base_uri": "https://localhost:8080/"
    },
    "id": "uT1aGwO5Qwlq",
    "outputId": "b946f652-53e7-4ffb-8d97-bd6213f640d9"
   },
   "outputs": [],
   "source": [
    "post_hocs = pg.pairwise_ttests(dv='PR_ratio',\n",
    "                  within=['Location_Subregion', 'Month'],\n",
    "                  subject='GP', padjust='sidak', data = ITS_erode_merge)\n",
    "post_hocs"
   ]
  },
  {
   "cell_type": "code",
   "execution_count": null,
   "id": "ikTm8SLOS1aV",
   "metadata": {
    "id": "ikTm8SLOS1aV"
   },
   "outputs": [],
   "source": [
    "ITS_erode_merge.rm_anova(dv='rTb_N',\n",
    "                  within=['Location_Subregion', 'Month'],\n",
    "                  subject='GP', detailed = False)"
   ]
  },
  {
   "cell_type": "code",
   "execution_count": null,
   "id": "3l5gjlJDS72c",
   "metadata": {
    "id": "3l5gjlJDS72c"
   },
   "outputs": [],
   "source": [
    "post_hocs = pg.pairwise_ttests(dv='rTb_N',\n",
    "                  within=['Location_Subregion', 'Month'],\n",
    "                  subject='GP', padjust='BH', data = ITS_erode_merge)\n",
    "post_hocs"
   ]
  },
  {
   "cell_type": "code",
   "execution_count": null,
   "id": "P3T3SMKzTIs6",
   "metadata": {
    "id": "P3T3SMKzTIs6"
   },
   "outputs": [],
   "source": [
    "ITS_erode_merge.rm_anova(dv='pTb_Th',\n",
    "                  within=['Location_Subregion', 'Month'],\n",
    "                  subject='GP', detailed = False)"
   ]
  },
  {
   "cell_type": "code",
   "execution_count": null,
   "id": "qbiEyCEATLfS",
   "metadata": {
    "id": "qbiEyCEATLfS"
   },
   "outputs": [],
   "source": [
    "post_hocs = pg.pairwise_ttests(dv='pTb_Th',\n",
    "                  within=['Location_Subregion', 'Month'],\n",
    "                  subject='GP', padjust='bonferroni', data = ITS_erode_merge)\n",
    "post_hocs"
   ]
  },
  {
   "cell_type": "markdown",
   "id": "AYwiOOo3H5aa",
   "metadata": {
    "id": "AYwiOOo3H5aa"
   },
   "source": [
    "## Cross-sectional Analyses"
   ]
  },
  {
   "cell_type": "code",
   "execution_count": null,
   "id": "L5mlZfVWH7pS",
   "metadata": {
    "id": "L5mlZfVWH7pS"
   },
   "outputs": [],
   "source": [
    "PR_model = ols('PR_ratio ~ C(Location_Subregion) + C(Month) + C(Location_Subregion):C(Month)', data=ITS_erode_merge).fit()\n",
    "\n",
    "sm.stats.anova_lm(PR_model,typ=2)"
   ]
  },
  {
   "cell_type": "code",
   "execution_count": null,
   "id": "7uk3ZswTKny7",
   "metadata": {
    "id": "7uk3ZswTKny7"
   },
   "outputs": [],
   "source": [
    "sp.posthoc_ttest(ITS_erode_merge, val_col='PR_Ratio', group_col='Month', p_adjust='holm')"
   ]
  },
  {
   "cell_type": "markdown",
   "id": "KsEK9K0vzIKl",
   "metadata": {
    "id": "KsEK9K0vzIKl",
    "tags": [],
    "toc-hr-collapsed": true
   },
   "source": [
    "# Plot ITS results - line graphs\n"
   ]
  },
  {
   "cell_type": "code",
   "execution_count": null,
   "id": "J3w58fLRzP9_",
   "metadata": {
    "id": "J3w58fLRzP9_"
   },
   "outputs": [],
   "source": [
    "plt.style.use('seaborn-bright')\n",
    "plt.rcParams[\"figure.figsize\"] = (20,10)\n",
    "plt.rcParams.update({'font.size': 20}) \n",
    "import numpy as np"
   ]
  },
  {
   "cell_type": "code",
   "execution_count": null,
   "id": "JAT3uGuUzhmw",
   "metadata": {
    "colab": {
     "base_uri": "https://localhost:8080/"
    },
    "id": "JAT3uGuUzhmw",
    "outputId": "fa3dd9ca-c502-49ab-85e6-b7c12721a7f5"
   },
   "outputs": [],
   "source": [
    "ITS_erode_RT_MED[\"Month\"] = ITS_erode_RT_MED[\"Month\"].astype(str)\n",
    "\n",
    "#hue_order = list(['3', '4', '5'])\n",
    "#order = [\"RF_LAT\", \"RF_MED\", \"RT_LAT\",\"RT_MED\"]\n",
    "#order = [\"LF_LAT\", \"LF_MED\", \"LT_LAT\",\"LT_MED\",\"RF_LAT\", \"RF_MED\", \"RT_LAT\",\"RT_MED\"]\n",
    "\n",
    "\n",
    "hue_plot_params = {\n",
    "    'data': ITS_erode_RT_MED,\n",
    "    'x': 'Month',\n",
    "  #  \"order\": order,\n",
    "    \"hue\": \"GP_Location_Subregion\",\n",
    "    #\"hue_order\": \"RT_MED\"\n",
    "    #\"hue_order\": order\n",
    "}"
   ]
  },
  {
   "cell_type": "code",
   "execution_count": null,
   "id": "FmNnUF0szW2n",
   "metadata": {
    "colab": {
     "base_uri": "https://localhost:8080/",
     "height": 624
    },
    "id": "FmNnUF0szW2n",
    "outputId": "cf19e023-1b9e-4450-beba-67d510e5f886"
   },
   "outputs": [],
   "source": [
    "ax = sns.lineplot(**hue_plot_params, y='PR_ratio')"
   ]
  },
  {
   "cell_type": "code",
   "execution_count": null,
   "id": "HX_ofrtmgeSg",
   "metadata": {
    "colab": {
     "base_uri": "https://localhost:8080/",
     "height": 624
    },
    "id": "HX_ofrtmgeSg",
    "outputId": "82b61049-9203-48cc-d1b8-17058eeec221"
   },
   "outputs": [],
   "source": [
    "ax = sns.lineplot(**hue_plot_params, y='BV_TV')"
   ]
  },
  {
   "cell_type": "code",
   "execution_count": null,
   "id": "4170b709-3982-4323-9ccd-28b764019e23",
   "metadata": {},
   "outputs": [],
   "source": [
    "ax = sns.lineplot(**hue_plot_params, y='pBV_TV')"
   ]
  },
  {
   "cell_type": "code",
   "execution_count": null,
   "id": "pG6ERlX3YoYE",
   "metadata": {
    "colab": {
     "base_uri": "https://localhost:8080/",
     "height": 624
    },
    "id": "pG6ERlX3YoYE",
    "outputId": "f527e985-1fd0-4376-8b69-1b8751bc288a"
   },
   "outputs": [],
   "source": [
    "ax = sns.lineplot(**hue_plot_params, y='rBV_TV')"
   ]
  },
  {
   "cell_type": "code",
   "execution_count": null,
   "id": "iTtXiwJ-THDe",
   "metadata": {
    "colab": {
     "base_uri": "https://localhost:8080/",
     "height": 624
    },
    "id": "iTtXiwJ-THDe",
    "outputId": "fa93a70b-cd2c-463e-c461-13a91cf64e12"
   },
   "outputs": [],
   "source": [
    "ax = sns.lineplot(**hue_plot_params, y='rTb_N')"
   ]
  },
  {
   "cell_type": "code",
   "execution_count": null,
   "id": "Yz6ZbnLwTK37",
   "metadata": {
    "colab": {
     "base_uri": "https://localhost:8080/",
     "height": 624
    },
    "id": "Yz6ZbnLwTK37",
    "outputId": "8ccef3d6-68cd-4abb-a946-f241cc48c88a"
   },
   "outputs": [],
   "source": [
    "ax = sns.lineplot(**hue_plot_params, y='rTb_Th')"
   ]
  },
  {
   "cell_type": "code",
   "execution_count": null,
   "id": "q5bNH42K2g8_",
   "metadata": {
    "colab": {
     "base_uri": "https://localhost:8080/",
     "height": 624
    },
    "id": "q5bNH42K2g8_",
    "outputId": "9ae4c44a-8f5d-4e7e-b957-50aa81c8b9c9"
   },
   "outputs": [],
   "source": [
    "ax = sns.lineplot(**hue_plot_params, y='pTb_Th')"
   ]
  },
  {
   "cell_type": "markdown",
   "id": "bdYe_VDgHg24",
   "metadata": {
    "id": "bdYe_VDgHg24"
   },
   "source": [
    "# Plot ITS results bar graphs\n"
   ]
  },
  {
   "cell_type": "code",
   "execution_count": 17,
   "id": "1df6022d",
   "metadata": {
    "id": "1df6022d"
   },
   "outputs": [],
   "source": [
    "plt.style.use('seaborn-muted')\n",
    "#plt.style.use('dark_background')\n",
    "#plt.style.use('seaborn-bright')\n",
    "#plt.style.use('grayscale')\n",
    "#colors=['darkgray','gray','dimgray','lightgray']\n",
    "#plt.style.use('seaborn-Greys')"
   ]
  },
  {
   "cell_type": "code",
   "execution_count": 18,
   "id": "2fb7d310",
   "metadata": {
    "id": "2fb7d310"
   },
   "outputs": [],
   "source": [
    "#plt.rcParams[\"figure.figsize\"] = (5.5, 4)\n",
    "#plt.rcParams[\"figure.figsize\"] = (16.5,6.2)\n",
    "plt.rcParams[\"figure.figsize\"] = (16.5,16.5)\n",
    "#plt.rcParams[\"figure.figsize\"] = (12,5)\n",
    "plt.rcParams.update({'font.size': 20}) # 'font.weight' : 'bold', 'axes.labelweight': 'bold'})"
   ]
  },
  {
   "cell_type": "code",
   "execution_count": 19,
   "id": "PvfyDxV-o1Fd",
   "metadata": {
    "id": "PvfyDxV-o1Fd"
   },
   "outputs": [],
   "source": [
    "import numpy as np"
   ]
  },
  {
   "cell_type": "code",
   "execution_count": 27,
   "id": "C9JdAQ3nT542",
   "metadata": {
    "id": "C9JdAQ3nT542"
   },
   "outputs": [],
   "source": [
    "ITS_merge[\"Month\"] = ITS_merge[\"Month\"].astype(str)\n",
    "#ITS_merge_5months[\"Month\"] = ITS_merge_5months[\"Month\"].astype(str)\n",
    "\n",
    "hue_order = list(['2', '3', '4', '5'])\n",
    "order = [\"RF_LAT\", \"RF_MED\", \"RT_LAT\",\"RT_MED\"]\n",
    "#order = [\"LF_LAT\", \"LF_MED\", \"LT_LAT\",\"LT_MED\",\"RF_LAT\", \"RF_MED\", \"RT_LAT\",\"RT_MED\"]\n",
    "\n",
    "\n",
    "hue_plot_params = {\n",
    "    'data': ITS_merge,\n",
    "    'x': 'Location_Subregion',\n",
    "    \"order\": order,\n",
    "    \"hue\": \"Month\",\n",
    "    \"hue_order\": hue_order\n",
    "}"
   ]
  },
  {
   "cell_type": "code",
   "execution_count": 41,
   "id": "ba4f9b77-8590-47c9-b79b-7a9500c6d6ba",
   "metadata": {},
   "outputs": [],
   "source": [
    "import seaborn as sns\n",
    "\n",
    "def ITS_plot(ITS_param):\n",
    "    sns.set_context(rc = {'patch.linewidth': 1.0})\n",
    "    ax = sns.barplot(**hue_plot_params, y=ITS_param, estimator=np.mean, ci=68, capsize=.2, errcolor='black') \n",
    "    #,fill=False)\n",
    "    ax = sns.stripplot(**hue_plot_params, y=ITS_param, color='black', dodge=True)\n",
    "    \n",
    "    #ax = sns.barplot(**hue_plot_params, y=ITS_param, estimator=np.mean, ci=68, capsize=.2, errcolor='black') #,fill=False)\n",
    "    #ax = sns.swarmplot(**hue_plot_params, y=ITS_param, color='black', dodge=True)\n",
    "    \n",
    "    ax.set(xlabel = 'Location')\n",
    "    ax.set(ylabel = '')\n",
    "    ax.set(title = ITS_param)\n",
    "\n",
    "    ax.legend_.remove()\n",
    "    #ax.legend(loc='upper center',ncol=4)\n",
    "    ax.spines['top'].set_visible(True)\n",
    "    ax.spines['right'].set_visible(True)\n",
    "\n",
    "    annotator = Annotator(ax, pairs, **hue_plot_params, y=ITS_param,show_non_significant=False)\n",
    "    annotator.configure(test='t-test_ind', comparisons_correction='BH', correction_format=\"replace\", text_format='star', color='black', loc='inside',pvalue_thresholds=[[1e-4, \"*\"], [1e-3, \"*\"], [1e-2, \"*\"], [0.05, \"*\"],[1, \"\"]])\n",
    "    annotator.apply_and_annotate()\n",
    " \n",
    "    img_name = str(DATA) + \"/ITS_\" + ITS_param + \".png\"\n",
    "    plt.tight_layout()\n",
    "\n",
    "    plt.savefig(img_name, bbox_inches = \"tight\")\n"
   ]
  },
  {
   "cell_type": "code",
   "execution_count": 35,
   "id": "d55df5be-1cb2-4ff0-bd75-cc04db3e0082",
   "metadata": {},
   "outputs": [],
   "source": [
    "def ITS_subplots(ITS_param1, ITS_param2, ITS_param3, ITS_param4):\n",
    "    plt.subplot(2,2,1)\n",
    "    ITS_plot(ITS_param1)\n",
    "    plt.xticks(rotation=45, ha='right')\n",
    "    plt.subplot(2,2,2)\n",
    "    ITS_plot(ITS_param2)\n",
    "    plt.xticks(rotation=45, ha='right')\n",
    "    plt.subplot(2,2,3)\n",
    "    ITS_plot(ITS_param3)\n",
    "    plt.xticks(rotation=45, ha='right')\n",
    "    plt.subplot(2,2,4)\n",
    "    ITS_plot(ITS_param4)\n",
    "    plt.xticks(rotation=45, ha='right')\n",
    "    \n",
    "    img_name = str(DATA) + \"/ITS_subplots.png\"\n",
    "    plt.tight_layout(pad=0.4, w_pad=0.5, h_pad=1.0)\n",
    "    plt.savefig(img_name) #, bbox_inches = \"tight\")\t"
   ]
  },
  {
   "cell_type": "code",
   "execution_count": 36,
   "id": "7c32db41-da2c-4ae9-9461-23ae4d2f3afe",
   "metadata": {},
   "outputs": [],
   "source": [
    "ITS_merge.to_csv(DATA/'SBP_merge.csv',index=False)"
   ]
  },
  {
   "cell_type": "code",
   "execution_count": 37,
   "id": "-ngl3cQQY6jF",
   "metadata": {
    "id": "-ngl3cQQY6jF"
   },
   "outputs": [],
   "source": [
    "pairs=[[('RF_LAT','2'), ('RF_LAT','3')], [('RF_LAT','2'), ('RF_LAT','4')], [('RF_LAT','2'), ('RF_LAT','5')],[('RF_LAT','3'), ('RF_LAT','4')],[('RF_LAT','3'), ('RF_LAT','5')],[('RF_LAT','4'), ('RF_LAT','5')],\n",
    "       [('RF_MED','2'), ('RF_MED','3')], [('RF_MED','2'), ('RF_MED','4')], [('RF_MED','2'), ('RF_MED','5')],[('RF_MED','3'), ('RF_MED','4')],[('RF_MED','3'), ('RF_MED','5')],[('RF_MED','4'), ('RF_MED','5')],\n",
    "       [('RT_LAT','2'), ('RT_LAT','3')], [('RT_LAT','2'), ('RT_LAT','4')], [('RT_LAT','2'), ('RT_LAT','5')],[('RT_LAT','3'), ('RT_LAT','4')],[('RT_LAT','3'), ('RT_LAT','5')],[('RT_LAT','4'), ('RT_LAT','5')],\n",
    "       [('RT_MED','2'), ('RT_MED','3')], [('RT_MED','2'), ('RT_MED','4')], [('RT_MED','2'), ('RT_MED','5')],[('RT_MED','3'), ('RT_MED','4')],[('RT_MED','3'), ('RT_MED','5')],[('RT_MED','4'), ('RT_MED','5')]]"
   ]
  },
  {
   "cell_type": "code",
   "execution_count": 25,
   "id": "3ee17bc7-b461-4566-89a4-81040d21df81",
   "metadata": {
    "id": "tqK8YlYtyoCJ"
   },
   "outputs": [],
   "source": [
    "pairs=[[('RF_LAT','2'), ('RF_LAT','3')], [('RF_LAT','2'), ('RF_LAT','4')], [('RF_LAT','2'), ('RF_LAT','5')],[('RF_LAT','3'), ('RF_LAT','4')],[('RF_LAT','3'), ('RF_LAT','5')],[('RF_LAT','4'), ('RF_LAT','5')],\n",
    "       [('RF_MED','2'), ('RF_MED','3')], [('RF_MED','2'), ('RF_MED','4')], [('RF_MED','2'), ('RF_MED','5')],[('RF_MED','3'), ('RF_MED','4')],[('RF_MED','3'), ('RF_MED','5')],[('RF_MED','4'), ('RF_MED','5')],\n",
    "       [('RT_LAT','2'), ('RT_LAT','3')], [('RT_LAT','2'), ('RT_LAT','4')], [('RT_LAT','2'), ('RT_LAT','5')],[('RT_LAT','3'), ('RT_LAT','4')],[('RT_LAT','3'), ('RT_LAT','5')],[('RT_LAT','4'), ('RT_LAT','5')],\n",
    "       [('RT_MED','2'), ('RT_MED','3')], [('RT_MED','2'), ('RT_MED','4')], [('RT_MED','2'), ('RT_MED','5')],[('RT_MED','3'), ('RT_MED','4')],[('RT_MED','3'), ('RT_MED','5')],[('RT_MED','4'), ('RT_MED','5')],\n",
    "       [('LF_LAT','2'), ('LF_LAT','3')], [('LF_LAT','2'), ('LF_LAT','4')], [('LF_LAT','2'), ('LF_LAT','5')],[('LF_LAT','3'), ('LF_LAT','4')],[('LF_LAT','3'), ('LF_LAT','5')],[('LF_LAT','4'), ('LF_LAT','5')],\n",
    "       [('LF_MED','2'), ('LF_MED','3')], [('LF_MED','2'), ('LF_MED','4')], [('LF_MED','2'), ('LF_MED','5')],[('LF_MED','3'), ('LF_MED','4')],[('LF_MED','3'), ('LF_MED','5')],[('LF_MED','4'), ('LF_MED','5')],\n",
    "       [('LT_LAT','2'), ('LT_LAT','3')], [('LT_LAT','2'), ('LT_LAT','4')], [('LT_LAT','2'), ('LT_LAT','5')],[('LT_LAT','3'), ('LT_LAT','4')],[('LT_LAT','3'), ('LT_LAT','5')],[('LT_LAT','4'), ('LT_LAT','5')],\n",
    "       [('LT_MED','2'), ('LT_MED','3')], [('LT_MED','2'), ('LT_MED','4')], [('LT_MED','2'), ('LT_MED','5')],[('LT_MED','3'), ('LT_MED','4')],[('LT_MED','3'), ('LT_MED','5')],[('LT_MED','4'), ('LT_MED','5')]]"
   ]
  },
  {
   "cell_type": "code",
   "execution_count": 42,
   "id": "xbkWI6b2wKKu",
   "metadata": {
    "colab": {
     "base_uri": "https://localhost:8080/",
     "height": 1000
    },
    "id": "xbkWI6b2wKKu",
    "outputId": "d16be2ee-bcb8-4c56-dfd7-07e562aa8795"
   },
   "outputs": [
    {
     "name": "stdout",
     "output_type": "stream",
     "text": [
      "p-value annotation legend:\n",
      "        : p <= 1.00e+00\n",
      "       *: 1.00e-02 < p <= 5.00e-02\n",
      "       *: 1.00e-03 < p <= 1.00e-02\n",
      "       *: 1.00e-04 < p <= 1.00e-03\n",
      "       *: p <= 1.00e-04\n",
      "\n",
      "RT_MED_2 vs. RT_MED_5: t-test independent samples with Benjamini-Hochberg correction, P_val:9.492e-03 (ns) t=-3.003e+00\n",
      "p-value annotation legend:\n",
      "        : p <= 1.00e+00\n",
      "       *: 1.00e-02 < p <= 5.00e-02\n",
      "       *: 1.00e-03 < p <= 1.00e-02\n",
      "       *: 1.00e-04 < p <= 1.00e-03\n",
      "       *: p <= 1.00e-04\n",
      "\n",
      "RT_LAT_4 vs. RT_LAT_5: t-test independent samples with Benjamini-Hochberg correction, P_val:4.626e-02 (ns) t=2.274e+00\n",
      "RT_MED_2 vs. RT_MED_3: t-test independent samples with Benjamini-Hochberg correction, P_val:3.449e-02 (ns) t=2.278e+00\n",
      "RT_LAT_2 vs. RT_LAT_3: t-test independent samples with Benjamini-Hochberg correction, P_val:3.486e-02 (ns) t=2.293e+00\n",
      "RF_LAT_4 vs. RF_LAT_5: t-test independent samples with Benjamini-Hochberg correction, P_val:8.951e-03 t=3.430e+00\n",
      "RF_LAT_2 vs. RF_LAT_3: t-test independent samples with Benjamini-Hochberg correction, P_val:8.969e-03 t=2.949e+00\n",
      "RT_LAT_3 vs. RT_LAT_5: t-test independent samples with Benjamini-Hochberg correction, P_val:5.451e-03 t=3.530e+00\n",
      "RT_MED_2 vs. RT_MED_4: t-test independent samples with Benjamini-Hochberg correction, P_val:1.338e-03 t=3.791e+00\n",
      "RT_MED_3 vs. RT_MED_5: t-test independent samples with Benjamini-Hochberg correction, P_val:4.346e-02 (ns) t=2.257e+00\n",
      "RF_LAT_3 vs. RF_LAT_5: t-test independent samples with Benjamini-Hochberg correction, P_val:4.175e-03 t=3.807e+00\n",
      "RF_MED_3 vs. RF_MED_5: t-test independent samples with Benjamini-Hochberg correction, P_val:1.563e-02 t=2.973e+00\n",
      "RF_LAT_2 vs. RF_LAT_4: t-test independent samples with Benjamini-Hochberg correction, P_val:3.493e-02 (ns) t=2.305e+00\n",
      "RF_MED_2 vs. RF_MED_4: t-test independent samples with Benjamini-Hochberg correction, P_val:1.259e-02 t=2.789e+00\n",
      "RT_LAT_2 vs. RT_LAT_4: t-test independent samples with Benjamini-Hochberg correction, P_val:1.788e-03 t=3.697e+00\n",
      "RT_MED_2 vs. RT_MED_5: t-test independent samples with Benjamini-Hochberg correction, P_val:9.709e-05 t=5.255e+00\n",
      "RT_LAT_2 vs. RT_LAT_5: t-test independent samples with Benjamini-Hochberg correction, P_val:1.177e-05 t=6.408e+00\n",
      "RF_LAT_2 vs. RF_LAT_5: t-test independent samples with Benjamini-Hochberg correction, P_val:2.386e-05 t=6.182e+00\n",
      "RF_MED_2 vs. RF_MED_5: t-test independent samples with Benjamini-Hochberg correction, P_val:2.854e-06 t=7.506e+00\n",
      "p-value annotation legend:\n",
      "        : p <= 1.00e+00\n",
      "       *: 1.00e-02 < p <= 5.00e-02\n",
      "       *: 1.00e-03 < p <= 1.00e-02\n",
      "       *: 1.00e-04 < p <= 1.00e-03\n",
      "       *: p <= 1.00e-04\n",
      "\n",
      "RT_MED_2 vs. RT_MED_3: t-test independent samples with Benjamini-Hochberg correction, P_val:3.699e-03 t=-3.333e+00\n",
      "RT_LAT_2 vs. RT_LAT_3: t-test independent samples with Benjamini-Hochberg correction, P_val:1.562e-03 t=-3.760e+00\n",
      "RF_LAT_4 vs. RF_LAT_5: t-test independent samples with Benjamini-Hochberg correction, P_val:1.378e-02 t=-3.141e+00\n",
      "RF_LAT_2 vs. RF_LAT_3: t-test independent samples with Benjamini-Hochberg correction, P_val:1.896e-03 t=-3.711e+00\n",
      "RF_MED_2 vs. RF_MED_3: t-test independent samples with Benjamini-Hochberg correction, P_val:6.665e-03 t=-3.089e+00\n",
      "RT_LAT_3 vs. RT_LAT_5: t-test independent samples with Benjamini-Hochberg correction, P_val:2.075e-03 t=-4.121e+00\n",
      "RT_MED_2 vs. RT_MED_4: t-test independent samples with Benjamini-Hochberg correction, P_val:7.497e-05 t=-5.182e+00\n",
      "RT_MED_3 vs. RT_MED_5: t-test independent samples with Benjamini-Hochberg correction, P_val:7.685e-03 t=-3.196e+00\n",
      "RF_LAT_3 vs. RF_LAT_5: t-test independent samples with Benjamini-Hochberg correction, P_val:4.488e-03 t=-3.760e+00\n",
      "RF_MED_3 vs. RF_MED_5: t-test independent samples with Benjamini-Hochberg correction, P_val:4.372e-03 t=-3.777e+00\n",
      "RF_LAT_2 vs. RF_LAT_4: t-test independent samples with Benjamini-Hochberg correction, P_val:1.251e-03 t=-3.963e+00\n",
      "RF_MED_2 vs. RF_MED_4: t-test independent samples with Benjamini-Hochberg correction, P_val:5.963e-04 t=-4.204e+00\n",
      "RT_LAT_2 vs. RT_LAT_4: t-test independent samples with Benjamini-Hochberg correction, P_val:8.650e-05 t=-5.113e+00\n",
      "RT_MED_2 vs. RT_MED_5: t-test independent samples with Benjamini-Hochberg correction, P_val:1.103e-06 t=-8.150e+00\n",
      "RT_LAT_2 vs. RT_LAT_5: t-test independent samples with Benjamini-Hochberg correction, P_val:1.232e-08 t=-1.111e+01\n",
      "RF_LAT_2 vs. RF_LAT_5: t-test independent samples with Benjamini-Hochberg correction, P_val:1.084e-06 t=-8.542e+00\n",
      "RF_MED_2 vs. RF_MED_5: t-test independent samples with Benjamini-Hochberg correction, P_val:4.016e-09 t=-1.281e+01\n",
      "p-value annotation legend:\n",
      "        : p <= 1.00e+00\n",
      "       *: 1.00e-02 < p <= 5.00e-02\n",
      "       *: 1.00e-03 < p <= 1.00e-02\n",
      "       *: 1.00e-04 < p <= 1.00e-03\n",
      "       *: p <= 1.00e-04\n",
      "\n",
      "RT_MED_2 vs. RT_MED_3: t-test independent samples with Benjamini-Hochberg correction, P_val:1.381e-03 t=-3.777e+00\n",
      "RT_LAT_2 vs. RT_LAT_3: t-test independent samples with Benjamini-Hochberg correction, P_val:2.317e-04 t=-4.645e+00\n",
      "RF_LAT_4 vs. RF_LAT_5: t-test independent samples with Benjamini-Hochberg correction, P_val:3.406e-02 t=-2.552e+00\n",
      "RF_LAT_2 vs. RF_LAT_3: t-test independent samples with Benjamini-Hochberg correction, P_val:1.225e-03 t=-3.919e+00\n",
      "RF_MED_2 vs. RF_MED_3: t-test independent samples with Benjamini-Hochberg correction, P_val:1.735e-03 t=-3.711e+00\n",
      "RT_LAT_3 vs. RT_LAT_5: t-test independent samples with Benjamini-Hochberg correction, P_val:2.243e-03 t=-4.072e+00\n",
      "RT_MED_2 vs. RT_MED_4: t-test independent samples with Benjamini-Hochberg correction, P_val:3.465e-05 t=-5.559e+00\n",
      "RT_MED_3 vs. RT_MED_5: t-test independent samples with Benjamini-Hochberg correction, P_val:4.059e-03 t=-3.542e+00\n",
      "RF_LAT_3 vs. RF_LAT_5: t-test independent samples with Benjamini-Hochberg correction, P_val:9.077e-03 t=-3.311e+00\n",
      "RF_MED_3 vs. RF_MED_5: t-test independent samples with Benjamini-Hochberg correction, P_val:5.316e-03 t=-3.650e+00\n",
      "RF_LAT_2 vs. RF_LAT_4: t-test independent samples with Benjamini-Hochberg correction, P_val:1.154e-04 t=-5.164e+00\n",
      "RF_MED_2 vs. RF_MED_4: t-test independent samples with Benjamini-Hochberg correction, P_val:7.135e-05 t=-5.206e+00\n",
      "RT_LAT_2 vs. RT_LAT_4: t-test independent samples with Benjamini-Hochberg correction, P_val:1.925e-05 t=-5.851e+00\n",
      "RT_MED_2 vs. RT_MED_5: t-test independent samples with Benjamini-Hochberg correction, P_val:8.223e-07 t=-8.356e+00\n",
      "RT_LAT_2 vs. RT_LAT_5: t-test independent samples with Benjamini-Hochberg correction, P_val:7.663e-09 t=-1.151e+01\n",
      "RF_LAT_2 vs. RF_LAT_5: t-test independent samples with Benjamini-Hochberg correction, P_val:1.548e-06 t=-8.272e+00\n",
      "RF_MED_2 vs. RF_MED_5: t-test independent samples with Benjamini-Hochberg correction, P_val:5.606e-09 t=-1.249e+01\n"
     ]
    },
    {
     "data": {
      "image/png": "[encoded data removed]",
      "text/plain": [
       "<Figure size 1650x1650 with 4 Axes>"
      ]
     },
     "metadata": {},
     "output_type": "display_data"
    }
   ],
   "source": [
    "ITS_subplots('Thickness','Porosity','BMD','TMD')"
   ]
  },
  {
   "cell_type": "code",
   "execution_count": null,
   "id": "4b6c862e-f842-40a5-b235-fdf76536ca2b",
   "metadata": {},
   "outputs": [],
   "source": []
  }
 ],
 "metadata": {
  "colab": {
   "collapsed_sections": [
    "1VQxwwcKHx6W",
    "GI0xYtBkkpQd",
    "8Nva5BYxjkJR"
   ],
   "name": "ITS_analysis.ipynb",
   "provenance": []
  },
  "kernelspec": {
   "display_name": "Python 3 (ipykernel)",
   "language": "python",
   "name": "python3"
  },
  "language_info": {
   "codemirror_mode": {
    "name": "ipython",
    "version": 3
   },
   "file_extension": ".py",
   "mimetype": "text/x-python",
   "name": "python",
   "nbconvert_exporter": "python",
   "pygments_lexer": "ipython3",
   "version": "3.8.8"
  }
 },
 "nbformat": 4,
 "nbformat_minor": 5
}
