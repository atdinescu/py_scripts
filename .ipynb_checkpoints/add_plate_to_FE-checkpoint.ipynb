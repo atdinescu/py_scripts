{
 "cells": [
  {
   "cell_type": "code",
   "execution_count": 1,
   "id": "128f0468-66ac-4945-bb52-38a5cdfaee4b",
   "metadata": {},
   "outputs": [],
   "source": [
    "import numpy as np\n",
    "import matplotlib\n",
    "import matplotlib.pyplot as plt\n",
    "import math"
   ]
  },
  {
   "cell_type": "code",
   "execution_count": 4,
   "id": "e088c295-79db-4c99-8c3f-3b360b84b01e",
   "metadata": {},
   "outputs": [],
   "source": [
    "filename = 'F:\\Visual Studio Programs\\ITS-Wholebone-microCT-Bone Remodeling\\E0015896_ITS_L_1_noplate.raw'"
   ]
  },
  {
   "cell_type": "code",
   "execution_count": 5,
   "id": "5e3663db-d805-42a7-ad75-c4ab58949beb",
   "metadata": {},
   "outputs": [],
   "source": [
    "dimX = 123\n",
    "dimY = 165\n",
    "dimZ = 73"
   ]
  },
  {
   "cell_type": "code",
   "execution_count": 6,
   "id": "35e84dde-37bf-47c8-8ad3-f874ab3ef99f",
   "metadata": {},
   "outputs": [],
   "source": [
    "fd = open(filename, 'rb')\n",
    "f = np.fromfile(fd, dtype=np.uint8)\n",
    "im = f.reshape((dimZ, dimY, dimX))\n",
    "fd.close()"
   ]
  },
  {
   "cell_type": "code",
   "execution_count": 7,
   "id": "6d4620b3-4c60-4c6c-9f0d-19903e6eae52",
   "metadata": {},
   "outputs": [],
   "source": [
    "slice = im[70,:,:]"
   ]
  },
  {
   "cell_type": "code",
   "execution_count": 18,
   "id": "0f66ae37-c0e6-4738-86c7-89e1321e6454",
   "metadata": {},
   "outputs": [
    {
     "data": {
      "text/plain": [
       "<matplotlib.colorbar.Colorbar at 0x1c3114d2a90>"
      ]
     },
     "execution_count": 18,
     "metadata": {},
     "output_type": "execute_result"
    },
    {
     "data": {
      "image/png": "[encoded data removed]",
      "text/plain": [
       "<Figure size 1440x720 with 1 Axes>"
      ]
     },
     "metadata": {
      "needs_background": "light"
     },
     "output_type": "display_data"
    }
   ],
   "source": [
    "from matplotlib.colors import from_levels_and_colors\n",
    "\n",
    "# plot colormap of SED value for slice above\n",
    "plt.rcParams['figure.figsize'] = [20,10]\n",
    "\n",
    "im0 = plt.imshow(slice[:,:])\n",
    "fig.colorbar(im0, ax=ax[0,0])"
   ]
  },
  {
   "cell_type": "code",
   "execution_count": 9,
   "id": "9f52475d-275b-43d7-a485-ea7fbdfb8d79",
   "metadata": {},
   "outputs": [],
   "source": [
    "matrix = np.copy(im)"
   ]
  },
  {
   "cell_type": "code",
   "execution_count": 10,
   "id": "31fb29b5-dd48-4233-828a-51db498b165b",
   "metadata": {},
   "outputs": [
    {
     "data": {
      "text/plain": [
       "(73, 165, 123)"
      ]
     },
     "execution_count": 10,
     "metadata": {},
     "output_type": "execute_result"
    }
   ],
   "source": [
    "matrix.shape"
   ]
  },
  {
   "cell_type": "code",
   "execution_count": 11,
   "id": "ce707c26-cbcf-47e8-9363-e10bfc84dba5",
   "metadata": {},
   "outputs": [],
   "source": [
    "# Create new image with plates added to all 6 surfaces\n",
    "matrix[0,:,:]= 127\n",
    "matrix[:,0,:]= 127\n",
    "matrix[:,:,0]= 127\n",
    "\n",
    "matrix[dimZ-1,:,:]= 127\n",
    "matrix[:,dimY-1,:]= 127\n",
    "matrix[:,:,dimX-1]= 127\n",
    "\n",
    "# Set corner values to 0\n",
    "matrix[0,0,0] = 0\n",
    "matrix[0,0,dimX-1] = 127\n",
    "matrix[dimZ-1,0,0] = 0\n",
    "matrix[dimZ-1,0,dimX-1] = 0\n",
    "matrix[0,dimY-1,0] = 0\n",
    "matrix[0,dimY-1,dimX-1] = 0\n",
    "matrix[dimZ-1,dimY-1,0] = 0\n",
    "matrix[dimZ-1,dimY-1,dimX-1] = 0"
   ]
  },
  {
   "cell_type": "code",
   "execution_count": 19,
   "id": "5578f18d-2746-4c72-a1a8-1e3718f8a030",
   "metadata": {},
   "outputs": [
    {
     "ename": "error",
     "evalue": "OpenCV(4.0.1) C:\\ci\\opencv-suite_1573470242804\\work\\modules\\imgcodecs\\src\\loadsave.cpp:667: error: (-215:Assertion failed) image.channels() == 1 || image.channels() == 3 || image.channels() == 4 in function 'cv::imwrite_'\n",
     "output_type": "error",
     "traceback": [
      "\u001b[1;31m---------------------------------------------------------------------------\u001b[0m",
      "\u001b[1;31merror\u001b[0m                                     Traceback (most recent call last)",
      "\u001b[1;32m<ipython-input-19-ab37895e741c>\u001b[0m in \u001b[0;36m<module>\u001b[1;34m\u001b[0m\n\u001b[0;32m      2\u001b[0m \u001b[1;33m\u001b[0m\u001b[0m\n\u001b[0;32m      3\u001b[0m \u001b[0mmatrix_filename\u001b[0m \u001b[1;33m=\u001b[0m \u001b[1;34m\"F:\\Visual Studio Programs\\ITS-Wholebone-microCT-Bone Remodeling\\E0015896_ITS_L_1_plate.jpg\"\u001b[0m\u001b[1;33m\u001b[0m\u001b[1;33m\u001b[0m\u001b[0m\n\u001b[1;32m----> 4\u001b[1;33m \u001b[0mcv2\u001b[0m\u001b[1;33m.\u001b[0m\u001b[0mimwrite\u001b[0m\u001b[1;33m(\u001b[0m\u001b[0mmatrix_filename\u001b[0m\u001b[1;33m,\u001b[0m \u001b[0mmatrix\u001b[0m\u001b[1;33m)\u001b[0m\u001b[1;33m\u001b[0m\u001b[1;33m\u001b[0m\u001b[0m\n\u001b[0m",
      "\u001b[1;31merror\u001b[0m: OpenCV(4.0.1) C:\\ci\\opencv-suite_1573470242804\\work\\modules\\imgcodecs\\src\\loadsave.cpp:667: error: (-215:Assertion failed) image.channels() == 1 || image.channels() == 3 || image.channels() == 4 in function 'cv::imwrite_'\n"
     ]
    }
   ],
   "source": [
    "import cv2\n",
    "\n",
    "matrix_filename = 'F:\\Visual Studio Programs\\ITS-Wholebone-microCT-Bone Remodeling\\E0015896_ITS_L_1_plate.jpg'\n",
    "cv2.imwrite(matrix_filename, matrix)"
   ]
  },
  {
   "cell_type": "code",
   "execution_count": null,
   "id": "1726d340-5345-4a3f-b9b0-0056807d018e",
   "metadata": {},
   "outputs": [],
   "source": []
  }
 ],
 "metadata": {
  "kernelspec": {
   "display_name": "Python 3",
   "language": "python",
   "name": "python3"
  },
  "language_info": {
   "codemirror_mode": {
    "name": "ipython",
    "version": 3
   },
   "file_extension": ".py",
   "mimetype": "text/x-python",
   "name": "python",
   "nbconvert_exporter": "python",
   "pygments_lexer": "ipython3",
   "version": "3.8.8"
  }
 },
 "nbformat": 4,
 "nbformat_minor": 5
}
