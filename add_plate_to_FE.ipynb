{
 "cells": [
  {
   "cell_type": "code",
   "execution_count": 1,
   "id": "128f0468-66ac-4945-bb52-38a5cdfaee4b",
   "metadata": {},
   "outputs": [],
   "source": [
    "import numpy as np\n",
    "import matplotlib\n",
    "import matplotlib.pyplot as plt\n",
    "import math"
   ]
  },
  {
   "cell_type": "code",
   "execution_count": 2,
   "id": "e088c295-79db-4c99-8c3f-3b360b84b01e",
   "metadata": {},
   "outputs": [],
   "source": [
    "filename = 'F:/Visual Studio Programs/ITS-Wholebone-microCT-Bone Remodeling/E0016711_RT_MED_RECT.raw'"
   ]
  },
  {
   "cell_type": "code",
   "execution_count": 3,
   "id": "5e3663db-d805-42a7-ad75-c4ab58949beb",
   "metadata": {},
   "outputs": [],
   "source": [
    "dimX = 93\n",
    "dimY = 75\n",
    "dimZ = 31"
   ]
  },
  {
   "cell_type": "code",
   "execution_count": 4,
   "id": "35e84dde-37bf-47c8-8ad3-f874ab3ef99f",
   "metadata": {},
   "outputs": [
    {
     "ename": "FileNotFoundError",
     "evalue": "[Errno 2] No such file or directory: 'F:/Visual Studio Programs/ITS-Wholebone-microCT-Bone Remodeling/E0016711_RT_MED_RECT_2.raw'",
     "output_type": "error",
     "traceback": [
      "\u001b[1;31m---------------------------------------------------------------------------\u001b[0m",
      "\u001b[1;31mFileNotFoundError\u001b[0m                         Traceback (most recent call last)",
      "\u001b[1;32m<ipython-input-4-582044c5b2cb>\u001b[0m in \u001b[0;36m<module>\u001b[1;34m\u001b[0m\n\u001b[1;32m----> 1\u001b[1;33m \u001b[0mfd\u001b[0m \u001b[1;33m=\u001b[0m \u001b[0mopen\u001b[0m\u001b[1;33m(\u001b[0m\u001b[0mfilename\u001b[0m\u001b[1;33m,\u001b[0m \u001b[1;34m'rb'\u001b[0m\u001b[1;33m)\u001b[0m\u001b[1;33m\u001b[0m\u001b[1;33m\u001b[0m\u001b[0m\n\u001b[0m\u001b[0;32m      2\u001b[0m \u001b[0mf\u001b[0m \u001b[1;33m=\u001b[0m \u001b[0mnp\u001b[0m\u001b[1;33m.\u001b[0m\u001b[0mfromfile\u001b[0m\u001b[1;33m(\u001b[0m\u001b[0mfd\u001b[0m\u001b[1;33m,\u001b[0m \u001b[0mdtype\u001b[0m\u001b[1;33m=\u001b[0m\u001b[0mnp\u001b[0m\u001b[1;33m.\u001b[0m\u001b[0muint8\u001b[0m\u001b[1;33m)\u001b[0m\u001b[1;33m\u001b[0m\u001b[1;33m\u001b[0m\u001b[0m\n\u001b[0;32m      3\u001b[0m \u001b[0mim\u001b[0m \u001b[1;33m=\u001b[0m \u001b[0mf\u001b[0m\u001b[1;33m.\u001b[0m\u001b[0mreshape\u001b[0m\u001b[1;33m(\u001b[0m\u001b[1;33m(\u001b[0m\u001b[0mdimZ\u001b[0m\u001b[1;33m,\u001b[0m \u001b[0mdimY\u001b[0m\u001b[1;33m,\u001b[0m \u001b[0mdimX\u001b[0m\u001b[1;33m)\u001b[0m\u001b[1;33m)\u001b[0m\u001b[1;33m\u001b[0m\u001b[1;33m\u001b[0m\u001b[0m\n\u001b[0;32m      4\u001b[0m \u001b[0mfd\u001b[0m\u001b[1;33m.\u001b[0m\u001b[0mclose\u001b[0m\u001b[1;33m(\u001b[0m\u001b[1;33m)\u001b[0m\u001b[1;33m\u001b[0m\u001b[1;33m\u001b[0m\u001b[0m\n",
      "\u001b[1;31mFileNotFoundError\u001b[0m: [Errno 2] No such file or directory: 'F:/Visual Studio Programs/ITS-Wholebone-microCT-Bone Remodeling/E0016711_RT_MED_RECT_2.raw'"
     ]
    }
   ],
   "source": [
    "fd = open(filename, 'rb')\n",
    "f = np.fromfile(fd, dtype=np.uint8)\n",
    "im = f.reshape((dimZ, dimY, dimX))\n",
    "fd.close()"
   ]
  },
  {
   "cell_type": "code",
   "execution_count": null,
   "id": "6d4620b3-4c60-4c6c-9f0d-19903e6eae52",
   "metadata": {},
   "outputs": [],
   "source": [
    "slice = im[20,:,:]"
   ]
  },
  {
   "cell_type": "code",
   "execution_count": null,
   "id": "0f66ae37-c0e6-4738-86c7-89e1321e6454",
   "metadata": {},
   "outputs": [],
   "source": [
    "from matplotlib.colors import from_levels_and_colors\n",
    "\n",
    "# plot colormap of SED value for slice above\n",
    "plt.rcParams['figure.figsize'] = [20,10]\n",
    "\n",
    "im0 = plt.imshow(slice[:,:])\n",
    "fig.colorbar(im0, ax=ax[0,0])"
   ]
  },
  {
   "cell_type": "code",
   "execution_count": null,
   "id": "9f52475d-275b-43d7-a485-ea7fbdfb8d79",
   "metadata": {},
   "outputs": [],
   "source": [
    "matrix = np.copy(im)"
   ]
  },
  {
   "cell_type": "code",
   "execution_count": 5,
   "id": "31fb29b5-dd48-4233-828a-51db498b165b",
   "metadata": {},
   "outputs": [
    {
     "ename": "NameError",
     "evalue": "name 'matrix' is not defined",
     "output_type": "error",
     "traceback": [
      "\u001b[1;31m---------------------------------------------------------------------------\u001b[0m",
      "\u001b[1;31mNameError\u001b[0m                                 Traceback (most recent call last)",
      "\u001b[1;32m<ipython-input-5-9db453e4c47e>\u001b[0m in \u001b[0;36m<module>\u001b[1;34m\u001b[0m\n\u001b[1;32m----> 1\u001b[1;33m \u001b[0mmatrix\u001b[0m\u001b[1;33m.\u001b[0m\u001b[0mshape\u001b[0m\u001b[1;33m\u001b[0m\u001b[1;33m\u001b[0m\u001b[0m\n\u001b[0m",
      "\u001b[1;31mNameError\u001b[0m: name 'matrix' is not defined"
     ]
    }
   ],
   "source": [
    "matrix.shape"
   ]
  },
  {
   "cell_type": "code",
   "execution_count": 6,
   "id": "ce707c26-cbcf-47e8-9363-e10bfc84dba5",
   "metadata": {},
   "outputs": [
    {
     "ename": "NameError",
     "evalue": "name 'matrix' is not defined",
     "output_type": "error",
     "traceback": [
      "\u001b[1;31m---------------------------------------------------------------------------\u001b[0m",
      "\u001b[1;31mNameError\u001b[0m                                 Traceback (most recent call last)",
      "\u001b[1;32m<ipython-input-6-15c414ba0511>\u001b[0m in \u001b[0;36m<module>\u001b[1;34m\u001b[0m\n\u001b[0;32m      1\u001b[0m \u001b[1;31m# Create new image with plates added to all 6 surfaces\u001b[0m\u001b[1;33m\u001b[0m\u001b[1;33m\u001b[0m\u001b[1;33m\u001b[0m\u001b[0m\n\u001b[1;32m----> 2\u001b[1;33m \u001b[0mmatrix\u001b[0m\u001b[1;33m[\u001b[0m\u001b[1;36m0\u001b[0m\u001b[1;33m,\u001b[0m\u001b[1;33m:\u001b[0m\u001b[1;33m,\u001b[0m\u001b[1;33m:\u001b[0m\u001b[1;33m]\u001b[0m\u001b[1;33m=\u001b[0m \u001b[1;36m127\u001b[0m\u001b[1;33m\u001b[0m\u001b[1;33m\u001b[0m\u001b[0m\n\u001b[0m\u001b[0;32m      3\u001b[0m \u001b[0mmatrix\u001b[0m\u001b[1;33m[\u001b[0m\u001b[1;33m:\u001b[0m\u001b[1;33m,\u001b[0m\u001b[1;36m0\u001b[0m\u001b[1;33m,\u001b[0m\u001b[1;33m:\u001b[0m\u001b[1;33m]\u001b[0m\u001b[1;33m=\u001b[0m \u001b[1;36m127\u001b[0m\u001b[1;33m\u001b[0m\u001b[1;33m\u001b[0m\u001b[0m\n\u001b[0;32m      4\u001b[0m \u001b[0mmatrix\u001b[0m\u001b[1;33m[\u001b[0m\u001b[1;33m:\u001b[0m\u001b[1;33m,\u001b[0m\u001b[1;33m:\u001b[0m\u001b[1;33m,\u001b[0m\u001b[1;36m0\u001b[0m\u001b[1;33m]\u001b[0m\u001b[1;33m=\u001b[0m \u001b[1;36m127\u001b[0m\u001b[1;33m\u001b[0m\u001b[1;33m\u001b[0m\u001b[0m\n\u001b[0;32m      5\u001b[0m \u001b[1;33m\u001b[0m\u001b[0m\n",
      "\u001b[1;31mNameError\u001b[0m: name 'matrix' is not defined"
     ]
    }
   ],
   "source": [
    "# Create new image with plates added to all 6 surfaces\n",
    "matrix[0,:,:]= 127\n",
    "matrix[:,0,:]= 127\n",
    "matrix[:,:,0]= 127\n",
    "\n",
    "matrix[dimZ-1,:,:]= 127\n",
    "matrix[:,dimY-1,:]= 127\n",
    "matrix[:,:,dimX-1]= 127\n",
    "\n",
    "# Set corner values to 0\n",
    "matrix[0,0,0] = 0\n",
    "matrix[0,0,dimX-1] = 127\n",
    "matrix[dimZ-1,0,0] = 0\n",
    "matrix[dimZ-1,0,dimX-1] = 0\n",
    "matrix[0,dimY-1,0] = 0\n",
    "matrix[0,dimY-1,dimX-1] = 0\n",
    "matrix[dimZ-1,dimY-1,0] = 0\n",
    "matrix[dimZ-1,dimY-1,dimX-1] = 0"
   ]
  },
  {
   "cell_type": "code",
   "execution_count": 7,
   "id": "5578f18d-2746-4c72-a1a8-1e3718f8a030",
   "metadata": {},
   "outputs": [
    {
     "ename": "NameError",
     "evalue": "name 'matrix' is not defined",
     "output_type": "error",
     "traceback": [
      "\u001b[1;31m---------------------------------------------------------------------------\u001b[0m",
      "\u001b[1;31mNameError\u001b[0m                                 Traceback (most recent call last)",
      "\u001b[1;32m<ipython-input-7-3961b9c39d4f>\u001b[0m in \u001b[0;36m<module>\u001b[1;34m\u001b[0m\n\u001b[0;32m      1\u001b[0m \u001b[0mmatrix_filename\u001b[0m \u001b[1;33m=\u001b[0m \u001b[1;34m'F:/Visual Studio Programs/ITS-Wholebone-microCT-Bone Remodeling/E0016711_RT_MED_PLAT.raw'\u001b[0m\u001b[1;33m\u001b[0m\u001b[1;33m\u001b[0m\u001b[0m\n\u001b[1;32m----> 2\u001b[1;33m \u001b[0mmatrix\u001b[0m\u001b[1;33m.\u001b[0m\u001b[0mastype\u001b[0m\u001b[1;33m(\u001b[0m\u001b[1;34m'int8'\u001b[0m\u001b[1;33m)\u001b[0m\u001b[1;33m.\u001b[0m\u001b[0mtofile\u001b[0m\u001b[1;33m(\u001b[0m\u001b[0mmatrix_filename\u001b[0m\u001b[1;33m)\u001b[0m\u001b[1;33m\u001b[0m\u001b[1;33m\u001b[0m\u001b[0m\n\u001b[0m",
      "\u001b[1;31mNameError\u001b[0m: name 'matrix' is not defined"
     ]
    }
   ],
   "source": [
    "matrix_filename = 'F:/Visual Studio Programs/ITS-Wholebone-microCT-Bone Remodeling/E0016711_RT_MED_PLAT.raw'\n",
    "matrix.astype('int8').tofile(matrix_filename)"
   ]
  },
  {
   "cell_type": "code",
   "execution_count": null,
   "id": "933f63ff-deaf-4ae5-999a-0945c1b88da1",
   "metadata": {},
   "outputs": [],
   "source": []
  },
  {
   "cell_type": "code",
   "execution_count": null,
   "id": "f2bf2500-1357-4442-b86e-a3ded6e452f7",
   "metadata": {},
   "outputs": [],
   "source": []
  }
 ],
 "metadata": {
  "kernelspec": {
   "display_name": "Python 3 (ipykernel)",
   "language": "python",
   "name": "python3"
  },
  "language_info": {
   "codemirror_mode": {
    "name": "ipython",
    "version": 3
   },
   "file_extension": ".py",
   "mimetype": "text/x-python",
   "name": "python",
   "nbconvert_exporter": "python",
   "pygments_lexer": "ipython3",
   "version": "3.8.8"
  }
 },
 "nbformat": 4,
 "nbformat_minor": 5
}
