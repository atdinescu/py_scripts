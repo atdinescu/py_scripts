{
 "cells": [
  {
   "cell_type": "markdown",
   "id": "ig0UNePuHr1-",
   "metadata": {
    "id": "ig0UNePuHr1-"
   },
   "source": [
    "# Import Python libraries and directory of results"
   ]
  },
  {
   "cell_type": "code",
   "execution_count": 5,
   "id": "1449611c",
   "metadata": {
    "colab": {
     "base_uri": "https://localhost:8080/"
    },
    "id": "1449611c",
    "outputId": "30af662b-ac3e-46fd-e7a7-3bfd5b91b374"
   },
   "outputs": [],
   "source": [
    "import seaborn as sns\n",
    "import pandas as pd\n",
    "import matplotlib.pyplot as plt\n",
    "import pingouin as pg\n",
    "import statsmodels.api as sm\n",
    "import scikit_posthocs as sp\n",
    "from statsmodels.formula.api import ols\n",
    "from statannotations.Annotator import Annotator\n",
    "#from ITS_lib.ITS_functions import ITS_plot, ITS_subplots"
   ]
  },
  {
   "cell_type": "code",
   "execution_count": 6,
   "id": "93205667-5583-4a56-b393-ccf371c2ad7e",
   "metadata": {},
   "outputs": [],
   "source": [
    "#from google.colab import drive\n",
    "#drive.mount(\"/content/drive\")\n",
    "\n",
    "#!pip install pingouin\n",
    "\n",
    "#!pip install statannotations\n",
    "#!pip install statsmodels\n",
    "#!pip install scikit_posthocs"
   ]
  },
  {
   "cell_type": "code",
   "execution_count": 7,
   "id": "WJJSB6rhFgAU",
   "metadata": {
    "id": "WJJSB6rhFgAU"
   },
   "outputs": [],
   "source": [
    "from pathlib import Path\n",
    "\n",
    "#DATA = Path(\"/content/drive/My Drive/BBL/GP_ITS\")\n",
    "DATA = Path(\"C:/Users/Teo/Downloads\")"
   ]
  },
  {
   "cell_type": "markdown",
   "id": "TAZa2l41tbx3",
   "metadata": {
    "id": "TAZa2l41tbx3"
   },
   "source": [
    "# Create one table with ITS results"
   ]
  },
  {
   "cell_type": "code",
   "execution_count": 8,
   "id": "yRDB7RnO2DSh",
   "metadata": {
    "colab": {
     "base_uri": "https://localhost:8080/",
     "height": 314
    },
    "id": "yRDB7RnO2DSh",
    "outputId": "5c02908d-6bbd-440b-82d9-41108846e449"
   },
   "outputs": [
    {
     "data": {
      "text/html": [
       "<div>\n",
       "<style scoped>\n",
       "    .dataframe tbody tr th:only-of-type {\n",
       "        vertical-align: middle;\n",
       "    }\n",
       "\n",
       "    .dataframe tbody tr th {\n",
       "        vertical-align: top;\n",
       "    }\n",
       "\n",
       "    .dataframe thead th {\n",
       "        text-align: right;\n",
       "    }\n",
       "</style>\n",
       "<table border=\"1\" class=\"dataframe\">\n",
       "  <thead>\n",
       "    <tr style=\"text-align: right;\">\n",
       "      <th></th>\n",
       "      <th>Filename</th>\n",
       "      <th>number</th>\n",
       "      <th></th>\n",
       "      <th>counts</th>\n",
       "      <th>E</th>\n",
       "      <th>ksi_name</th>\n",
       "      <th>ksi</th>\n",
       "      <th>k_name</th>\n",
       "      <th>k</th>\n",
       "      <th>v_name</th>\n",
       "      <th>v</th>\n",
       "      <th>r2name</th>\n",
       "      <th>R2</th>\n",
       "      <th>ID</th>\n",
       "      <th>Location</th>\n",
       "      <th>Subregion</th>\n",
       "      <th>Location_Subregion</th>\n",
       "    </tr>\n",
       "  </thead>\n",
       "  <tbody>\n",
       "    <tr>\n",
       "      <th>0</th>\n",
       "      <td>GP11_LT_MED_load1</td>\n",
       "      <td>NaN</td>\n",
       "      <td>NaN</td>\n",
       "      <td>80</td>\n",
       "      <td>0.54023</td>\n",
       "      <td>ksi:</td>\n",
       "      <td>0.49649</td>\n",
       "      <td>k:</td>\n",
       "      <td>0.010601</td>\n",
       "      <td>v:</td>\n",
       "      <td>0.29384</td>\n",
       "      <td>R^2:</td>\n",
       "      <td>0.74939</td>\n",
       "      <td>GP11</td>\n",
       "      <td>LT</td>\n",
       "      <td>MED</td>\n",
       "      <td>LT_MED</td>\n",
       "    </tr>\n",
       "    <tr>\n",
       "      <th>1</th>\n",
       "      <td>GP10_LT_MED_load2</td>\n",
       "      <td>NaN</td>\n",
       "      <td>NaN</td>\n",
       "      <td>80</td>\n",
       "      <td>0.92637</td>\n",
       "      <td>ksi:</td>\n",
       "      <td>0.48846</td>\n",
       "      <td>k:</td>\n",
       "      <td>0.003693</td>\n",
       "      <td>v:</td>\n",
       "      <td>0.30000</td>\n",
       "      <td>R^2:</td>\n",
       "      <td>0.73873</td>\n",
       "      <td>GP10</td>\n",
       "      <td>LT</td>\n",
       "      <td>MED</td>\n",
       "      <td>LT_MED</td>\n",
       "    </tr>\n",
       "    <tr>\n",
       "      <th>2</th>\n",
       "      <td>GP10_LT_MED_load3</td>\n",
       "      <td>NaN</td>\n",
       "      <td>NaN</td>\n",
       "      <td>80</td>\n",
       "      <td>1.00100</td>\n",
       "      <td>ksi:</td>\n",
       "      <td>0.44014</td>\n",
       "      <td>k:</td>\n",
       "      <td>0.002354</td>\n",
       "      <td>v:</td>\n",
       "      <td>0.29151</td>\n",
       "      <td>R^2:</td>\n",
       "      <td>0.90715</td>\n",
       "      <td>GP10</td>\n",
       "      <td>LT</td>\n",
       "      <td>MED</td>\n",
       "      <td>LT_MED</td>\n",
       "    </tr>\n",
       "    <tr>\n",
       "      <th>3</th>\n",
       "      <td>GP5_LT_MED_load1</td>\n",
       "      <td>NaN</td>\n",
       "      <td>NaN</td>\n",
       "      <td>80</td>\n",
       "      <td>0.51349</td>\n",
       "      <td>ksi:</td>\n",
       "      <td>0.60804</td>\n",
       "      <td>k:</td>\n",
       "      <td>0.003899</td>\n",
       "      <td>v:</td>\n",
       "      <td>0.30000</td>\n",
       "      <td>R^2:</td>\n",
       "      <td>0.89013</td>\n",
       "      <td>GP5</td>\n",
       "      <td>LT</td>\n",
       "      <td>MED</td>\n",
       "      <td>LT_MED</td>\n",
       "    </tr>\n",
       "    <tr>\n",
       "      <th>4</th>\n",
       "      <td>GP5_LT_LAT_load3</td>\n",
       "      <td>NaN</td>\n",
       "      <td>NaN</td>\n",
       "      <td>80</td>\n",
       "      <td>0.75942</td>\n",
       "      <td>ksi:</td>\n",
       "      <td>0.44137</td>\n",
       "      <td>k:</td>\n",
       "      <td>0.009012</td>\n",
       "      <td>v:</td>\n",
       "      <td>0.30000</td>\n",
       "      <td>R^2:</td>\n",
       "      <td>0.50862</td>\n",
       "      <td>GP5</td>\n",
       "      <td>LT</td>\n",
       "      <td>LAT</td>\n",
       "      <td>LT_LAT</td>\n",
       "    </tr>\n",
       "  </tbody>\n",
       "</table>\n",
       "</div>"
      ],
      "text/plain": [
       "            Filename  number     counts        E ksi_name      ksi k_name  \\\n",
       "0  GP11_LT_MED_load1     NaN NaN     80  0.54023     ksi:  0.49649     k:   \n",
       "1  GP10_LT_MED_load2     NaN NaN     80  0.92637     ksi:  0.48846     k:   \n",
       "2  GP10_LT_MED_load3     NaN NaN     80  1.00100     ksi:  0.44014     k:   \n",
       "3   GP5_LT_MED_load1     NaN NaN     80  0.51349     ksi:  0.60804     k:   \n",
       "4   GP5_LT_LAT_load3     NaN NaN     80  0.75942     ksi:  0.44137     k:   \n",
       "\n",
       "          k v_name        v r2name       R2    ID Location Subregion  \\\n",
       "0  0.010601     v:  0.29384   R^2:  0.74939  GP11       LT       MED   \n",
       "1  0.003693     v:  0.30000   R^2:  0.73873  GP10       LT       MED   \n",
       "2  0.002354     v:  0.29151   R^2:  0.90715  GP10       LT       MED   \n",
       "3  0.003899     v:  0.30000   R^2:  0.89013   GP5       LT       MED   \n",
       "4  0.009012     v:  0.30000   R^2:  0.50862   GP5       LT       LAT   \n",
       "\n",
       "  Location_Subregion  \n",
       "0             LT_MED  \n",
       "1             LT_MED  \n",
       "2             LT_MED  \n",
       "3             LT_MED  \n",
       "4             LT_LAT  "
      ]
     },
     "execution_count": 8,
     "metadata": {},
     "output_type": "execute_result"
    }
   ],
   "source": [
    "ITS = pd.read_csv(DATA / 'result_gp_cart_indent.txt', sep = '\\t', header = None)\n",
    "ITS.columns = ['Filename','number', '','counts','E', 'ksi_name', 'ksi','k_name','k','v_name','v','r2name','R2']\n",
    "ITS['ID'] = ITS['Filename'].astype(str).str.split('_').str[0]\n",
    "ITS['Location'] = ITS['Filename'].astype(str).str.split('_').str[1]\n",
    "ITS['Subregion'] = ITS['Filename'].astype(str).str.split('_').str[2]\n",
    "ITS['Location_Subregion'] = ITS['Location'] + '_' + ITS['Subregion']\n",
    "ITS.head()"
   ]
  },
  {
   "cell_type": "code",
   "execution_count": 11,
   "id": "HeHFMEUdtaRC",
   "metadata": {
    "id": "HeHFMEUdtaRC"
   },
   "outputs": [
    {
     "data": {
      "text/html": [
       "<div>\n",
       "<style scoped>\n",
       "    .dataframe tbody tr th:only-of-type {\n",
       "        vertical-align: middle;\n",
       "    }\n",
       "\n",
       "    .dataframe tbody tr th {\n",
       "        vertical-align: top;\n",
       "    }\n",
       "\n",
       "    .dataframe thead th {\n",
       "        text-align: right;\n",
       "    }\n",
       "</style>\n",
       "<table border=\"1\" class=\"dataframe\">\n",
       "  <thead>\n",
       "    <tr style=\"text-align: right;\">\n",
       "      <th></th>\n",
       "      <th>GP</th>\n",
       "      <th>Month</th>\n",
       "    </tr>\n",
       "  </thead>\n",
       "  <tbody>\n",
       "    <tr>\n",
       "      <th>0</th>\n",
       "      <td>GP5</td>\n",
       "      <td>2</td>\n",
       "    </tr>\n",
       "    <tr>\n",
       "      <th>1</th>\n",
       "      <td>GP6</td>\n",
       "      <td>2</td>\n",
       "    </tr>\n",
       "    <tr>\n",
       "      <th>2</th>\n",
       "      <td>GP7</td>\n",
       "      <td>2</td>\n",
       "    </tr>\n",
       "    <tr>\n",
       "      <th>3</th>\n",
       "      <td>GP8</td>\n",
       "      <td>3</td>\n",
       "    </tr>\n",
       "    <tr>\n",
       "      <th>4</th>\n",
       "      <td>GP9</td>\n",
       "      <td>4</td>\n",
       "    </tr>\n",
       "  </tbody>\n",
       "</table>\n",
       "</div>"
      ],
      "text/plain": [
       "    GP  Month\n",
       "0  GP5      2\n",
       "1  GP6      2\n",
       "2  GP7      2\n",
       "3  GP8      3\n",
       "4  GP9      4"
      ]
     },
     "execution_count": 11,
     "metadata": {},
     "output_type": "execute_result"
    }
   ],
   "source": [
    "GP_ID = pd.read_csv(DATA /'GP_fileID_histo.txt', header = None, sep = '\\t')\n",
    "GP_ID.columns = ['GP','Month']\n",
    "GP_ID.head()"
   ]
  },
  {
   "cell_type": "code",
   "execution_count": 12,
   "id": "1RIu2uXo2l5w",
   "metadata": {
    "colab": {
     "base_uri": "https://localhost:8080/",
     "height": 314
    },
    "id": "1RIu2uXo2l5w",
    "outputId": "a325aac0-72ff-4a27-82db-668782e8817b"
   },
   "outputs": [
    {
     "data": {
      "text/html": [
       "<div>\n",
       "<style scoped>\n",
       "    .dataframe tbody tr th:only-of-type {\n",
       "        vertical-align: middle;\n",
       "    }\n",
       "\n",
       "    .dataframe tbody tr th {\n",
       "        vertical-align: top;\n",
       "    }\n",
       "\n",
       "    .dataframe thead th {\n",
       "        text-align: right;\n",
       "    }\n",
       "</style>\n",
       "<table border=\"1\" class=\"dataframe\">\n",
       "  <thead>\n",
       "    <tr style=\"text-align: right;\">\n",
       "      <th></th>\n",
       "      <th>Filename</th>\n",
       "      <th>number</th>\n",
       "      <th></th>\n",
       "      <th>counts</th>\n",
       "      <th>E</th>\n",
       "      <th>ksi_name</th>\n",
       "      <th>ksi</th>\n",
       "      <th>k_name</th>\n",
       "      <th>k</th>\n",
       "      <th>v_name</th>\n",
       "      <th>v</th>\n",
       "      <th>r2name</th>\n",
       "      <th>R2</th>\n",
       "      <th>ID</th>\n",
       "      <th>Location</th>\n",
       "      <th>Subregion</th>\n",
       "      <th>Location_Subregion</th>\n",
       "      <th>GP</th>\n",
       "      <th>Month</th>\n",
       "    </tr>\n",
       "  </thead>\n",
       "  <tbody>\n",
       "    <tr>\n",
       "      <th>0</th>\n",
       "      <td>GP11_LT_MED_load1</td>\n",
       "      <td>NaN</td>\n",
       "      <td>NaN</td>\n",
       "      <td>80</td>\n",
       "      <td>0.54023</td>\n",
       "      <td>ksi:</td>\n",
       "      <td>0.49649</td>\n",
       "      <td>k:</td>\n",
       "      <td>0.010601</td>\n",
       "      <td>v:</td>\n",
       "      <td>0.29384</td>\n",
       "      <td>R^2:</td>\n",
       "      <td>0.74939</td>\n",
       "      <td>GP11</td>\n",
       "      <td>LT</td>\n",
       "      <td>MED</td>\n",
       "      <td>LT_MED</td>\n",
       "      <td>GP11</td>\n",
       "      <td>5</td>\n",
       "    </tr>\n",
       "    <tr>\n",
       "      <th>1</th>\n",
       "      <td>GP10_LT_MED_load2</td>\n",
       "      <td>NaN</td>\n",
       "      <td>NaN</td>\n",
       "      <td>80</td>\n",
       "      <td>0.92637</td>\n",
       "      <td>ksi:</td>\n",
       "      <td>0.48846</td>\n",
       "      <td>k:</td>\n",
       "      <td>0.003693</td>\n",
       "      <td>v:</td>\n",
       "      <td>0.30000</td>\n",
       "      <td>R^2:</td>\n",
       "      <td>0.73873</td>\n",
       "      <td>GP10</td>\n",
       "      <td>LT</td>\n",
       "      <td>MED</td>\n",
       "      <td>LT_MED</td>\n",
       "      <td>GP10</td>\n",
       "      <td>5</td>\n",
       "    </tr>\n",
       "    <tr>\n",
       "      <th>2</th>\n",
       "      <td>GP10_LT_MED_load3</td>\n",
       "      <td>NaN</td>\n",
       "      <td>NaN</td>\n",
       "      <td>80</td>\n",
       "      <td>1.00100</td>\n",
       "      <td>ksi:</td>\n",
       "      <td>0.44014</td>\n",
       "      <td>k:</td>\n",
       "      <td>0.002354</td>\n",
       "      <td>v:</td>\n",
       "      <td>0.29151</td>\n",
       "      <td>R^2:</td>\n",
       "      <td>0.90715</td>\n",
       "      <td>GP10</td>\n",
       "      <td>LT</td>\n",
       "      <td>MED</td>\n",
       "      <td>LT_MED</td>\n",
       "      <td>GP10</td>\n",
       "      <td>5</td>\n",
       "    </tr>\n",
       "    <tr>\n",
       "      <th>3</th>\n",
       "      <td>GP10_LT_LAT_load3</td>\n",
       "      <td>NaN</td>\n",
       "      <td>NaN</td>\n",
       "      <td>80</td>\n",
       "      <td>1.34820</td>\n",
       "      <td>ksi:</td>\n",
       "      <td>0.17053</td>\n",
       "      <td>k:</td>\n",
       "      <td>0.000412</td>\n",
       "      <td>v:</td>\n",
       "      <td>0.30000</td>\n",
       "      <td>R^2:</td>\n",
       "      <td>0.98377</td>\n",
       "      <td>GP10</td>\n",
       "      <td>LT</td>\n",
       "      <td>LAT</td>\n",
       "      <td>LT_LAT</td>\n",
       "      <td>GP10</td>\n",
       "      <td>5</td>\n",
       "    </tr>\n",
       "    <tr>\n",
       "      <th>4</th>\n",
       "      <td>GP10_LT_MED_load1</td>\n",
       "      <td>NaN</td>\n",
       "      <td>NaN</td>\n",
       "      <td>80</td>\n",
       "      <td>0.38691</td>\n",
       "      <td>ksi:</td>\n",
       "      <td>0.17236</td>\n",
       "      <td>k:</td>\n",
       "      <td>1.180100</td>\n",
       "      <td>v:</td>\n",
       "      <td>0.30000</td>\n",
       "      <td>R^2:</td>\n",
       "      <td>0.49485</td>\n",
       "      <td>GP10</td>\n",
       "      <td>LT</td>\n",
       "      <td>MED</td>\n",
       "      <td>LT_MED</td>\n",
       "      <td>GP10</td>\n",
       "      <td>5</td>\n",
       "    </tr>\n",
       "  </tbody>\n",
       "</table>\n",
       "</div>"
      ],
      "text/plain": [
       "            Filename  number     counts        E ksi_name      ksi k_name  \\\n",
       "0  GP11_LT_MED_load1     NaN NaN     80  0.54023     ksi:  0.49649     k:   \n",
       "1  GP10_LT_MED_load2     NaN NaN     80  0.92637     ksi:  0.48846     k:   \n",
       "2  GP10_LT_MED_load3     NaN NaN     80  1.00100     ksi:  0.44014     k:   \n",
       "3  GP10_LT_LAT_load3     NaN NaN     80  1.34820     ksi:  0.17053     k:   \n",
       "4  GP10_LT_MED_load1     NaN NaN     80  0.38691     ksi:  0.17236     k:   \n",
       "\n",
       "          k v_name        v r2name       R2    ID Location Subregion  \\\n",
       "0  0.010601     v:  0.29384   R^2:  0.74939  GP11       LT       MED   \n",
       "1  0.003693     v:  0.30000   R^2:  0.73873  GP10       LT       MED   \n",
       "2  0.002354     v:  0.29151   R^2:  0.90715  GP10       LT       MED   \n",
       "3  0.000412     v:  0.30000   R^2:  0.98377  GP10       LT       LAT   \n",
       "4  1.180100     v:  0.30000   R^2:  0.49485  GP10       LT       MED   \n",
       "\n",
       "  Location_Subregion    GP  Month  \n",
       "0             LT_MED  GP11      5  \n",
       "1             LT_MED  GP10      5  \n",
       "2             LT_MED  GP10      5  \n",
       "3             LT_LAT  GP10      5  \n",
       "4             LT_MED  GP10      5  "
      ]
     },
     "execution_count": 12,
     "metadata": {},
     "output_type": "execute_result"
    }
   ],
   "source": [
    "ITS_merge = pd.merge(ITS, GP_ID, left_on = 'ID', right_on = 'GP')\n",
    "ITS_merge.head()"
   ]
  },
  {
   "cell_type": "code",
   "execution_count": 13,
   "id": "NlWAHXkiN3rt",
   "metadata": {
    "colab": {
     "base_uri": "https://localhost:8080/",
     "height": 1000
    },
    "id": "NlWAHXkiN3rt",
    "outputId": "a23dbe5a-69cf-471b-e489-839594fc1a3e"
   },
   "outputs": [
    {
     "data": {
      "text/html": [
       "<div>\n",
       "<style scoped>\n",
       "    .dataframe tbody tr th:only-of-type {\n",
       "        vertical-align: middle;\n",
       "    }\n",
       "\n",
       "    .dataframe tbody tr th {\n",
       "        vertical-align: top;\n",
       "    }\n",
       "\n",
       "    .dataframe thead th {\n",
       "        text-align: right;\n",
       "    }\n",
       "</style>\n",
       "<table border=\"1\" class=\"dataframe\">\n",
       "  <thead>\n",
       "    <tr style=\"text-align: right;\">\n",
       "      <th></th>\n",
       "      <th></th>\n",
       "      <th>number</th>\n",
       "      <th></th>\n",
       "      <th>E</th>\n",
       "      <th>ksi</th>\n",
       "      <th>k</th>\n",
       "      <th>v</th>\n",
       "      <th>R2</th>\n",
       "    </tr>\n",
       "    <tr>\n",
       "      <th>Location_Subregion</th>\n",
       "      <th>Month</th>\n",
       "      <th></th>\n",
       "      <th></th>\n",
       "      <th></th>\n",
       "      <th></th>\n",
       "      <th></th>\n",
       "      <th></th>\n",
       "      <th></th>\n",
       "    </tr>\n",
       "  </thead>\n",
       "  <tbody>\n",
       "    <tr>\n",
       "      <th>LF_LAT</th>\n",
       "      <th>2</th>\n",
       "      <td>5.500</td>\n",
       "      <td>NaN</td>\n",
       "      <td>3.338700</td>\n",
       "      <td>5.111400</td>\n",
       "      <td>0.000524</td>\n",
       "      <td>0.300000</td>\n",
       "      <td>0.688650</td>\n",
       "    </tr>\n",
       "    <tr>\n",
       "      <th>LT_LAD</th>\n",
       "      <th>2</th>\n",
       "      <td>60.000</td>\n",
       "      <td>NaN</td>\n",
       "      <td>0.453330</td>\n",
       "      <td>3.018500</td>\n",
       "      <td>0.039010</td>\n",
       "      <td>0.300000</td>\n",
       "      <td>0.605550</td>\n",
       "    </tr>\n",
       "    <tr>\n",
       "      <th rowspan=\"4\" valign=\"top\">LT_LAT</th>\n",
       "      <th>2</th>\n",
       "      <td>NaN</td>\n",
       "      <td>NaN</td>\n",
       "      <td>0.759420</td>\n",
       "      <td>0.441370</td>\n",
       "      <td>0.009012</td>\n",
       "      <td>0.300000</td>\n",
       "      <td>0.508620</td>\n",
       "    </tr>\n",
       "    <tr>\n",
       "      <th>3</th>\n",
       "      <td>43.500</td>\n",
       "      <td>NaN</td>\n",
       "      <td>9.713350</td>\n",
       "      <td>2.454115</td>\n",
       "      <td>0.000089</td>\n",
       "      <td>0.300000</td>\n",
       "      <td>0.332220</td>\n",
       "    </tr>\n",
       "    <tr>\n",
       "      <th>4</th>\n",
       "      <td>24.125</td>\n",
       "      <td>NaN</td>\n",
       "      <td>1.979205</td>\n",
       "      <td>2.126577</td>\n",
       "      <td>0.007927</td>\n",
       "      <td>0.301231</td>\n",
       "      <td>-5.448738</td>\n",
       "    </tr>\n",
       "    <tr>\n",
       "      <th>5</th>\n",
       "      <td>1.000</td>\n",
       "      <td>NaN</td>\n",
       "      <td>2.209750</td>\n",
       "      <td>0.295840</td>\n",
       "      <td>0.000247</td>\n",
       "      <td>0.300000</td>\n",
       "      <td>0.980620</td>\n",
       "    </tr>\n",
       "    <tr>\n",
       "      <th rowspan=\"4\" valign=\"top\">LT_MED</th>\n",
       "      <th>2</th>\n",
       "      <td>NaN</td>\n",
       "      <td>NaN</td>\n",
       "      <td>0.513490</td>\n",
       "      <td>0.608040</td>\n",
       "      <td>0.003899</td>\n",
       "      <td>0.300000</td>\n",
       "      <td>0.890130</td>\n",
       "    </tr>\n",
       "    <tr>\n",
       "      <th>3</th>\n",
       "      <td>26.000</td>\n",
       "      <td>NaN</td>\n",
       "      <td>1.635103</td>\n",
       "      <td>0.265754</td>\n",
       "      <td>0.009306</td>\n",
       "      <td>0.300000</td>\n",
       "      <td>0.498165</td>\n",
       "    </tr>\n",
       "    <tr>\n",
       "      <th>4</th>\n",
       "      <td>28.500</td>\n",
       "      <td>NaN</td>\n",
       "      <td>3.838118</td>\n",
       "      <td>2.754378</td>\n",
       "      <td>0.000757</td>\n",
       "      <td>0.307222</td>\n",
       "      <td>0.753273</td>\n",
       "    </tr>\n",
       "    <tr>\n",
       "      <th>5</th>\n",
       "      <td>29.000</td>\n",
       "      <td>NaN</td>\n",
       "      <td>0.713627</td>\n",
       "      <td>0.399363</td>\n",
       "      <td>0.299187</td>\n",
       "      <td>0.296337</td>\n",
       "      <td>0.722530</td>\n",
       "    </tr>\n",
       "  </tbody>\n",
       "</table>\n",
       "</div>"
      ],
      "text/plain": [
       "                          number             E       ksi         k         v  \\\n",
       "Location_Subregion Month                                                       \n",
       "LF_LAT             2       5.500 NaN  3.338700  5.111400  0.000524  0.300000   \n",
       "LT_LAD             2      60.000 NaN  0.453330  3.018500  0.039010  0.300000   \n",
       "LT_LAT             2         NaN NaN  0.759420  0.441370  0.009012  0.300000   \n",
       "                   3      43.500 NaN  9.713350  2.454115  0.000089  0.300000   \n",
       "                   4      24.125 NaN  1.979205  2.126577  0.007927  0.301231   \n",
       "                   5       1.000 NaN  2.209750  0.295840  0.000247  0.300000   \n",
       "LT_MED             2         NaN NaN  0.513490  0.608040  0.003899  0.300000   \n",
       "                   3      26.000 NaN  1.635103  0.265754  0.009306  0.300000   \n",
       "                   4      28.500 NaN  3.838118  2.754378  0.000757  0.307222   \n",
       "                   5      29.000 NaN  0.713627  0.399363  0.299187  0.296337   \n",
       "\n",
       "                                R2  \n",
       "Location_Subregion Month            \n",
       "LF_LAT             2      0.688650  \n",
       "LT_LAD             2      0.605550  \n",
       "LT_LAT             2      0.508620  \n",
       "                   3      0.332220  \n",
       "                   4     -5.448738  \n",
       "                   5      0.980620  \n",
       "LT_MED             2      0.890130  \n",
       "                   3      0.498165  \n",
       "                   4      0.753273  \n",
       "                   5      0.722530  "
      ]
     },
     "execution_count": 13,
     "metadata": {},
     "output_type": "execute_result"
    }
   ],
   "source": [
    "ITS_merge.groupby(['Location_Subregion', 'Month']).mean()"
   ]
  },
  {
   "cell_type": "code",
   "execution_count": 14,
   "id": "KI6QmdiPN9Zd",
   "metadata": {
    "colab": {
     "base_uri": "https://localhost:8080/",
     "height": 1000
    },
    "id": "KI6QmdiPN9Zd",
    "outputId": "de728f5f-a377-4df9-d50b-b90d2d30e542"
   },
   "outputs": [
    {
     "data": {
      "text/html": [
       "<div>\n",
       "<style scoped>\n",
       "    .dataframe tbody tr th:only-of-type {\n",
       "        vertical-align: middle;\n",
       "    }\n",
       "\n",
       "    .dataframe tbody tr th {\n",
       "        vertical-align: top;\n",
       "    }\n",
       "\n",
       "    .dataframe thead th {\n",
       "        text-align: right;\n",
       "    }\n",
       "</style>\n",
       "<table border=\"1\" class=\"dataframe\">\n",
       "  <thead>\n",
       "    <tr style=\"text-align: right;\">\n",
       "      <th></th>\n",
       "      <th></th>\n",
       "      <th>number</th>\n",
       "      <th></th>\n",
       "      <th>E</th>\n",
       "      <th>ksi</th>\n",
       "      <th>k</th>\n",
       "      <th>v</th>\n",
       "      <th>R2</th>\n",
       "    </tr>\n",
       "    <tr>\n",
       "      <th>Location_Subregion</th>\n",
       "      <th>Month</th>\n",
       "      <th></th>\n",
       "      <th></th>\n",
       "      <th></th>\n",
       "      <th></th>\n",
       "      <th></th>\n",
       "      <th></th>\n",
       "      <th></th>\n",
       "    </tr>\n",
       "  </thead>\n",
       "  <tbody>\n",
       "    <tr>\n",
       "      <th>LF_LAT</th>\n",
       "      <th>2</th>\n",
       "      <td>0.707107</td>\n",
       "      <td>NaN</td>\n",
       "      <td>NaN</td>\n",
       "      <td>NaN</td>\n",
       "      <td>NaN</td>\n",
       "      <td>NaN</td>\n",
       "      <td>NaN</td>\n",
       "    </tr>\n",
       "    <tr>\n",
       "      <th>LT_LAD</th>\n",
       "      <th>2</th>\n",
       "      <td>NaN</td>\n",
       "      <td>NaN</td>\n",
       "      <td>NaN</td>\n",
       "      <td>NaN</td>\n",
       "      <td>NaN</td>\n",
       "      <td>NaN</td>\n",
       "      <td>NaN</td>\n",
       "    </tr>\n",
       "    <tr>\n",
       "      <th rowspan=\"4\" valign=\"top\">LT_LAT</th>\n",
       "      <th>2</th>\n",
       "      <td>NaN</td>\n",
       "      <td>NaN</td>\n",
       "      <td>NaN</td>\n",
       "      <td>NaN</td>\n",
       "      <td>NaN</td>\n",
       "      <td>NaN</td>\n",
       "      <td>NaN</td>\n",
       "    </tr>\n",
       "    <tr>\n",
       "      <th>3</th>\n",
       "      <td>3.535534</td>\n",
       "      <td>NaN</td>\n",
       "      <td>5.914312</td>\n",
       "      <td>3.235417</td>\n",
       "      <td>0.000029</td>\n",
       "      <td>0.000000</td>\n",
       "      <td>0.179421</td>\n",
       "    </tr>\n",
       "    <tr>\n",
       "      <th>4</th>\n",
       "      <td>19.126926</td>\n",
       "      <td>NaN</td>\n",
       "      <td>1.078914</td>\n",
       "      <td>2.009699</td>\n",
       "      <td>0.015861</td>\n",
       "      <td>0.003483</td>\n",
       "      <td>16.308248</td>\n",
       "    </tr>\n",
       "    <tr>\n",
       "      <th>5</th>\n",
       "      <td>NaN</td>\n",
       "      <td>NaN</td>\n",
       "      <td>1.218416</td>\n",
       "      <td>0.177215</td>\n",
       "      <td>0.000233</td>\n",
       "      <td>0.000000</td>\n",
       "      <td>0.004455</td>\n",
       "    </tr>\n",
       "    <tr>\n",
       "      <th rowspan=\"4\" valign=\"top\">LT_MED</th>\n",
       "      <th>2</th>\n",
       "      <td>NaN</td>\n",
       "      <td>NaN</td>\n",
       "      <td>NaN</td>\n",
       "      <td>NaN</td>\n",
       "      <td>NaN</td>\n",
       "      <td>NaN</td>\n",
       "      <td>NaN</td>\n",
       "    </tr>\n",
       "    <tr>\n",
       "      <th>3</th>\n",
       "      <td>15.083103</td>\n",
       "      <td>NaN</td>\n",
       "      <td>1.221958</td>\n",
       "      <td>0.167569</td>\n",
       "      <td>0.012528</td>\n",
       "      <td>0.000000</td>\n",
       "      <td>0.394525</td>\n",
       "    </tr>\n",
       "    <tr>\n",
       "      <th>4</th>\n",
       "      <td>22.607521</td>\n",
       "      <td>NaN</td>\n",
       "      <td>4.450300</td>\n",
       "      <td>1.941332</td>\n",
       "      <td>0.000899</td>\n",
       "      <td>0.017689</td>\n",
       "      <td>0.167669</td>\n",
       "    </tr>\n",
       "    <tr>\n",
       "      <th>5</th>\n",
       "      <td>NaN</td>\n",
       "      <td>NaN</td>\n",
       "      <td>0.297015</td>\n",
       "      <td>0.153368</td>\n",
       "      <td>0.587286</td>\n",
       "      <td>0.004335</td>\n",
       "      <td>0.170202</td>\n",
       "    </tr>\n",
       "  </tbody>\n",
       "</table>\n",
       "</div>"
      ],
      "text/plain": [
       "                             number             E       ksi         k  \\\n",
       "Location_Subregion Month                                                \n",
       "LF_LAT             2       0.707107 NaN       NaN       NaN       NaN   \n",
       "LT_LAD             2            NaN NaN       NaN       NaN       NaN   \n",
       "LT_LAT             2            NaN NaN       NaN       NaN       NaN   \n",
       "                   3       3.535534 NaN  5.914312  3.235417  0.000029   \n",
       "                   4      19.126926 NaN  1.078914  2.009699  0.015861   \n",
       "                   5            NaN NaN  1.218416  0.177215  0.000233   \n",
       "LT_MED             2            NaN NaN       NaN       NaN       NaN   \n",
       "                   3      15.083103 NaN  1.221958  0.167569  0.012528   \n",
       "                   4      22.607521 NaN  4.450300  1.941332  0.000899   \n",
       "                   5            NaN NaN  0.297015  0.153368  0.587286   \n",
       "\n",
       "                                 v         R2  \n",
       "Location_Subregion Month                       \n",
       "LF_LAT             2           NaN        NaN  \n",
       "LT_LAD             2           NaN        NaN  \n",
       "LT_LAT             2           NaN        NaN  \n",
       "                   3      0.000000   0.179421  \n",
       "                   4      0.003483  16.308248  \n",
       "                   5      0.000000   0.004455  \n",
       "LT_MED             2           NaN        NaN  \n",
       "                   3      0.000000   0.394525  \n",
       "                   4      0.017689   0.167669  \n",
       "                   5      0.004335   0.170202  "
      ]
     },
     "execution_count": 14,
     "metadata": {},
     "output_type": "execute_result"
    }
   ],
   "source": [
    "ITS_merge.groupby(['Location_Subregion', 'Month']).std()"
   ]
  },
  {
   "cell_type": "markdown",
   "id": "JkKmCcrlwqU2",
   "metadata": {
    "id": "JkKmCcrlwqU2",
    "tags": [],
    "toc-hr-collapsed": true
   },
   "source": [
    "### Add code to save merged dataframe and can start with that"
   ]
  },
  {
   "cell_type": "markdown",
   "id": "YV39FnO3N4Rt",
   "metadata": {
    "id": "YV39FnO3N4Rt",
    "tags": [],
    "toc-hr-collapsed": true
   },
   "source": [
    "## Filter by individual GP"
   ]
  },
  {
   "cell_type": "code",
   "execution_count": null,
   "id": "k4TdBE8c2ceA",
   "metadata": {
    "id": "k4TdBE8c2ceA"
   },
   "outputs": [],
   "source": [
    "def label_cohort (row):\n",
    "   if row['GP'] == 'GP_10':\n",
    "      return 5\n",
    "   if row['GP'] == 'GP_11':\n",
    "      return 5\n",
    "   if row['GP'] == 'GP_12':\n",
    "      return 5\n",
    "   if row['GP'] == 'GP_13':\n",
    "      return 4\n",
    "   if row['GP'] == 'GP_14':\n",
    "      return 4\n",
    "   if row['GP'] == 'GP_15':\n",
    "      return 4\n",
    "   if row['GP'] == 'GP_8':\n",
    "      return 3\n",
    "   if row['GP'] == 'GP_9':\n",
    "      return 3\n",
    "   if row['GP'] == 'GP_16':\n",
    "      return 3\n",
    "   if row['GP'] == 'GP_17':\n",
    "      return 3\n",
    "   return 0"
   ]
  },
  {
   "cell_type": "code",
   "execution_count": null,
   "id": "KEk6W73m5U_8",
   "metadata": {
    "id": "KEk6W73m5U_8"
   },
   "outputs": [],
   "source": [
    "ITS_merge['Cohort'] = ITS_merge.apply(lambda row: label_cohort(row), axis=1)"
   ]
  },
  {
   "cell_type": "code",
   "execution_count": null,
   "id": "3Lf2x7P0NIdR",
   "metadata": {
    "id": "3Lf2x7P0NIdR"
   },
   "outputs": [],
   "source": [
    "ITS_merge['GP_Location_Subregion'] = ITS_merge['GP'] + '_' + ITS_merge['Location_Subregion']"
   ]
  },
  {
   "cell_type": "code",
   "execution_count": null,
   "id": "yavYrrZqN0ve",
   "metadata": {
    "id": "yavYrrZqN0ve"
   },
   "outputs": [],
   "source": [
    "ITS_erode_RT_MED = ITS_merge[(ITS_merge.Location_Subregion == \"RT_MED\")]"
   ]
  },
  {
   "cell_type": "code",
   "execution_count": null,
   "id": "WSlFbslgRpOO",
   "metadata": {
    "colab": {
     "base_uri": "https://localhost:8080/",
     "height": 905
    },
    "id": "WSlFbslgRpOO",
    "outputId": "4cf11a20-f35d-49fe-c3ae-f2a6f83a8624"
   },
   "outputs": [],
   "source": [
    "ITS_erode_RT_MED.groupby(['GP', 'Month']).mean()"
   ]
  },
  {
   "cell_type": "code",
   "execution_count": null,
   "id": "OEBQa5WeKpb5",
   "metadata": {
    "colab": {
     "base_uri": "https://localhost:8080/",
     "height": 394
    },
    "id": "OEBQa5WeKpb5",
    "outputId": "6002bc10-1d00-4be4-9987-cf833a3b816b"
   },
   "outputs": [],
   "source": [
    "ITS_erode_RT_MED.groupby(['Cohort', 'Month']).mean()"
   ]
  },
  {
   "cell_type": "code",
   "execution_count": null,
   "id": "P4Z2Q3gdK5k-",
   "metadata": {
    "colab": {
     "base_uri": "https://localhost:8080/"
    },
    "id": "P4Z2Q3gdK5k-",
    "outputId": "6035a257-51d7-40c9-9b8b-3d091608b6ef"
   },
   "outputs": [],
   "source": [
    "import scipy.stats as stats\n",
    "\n",
    "stats.f_oneway(ITS_erode_RT_MED['Thickness'][ITS_erode_RT_MED['Cohort'] == 3],\n",
    "               ITS_erode_RT_MED['Thickness'][ITS_erode_RT_MED['Cohort'] == 4],\n",
    "               ITS_erode_RT_MED['Thickness'][ITS_erode_RT_MED['Cohort'] == 5])"
   ]
  },
  {
   "cell_type": "code",
   "execution_count": null,
   "id": "U5QPn3OOLYvd",
   "metadata": {
    "colab": {
     "base_uri": "https://localhost:8080/"
    },
    "id": "U5QPn3OOLYvd",
    "outputId": "9b1fc5d8-ef31-4c9e-9a18-aa0533fce534"
   },
   "outputs": [],
   "source": [
    "stats.f_oneway(ITS_erode_RT_MED['Porosity'][ITS_erode_RT_MED['Cohort'] == 3],\n",
    "               ITS_erode_RT_MED['Porosity'][ITS_erode_RT_MED['Cohort'] == 4],\n",
    "               ITS_erode_RT_MED['Porosity'][ITS_erode_RT_MED['Cohort'] == 5])"
   ]
  },
  {
   "cell_type": "code",
   "execution_count": null,
   "id": "R_Zf-GydSNi2",
   "metadata": {
    "colab": {
     "base_uri": "https://localhost:8080/"
    },
    "id": "R_Zf-GydSNi2",
    "outputId": "7534e245-f5d4-4f77-9e1b-56def7b09baf"
   },
   "outputs": [],
   "source": [
    "stats.f_oneway(ITS_erode_RT_MED['TMD'][ITS_erode_RT_MED['Cohort'] == 3],\n",
    "               ITS_erode_RT_MED['TMD'][ITS_erode_RT_MED['Cohort'] == 4],\n",
    "               ITS_erode_RT_MED['TMD'][ITS_erode_RT_MED['Cohort'] == 5])"
   ]
  },
  {
   "cell_type": "code",
   "execution_count": null,
   "id": "C474ETZGSSdh",
   "metadata": {
    "colab": {
     "base_uri": "https://localhost:8080/"
    },
    "id": "C474ETZGSSdh",
    "outputId": "0f8d9a15-b930-4014-ad1f-5cb017efc0a7"
   },
   "outputs": [],
   "source": [
    "stats.f_oneway(ITS_erode_RT_MED['BMD'][ITS_erode_RT_MED['Cohort'] == 3],\n",
    "               ITS_erode_RT_MED['BMD'][ITS_erode_RT_MED['Cohort'] == 4],\n",
    "               ITS_erode_RT_MED['BMD'][ITS_erode_RT_MED['Cohort'] == 5])"
   ]
  },
  {
   "cell_type": "markdown",
   "id": "GI0xYtBkkpQd",
   "metadata": {
    "id": "GI0xYtBkkpQd",
    "tags": [],
    "toc-hr-collapsed": true
   },
   "source": [
    "# Cartilage thickness"
   ]
  },
  {
   "cell_type": "code",
   "execution_count": null,
   "id": "UXlFmEoAvL-S",
   "metadata": {
    "id": "UXlFmEoAvL-S"
   },
   "outputs": [],
   "source": [
    "GP_measurements = pd.read_csv(DATA /'gp_measurements.txt', header = None, sep = '\\t')\n",
    "GP_measurements.columns = ['GP','Sample','ID']"
   ]
  },
  {
   "cell_type": "code",
   "execution_count": null,
   "id": "rQjjn_mZvffg",
   "metadata": {
    "id": "rQjjn_mZvffg"
   },
   "outputs": [],
   "source": [
    "GP_cartilage_thickness= pd.read_csv(DATA /'gp_cartilage_thickness.txt', header = None, sep = '\\t')\n",
    "GP_cartilage_thickness.columns = ['Sample','Cart_LAT_thickness','Cart_MED_thickness']"
   ]
  },
  {
   "cell_type": "code",
   "execution_count": null,
   "id": "v-H2nwcxvz4D",
   "metadata": {
    "id": "v-H2nwcxvz4D"
   },
   "outputs": [],
   "source": [
    "GP_merge = pd.merge(GP_cartilage_thickness, GP_measurements, left_on = 'Sample', right_on = 'Sample')\n",
    "GP_merge.head()"
   ]
  },
  {
   "cell_type": "code",
   "execution_count": null,
   "id": "UBIbtLTwzbfZ",
   "metadata": {
    "id": "UBIbtLTwzbfZ"
   },
   "outputs": [],
   "source": [
    "ITS_erode_merge = pd.merge(ITS_erode_merge, GP_merge, left_on = 'ID', right_on = 'ID')\n",
    "ITS_erode_merge.head()"
   ]
  },
  {
   "cell_type": "code",
   "execution_count": null,
   "id": "cg4S4DRerx40",
   "metadata": {
    "id": "cg4S4DRerx40"
   },
   "outputs": [],
   "source": [
    "ITS_erode_merge.to_csv(DATA /'GP_right.txt', sep = '\\t')"
   ]
  },
  {
   "cell_type": "code",
   "execution_count": null,
   "id": "PnHJZ5tc0lue",
   "metadata": {
    "id": "PnHJZ5tc0lue"
   },
   "outputs": [],
   "source": [
    "ax = sns.barplot(data = ITS_erode_merge, x='Location_Subregion', y='Cart_LAT_thickness', hue='Month', estimator=np.mean, ci = 68, capsize=.2)\n",
    "ax.legend_.remove()\n",
    "pairs=[('RF_LAT', 'RF_MED'), ('RF_LAT', 'RT_LAT'), ('RF_LAT', 'RT_MED'),('RF_MED',  'RT_LAT'), ('RF_MED', 'RT_MED'), ('RT_LAT', 'RT_MED')]\n",
    "\n",
    "annotator = Annotator(ax, pairs, data=ITS_erode_merge, x='Location_Subregion', y='Cart_LAT_thickness')\n",
    "annotator.configure(test='t-test_paired', text_format='star', loc='outside')\n",
    "#annotator.apply_and_annotate()"
   ]
  },
  {
   "cell_type": "markdown",
   "id": "8Nva5BYxjkJR",
   "metadata": {
    "id": "8Nva5BYxjkJR",
    "tags": [],
    "toc-hr-collapsed": true
   },
   "source": [
    "# Statistical Analysis"
   ]
  },
  {
   "cell_type": "code",
   "execution_count": null,
   "id": "g0MEeJ-zhj5f",
   "metadata": {
    "colab": {
     "base_uri": "https://localhost:8080/"
    },
    "id": "g0MEeJ-zhj5f",
    "outputId": "3d195ef1-3b7d-4e64-e418-01b1a71bea50"
   },
   "outputs": [],
   "source": [
    "print(pg.normality(ITS_erode_merge))"
   ]
  },
  {
   "cell_type": "markdown",
   "id": "FmJx-WlpH2Yc",
   "metadata": {
    "id": "FmJx-WlpH2Yc"
   },
   "source": [
    "## Longitudinal Analyses"
   ]
  },
  {
   "cell_type": "code",
   "execution_count": null,
   "id": "FP8fgCdcjmj4",
   "metadata": {
    "colab": {
     "base_uri": "https://localhost:8080/"
    },
    "id": "FP8fgCdcjmj4",
    "outputId": "930e51eb-3f31-41e9-a90d-ad172d28794d"
   },
   "outputs": [],
   "source": [
    "ITS_erode_merge.rm_anova(dv='PR_ratio',\n",
    "                  within=['Location_Subregion', 'Month'],\n",
    "                  subject='GP', detailed = False)"
   ]
  },
  {
   "cell_type": "code",
   "execution_count": null,
   "id": "uT1aGwO5Qwlq",
   "metadata": {
    "colab": {
     "base_uri": "https://localhost:8080/"
    },
    "id": "uT1aGwO5Qwlq",
    "outputId": "b946f652-53e7-4ffb-8d97-bd6213f640d9"
   },
   "outputs": [],
   "source": [
    "post_hocs = pg.pairwise_ttests(dv='PR_ratio',\n",
    "                  within=['Location_Subregion', 'Month'],\n",
    "                  subject='GP', padjust='sidak', data = ITS_erode_merge)\n",
    "post_hocs"
   ]
  },
  {
   "cell_type": "code",
   "execution_count": null,
   "id": "ikTm8SLOS1aV",
   "metadata": {
    "id": "ikTm8SLOS1aV"
   },
   "outputs": [],
   "source": [
    "ITS_erode_merge.rm_anova(dv='rTb_N',\n",
    "                  within=['Location_Subregion', 'Month'],\n",
    "                  subject='GP', detailed = False)"
   ]
  },
  {
   "cell_type": "code",
   "execution_count": null,
   "id": "3l5gjlJDS72c",
   "metadata": {
    "id": "3l5gjlJDS72c"
   },
   "outputs": [],
   "source": [
    "post_hocs = pg.pairwise_ttests(dv='rTb_N',\n",
    "                  within=['Location_Subregion', 'Month'],\n",
    "                  subject='GP', padjust='BH', data = ITS_erode_merge)\n",
    "post_hocs"
   ]
  },
  {
   "cell_type": "code",
   "execution_count": null,
   "id": "P3T3SMKzTIs6",
   "metadata": {
    "id": "P3T3SMKzTIs6"
   },
   "outputs": [],
   "source": [
    "ITS_erode_merge.rm_anova(dv='pTb_Th',\n",
    "                  within=['Location_Subregion', 'Month'],\n",
    "                  subject='GP', detailed = False)"
   ]
  },
  {
   "cell_type": "code",
   "execution_count": null,
   "id": "qbiEyCEATLfS",
   "metadata": {
    "id": "qbiEyCEATLfS"
   },
   "outputs": [],
   "source": [
    "post_hocs = pg.pairwise_ttests(dv='pTb_Th',\n",
    "                  within=['Location_Subregion', 'Month'],\n",
    "                  subject='GP', padjust='bonferroni', data = ITS_erode_merge)\n",
    "post_hocs"
   ]
  },
  {
   "cell_type": "markdown",
   "id": "AYwiOOo3H5aa",
   "metadata": {
    "id": "AYwiOOo3H5aa"
   },
   "source": [
    "## Cross-sectional Analyses"
   ]
  },
  {
   "cell_type": "code",
   "execution_count": null,
   "id": "L5mlZfVWH7pS",
   "metadata": {
    "id": "L5mlZfVWH7pS"
   },
   "outputs": [],
   "source": [
    "PR_model = ols('PR_ratio ~ C(Location_Subregion) + C(Month) + C(Location_Subregion):C(Month)', data=ITS_erode_merge).fit()\n",
    "\n",
    "sm.stats.anova_lm(PR_model,typ=2)"
   ]
  },
  {
   "cell_type": "code",
   "execution_count": null,
   "id": "7uk3ZswTKny7",
   "metadata": {
    "id": "7uk3ZswTKny7"
   },
   "outputs": [],
   "source": [
    "sp.posthoc_ttest(ITS_erode_merge, val_col='PR_Ratio', group_col='Month', p_adjust='holm')"
   ]
  },
  {
   "cell_type": "markdown",
   "id": "KsEK9K0vzIKl",
   "metadata": {
    "id": "KsEK9K0vzIKl",
    "tags": [],
    "toc-hr-collapsed": true
   },
   "source": [
    "# Plot ITS results - line graphs\n"
   ]
  },
  {
   "cell_type": "code",
   "execution_count": null,
   "id": "J3w58fLRzP9_",
   "metadata": {
    "id": "J3w58fLRzP9_"
   },
   "outputs": [],
   "source": [
    "plt.style.use('seaborn-bright')\n",
    "plt.rcParams[\"figure.figsize\"] = (20,10)\n",
    "plt.rcParams.update({'font.size': 20}) \n",
    "import numpy as np"
   ]
  },
  {
   "cell_type": "code",
   "execution_count": null,
   "id": "JAT3uGuUzhmw",
   "metadata": {
    "colab": {
     "base_uri": "https://localhost:8080/"
    },
    "id": "JAT3uGuUzhmw",
    "outputId": "fa3dd9ca-c502-49ab-85e6-b7c12721a7f5"
   },
   "outputs": [],
   "source": [
    "ITS_erode_RT_MED[\"Month\"] = ITS_erode_RT_MED[\"Month\"].astype(str)\n",
    "\n",
    "#hue_order = list(['3', '4', '5'])\n",
    "#order = [\"RF_LAT\", \"RF_MED\", \"RT_LAT\",\"RT_MED\"]\n",
    "#order = [\"LF_LAT\", \"LF_MED\", \"LT_LAT\",\"LT_MED\",\"RF_LAT\", \"RF_MED\", \"RT_LAT\",\"RT_MED\"]\n",
    "\n",
    "\n",
    "hue_plot_params = {\n",
    "    'data': ITS_erode_RT_MED,\n",
    "    'x': 'Month',\n",
    "  #  \"order\": order,\n",
    "    \"hue\": \"GP_Location_Subregion\",\n",
    "    #\"hue_order\": \"RT_MED\"\n",
    "    #\"hue_order\": order\n",
    "}"
   ]
  },
  {
   "cell_type": "code",
   "execution_count": null,
   "id": "FmNnUF0szW2n",
   "metadata": {
    "colab": {
     "base_uri": "https://localhost:8080/",
     "height": 624
    },
    "id": "FmNnUF0szW2n",
    "outputId": "cf19e023-1b9e-4450-beba-67d510e5f886"
   },
   "outputs": [],
   "source": [
    "ax = sns.lineplot(**hue_plot_params, y='PR_ratio')"
   ]
  },
  {
   "cell_type": "code",
   "execution_count": null,
   "id": "HX_ofrtmgeSg",
   "metadata": {
    "colab": {
     "base_uri": "https://localhost:8080/",
     "height": 624
    },
    "id": "HX_ofrtmgeSg",
    "outputId": "82b61049-9203-48cc-d1b8-17058eeec221"
   },
   "outputs": [],
   "source": [
    "ax = sns.lineplot(**hue_plot_params, y='BV_TV')"
   ]
  },
  {
   "cell_type": "code",
   "execution_count": null,
   "id": "4170b709-3982-4323-9ccd-28b764019e23",
   "metadata": {},
   "outputs": [],
   "source": [
    "ax = sns.lineplot(**hue_plot_params, y='pBV_TV')"
   ]
  },
  {
   "cell_type": "code",
   "execution_count": null,
   "id": "pG6ERlX3YoYE",
   "metadata": {
    "colab": {
     "base_uri": "https://localhost:8080/",
     "height": 624
    },
    "id": "pG6ERlX3YoYE",
    "outputId": "f527e985-1fd0-4376-8b69-1b8751bc288a"
   },
   "outputs": [],
   "source": [
    "ax = sns.lineplot(**hue_plot_params, y='rBV_TV')"
   ]
  },
  {
   "cell_type": "code",
   "execution_count": null,
   "id": "iTtXiwJ-THDe",
   "metadata": {
    "colab": {
     "base_uri": "https://localhost:8080/",
     "height": 624
    },
    "id": "iTtXiwJ-THDe",
    "outputId": "fa93a70b-cd2c-463e-c461-13a91cf64e12"
   },
   "outputs": [],
   "source": [
    "ax = sns.lineplot(**hue_plot_params, y='rTb_N')"
   ]
  },
  {
   "cell_type": "code",
   "execution_count": null,
   "id": "Yz6ZbnLwTK37",
   "metadata": {
    "colab": {
     "base_uri": "https://localhost:8080/",
     "height": 624
    },
    "id": "Yz6ZbnLwTK37",
    "outputId": "8ccef3d6-68cd-4abb-a946-f241cc48c88a"
   },
   "outputs": [],
   "source": [
    "ax = sns.lineplot(**hue_plot_params, y='rTb_Th')"
   ]
  },
  {
   "cell_type": "code",
   "execution_count": null,
   "id": "q5bNH42K2g8_",
   "metadata": {
    "colab": {
     "base_uri": "https://localhost:8080/",
     "height": 624
    },
    "id": "q5bNH42K2g8_",
    "outputId": "9ae4c44a-8f5d-4e7e-b957-50aa81c8b9c9"
   },
   "outputs": [],
   "source": [
    "ax = sns.lineplot(**hue_plot_params, y='pTb_Th')"
   ]
  },
  {
   "cell_type": "markdown",
   "id": "bdYe_VDgHg24",
   "metadata": {
    "id": "bdYe_VDgHg24"
   },
   "source": [
    "# Plot ITS results bar graphs\n"
   ]
  },
  {
   "cell_type": "code",
   "execution_count": 15,
   "id": "1df6022d",
   "metadata": {
    "id": "1df6022d"
   },
   "outputs": [],
   "source": [
    "plt.style.use('seaborn-muted')\n",
    "#plt.style.use('dark_background')\n",
    "#plt.style.use('seaborn-bright')\n",
    "#plt.style.use('grayscale')\n",
    "#colors=['darkgray','gray','dimgray','lightgray']\n",
    "#plt.style.use('seaborn-Greys')"
   ]
  },
  {
   "cell_type": "code",
   "execution_count": 16,
   "id": "2fb7d310",
   "metadata": {
    "id": "2fb7d310"
   },
   "outputs": [],
   "source": [
    "#plt.rcParams[\"figure.figsize\"] = (5.5, 4)\n",
    "#plt.rcParams[\"figure.figsize\"] = (16.5,6.2)\n",
    "plt.rcParams[\"figure.figsize\"] = (16.5,16.5)\n",
    "#plt.rcParams[\"figure.figsize\"] = (12,5)\n",
    "plt.rcParams.update({'font.size': 20}) # 'font.weight' : 'bold', 'axes.labelweight': 'bold'})"
   ]
  },
  {
   "cell_type": "code",
   "execution_count": 17,
   "id": "PvfyDxV-o1Fd",
   "metadata": {
    "id": "PvfyDxV-o1Fd"
   },
   "outputs": [],
   "source": [
    "import numpy as np"
   ]
  },
  {
   "cell_type": "code",
   "execution_count": 27,
   "id": "C9JdAQ3nT542",
   "metadata": {
    "id": "C9JdAQ3nT542"
   },
   "outputs": [],
   "source": [
    "ITS_merge[\"Month\"] = ITS_merge[\"Month\"].astype(str)\n",
    "#ITS_merge_5months[\"Month\"] = ITS_merge_5months[\"Month\"].astype(str)\n",
    "\n",
    "hue_order = list(['2', '3', '4', '5'])\n",
    "order = [\"LF_LAT\", \"LF_MED\", \"LT_LAT\",\"LT_MED\"]\n",
    "#order = [\"LF_LAT\", \"LF_MED\", \"LT_LAT\",\"LT_MED\",\"RF_LAT\", \"RF_MED\", \"RT_LAT\",\"RT_MED\"]\n",
    "\n",
    "\n",
    "hue_plot_params = {\n",
    "    'data': ITS_merge,\n",
    "    'x': 'Location_Subregion',\n",
    "    \"order\": order,\n",
    "    \"hue\": \"Month\",\n",
    "    \"hue_order\": hue_order\n",
    "}"
   ]
  },
  {
   "cell_type": "code",
   "execution_count": 19,
   "id": "ba4f9b77-8590-47c9-b79b-7a9500c6d6ba",
   "metadata": {},
   "outputs": [],
   "source": [
    "import seaborn as sns\n",
    "\n",
    "def ITS_plot(ITS_param):\n",
    "    sns.set_context(rc = {'patch.linewidth': 1.0})\n",
    "    ax = sns.barplot(**hue_plot_params, y=ITS_param, estimator=np.mean, ci=68, capsize=.2, errcolor='black') \n",
    "    #,fill=False)\n",
    "    ax = sns.stripplot(**hue_plot_params, y=ITS_param, color='black', dodge=True)\n",
    "    \n",
    "    #ax = sns.barplot(**hue_plot_params, y=ITS_param, estimator=np.mean, ci=68, capsize=.2, errcolor='black') #,fill=False)\n",
    "    #ax = sns.swarmplot(**hue_plot_params, y=ITS_param, color='black', dodge=True)\n",
    "    \n",
    "    ax.set(xlabel = 'Location')\n",
    "    ax.set(ylabel = '')\n",
    "    ax.set(title = ITS_param)\n",
    "\n",
    "    ax.legend_.remove()\n",
    "    #ax.legend(loc='upper center',ncol=4)\n",
    "    ax.spines['top'].set_visible(True)\n",
    "    ax.spines['right'].set_visible(True)\n",
    "\n",
    "    annotator = Annotator(ax, pairs, **hue_plot_params, y=ITS_param,show_non_significant=False)\n",
    "    annotator.configure(test='t-test_ind', comparisons_correction='BH', correction_format=\"replace\", text_format='star', color='black', loc='inside',pvalue_thresholds=[[1e-4, \"*\"], [1e-3, \"*\"], [1e-2, \"*\"], [0.05, \"*\"],[1, \"\"]])\n",
    "    annotator.apply_and_annotate()\n",
    " \n",
    "    img_name = str(DATA) + \"/ITS_\" + ITS_param + \".png\"\n",
    "    plt.tight_layout()\n",
    "\n",
    "    plt.savefig(img_name, bbox_inches = \"tight\")\n"
   ]
  },
  {
   "cell_type": "code",
   "execution_count": 28,
   "id": "d55df5be-1cb2-4ff0-bd75-cc04db3e0082",
   "metadata": {},
   "outputs": [],
   "source": [
    "def ITS_subplots(ITS_param1, ITS_param2, ITS_param3):\n",
    "    plt.subplot(1,3,1)\n",
    "    ITS_plot(ITS_param1)\n",
    "    plt.xticks(rotation=45, ha='right')\n",
    "    plt.subplot(1,3,2)\n",
    "    ITS_plot(ITS_param2)\n",
    "    plt.xticks(rotation=45, ha='right')\n",
    "    plt.subplot(1,3,3)\n",
    "    ITS_plot(ITS_param3)\n",
    "    plt.xticks(rotation=45, ha='right')\n",
    "    \n",
    "    img_name = str(DATA) + \"/cartilage_subplots.png\"\n",
    "    plt.tight_layout(pad=0.4, w_pad=0.5, h_pad=1.0)\n",
    "    plt.savefig(img_name) #, bbox_inches = \"tight\")\t"
   ]
  },
  {
   "cell_type": "code",
   "execution_count": 21,
   "id": "7c32db41-da2c-4ae9-9461-23ae4d2f3afe",
   "metadata": {},
   "outputs": [],
   "source": [
    "ITS_merge.to_csv(DATA/'SBP_merge.csv',index=False)"
   ]
  },
  {
   "cell_type": "code",
   "execution_count": 22,
   "id": "-ngl3cQQY6jF",
   "metadata": {
    "id": "-ngl3cQQY6jF"
   },
   "outputs": [],
   "source": [
    "pairs=[[('RF_LAT','2'), ('RF_LAT','3')], [('RF_LAT','2'), ('RF_LAT','4')], [('RF_LAT','2'), ('RF_LAT','5')],[('RF_LAT','3'), ('RF_LAT','4')],[('RF_LAT','3'), ('RF_LAT','5')],[('RF_LAT','4'), ('RF_LAT','5')],\n",
    "       [('RF_MED','2'), ('RF_MED','3')], [('RF_MED','2'), ('RF_MED','4')], [('RF_MED','2'), ('RF_MED','5')],[('RF_MED','3'), ('RF_MED','4')],[('RF_MED','3'), ('RF_MED','5')],[('RF_MED','4'), ('RF_MED','5')],\n",
    "       [('RT_LAT','2'), ('RT_LAT','3')], [('RT_LAT','2'), ('RT_LAT','4')], [('RT_LAT','2'), ('RT_LAT','5')],[('RT_LAT','3'), ('RT_LAT','4')],[('RT_LAT','3'), ('RT_LAT','5')],[('RT_LAT','4'), ('RT_LAT','5')],\n",
    "       [('RT_MED','2'), ('RT_MED','3')], [('RT_MED','2'), ('RT_MED','4')], [('RT_MED','2'), ('RT_MED','5')],[('RT_MED','3'), ('RT_MED','4')],[('RT_MED','3'), ('RT_MED','5')],[('RT_MED','4'), ('RT_MED','5')]]"
   ]
  },
  {
   "cell_type": "code",
   "execution_count": null,
   "id": "3ee17bc7-b461-4566-89a4-81040d21df81",
   "metadata": {
    "id": "tqK8YlYtyoCJ"
   },
   "outputs": [],
   "source": [
    "pairs=[[('RF_LAT','2'), ('RF_LAT','3')], [('RF_LAT','2'), ('RF_LAT','4')], [('RF_LAT','2'), ('RF_LAT','5')],[('RF_LAT','3'), ('RF_LAT','4')],[('RF_LAT','3'), ('RF_LAT','5')],[('RF_LAT','4'), ('RF_LAT','5')],\n",
    "       [('RF_MED','2'), ('RF_MED','3')], [('RF_MED','2'), ('RF_MED','4')], [('RF_MED','2'), ('RF_MED','5')],[('RF_MED','3'), ('RF_MED','4')],[('RF_MED','3'), ('RF_MED','5')],[('RF_MED','4'), ('RF_MED','5')],\n",
    "       [('RT_LAT','2'), ('RT_LAT','3')], [('RT_LAT','2'), ('RT_LAT','4')], [('RT_LAT','2'), ('RT_LAT','5')],[('RT_LAT','3'), ('RT_LAT','4')],[('RT_LAT','3'), ('RT_LAT','5')],[('RT_LAT','4'), ('RT_LAT','5')],\n",
    "       [('RT_MED','2'), ('RT_MED','3')], [('RT_MED','2'), ('RT_MED','4')], [('RT_MED','2'), ('RT_MED','5')],[('RT_MED','3'), ('RT_MED','4')],[('RT_MED','3'), ('RT_MED','5')],[('RT_MED','4'), ('RT_MED','5')],\n",
    "       [('LF_LAT','2'), ('LF_LAT','3')], [('LF_LAT','2'), ('LF_LAT','4')], [('LF_LAT','2'), ('LF_LAT','5')],[('LF_LAT','3'), ('LF_LAT','4')],[('LF_LAT','3'), ('LF_LAT','5')],[('LF_LAT','4'), ('LF_LAT','5')],\n",
    "       [('LF_MED','2'), ('LF_MED','3')], [('LF_MED','2'), ('LF_MED','4')], [('LF_MED','2'), ('LF_MED','5')],[('LF_MED','3'), ('LF_MED','4')],[('LF_MED','3'), ('LF_MED','5')],[('LF_MED','4'), ('LF_MED','5')],\n",
    "       [('LT_LAT','2'), ('LT_LAT','3')], [('LT_LAT','2'), ('LT_LAT','4')], [('LT_LAT','2'), ('LT_LAT','5')],[('LT_LAT','3'), ('LT_LAT','4')],[('LT_LAT','3'), ('LT_LAT','5')],[('LT_LAT','4'), ('LT_LAT','5')],\n",
    "       [('LT_MED','2'), ('LT_MED','3')], [('LT_MED','2'), ('LT_MED','4')], [('LT_MED','2'), ('LT_MED','5')],[('LT_MED','3'), ('LT_MED','4')],[('LT_MED','3'), ('LT_MED','5')],[('LT_MED','4'), ('LT_MED','5')]]"
   ]
  },
  {
   "cell_type": "code",
   "execution_count": 29,
   "id": "xbkWI6b2wKKu",
   "metadata": {
    "colab": {
     "base_uri": "https://localhost:8080/",
     "height": 1000
    },
    "id": "xbkWI6b2wKKu",
    "outputId": "d16be2ee-bcb8-4c56-dfd7-07e562aa8795"
   },
   "outputs": [
    {
     "name": "stderr",
     "output_type": "stream",
     "text": [
      "D:\\Anaconda3\\lib\\site-packages\\seaborn\\categorical.py:1143: FutureWarning: elementwise comparison failed; returning scalar instead, but in the future will perform elementwise comparison\n",
      "  hue_mask = self.plot_hues[i] == hue_level\n"
     ]
    },
    {
     "ename": "ValueError",
     "evalue": "Missing x value(s) `\"LF_MED\"` in Location_Subregion (specified in `order`)",
     "output_type": "error",
     "traceback": [
      "\u001b[1;31m---------------------------------------------------------------------------\u001b[0m",
      "\u001b[1;31mValueError\u001b[0m                                Traceback (most recent call last)",
      "Cell \u001b[1;32mIn [29], line 1\u001b[0m\n\u001b[1;32m----> 1\u001b[0m \u001b[43mITS_subplots\u001b[49m\u001b[43m(\u001b[49m\u001b[38;5;124;43m'\u001b[39;49m\u001b[38;5;124;43mE\u001b[39;49m\u001b[38;5;124;43m'\u001b[39;49m\u001b[43m,\u001b[49m\u001b[38;5;124;43m'\u001b[39;49m\u001b[38;5;124;43mksi\u001b[39;49m\u001b[38;5;124;43m'\u001b[39;49m\u001b[43m,\u001b[49m\u001b[38;5;124;43m'\u001b[39;49m\u001b[38;5;124;43mk\u001b[39;49m\u001b[38;5;124;43m'\u001b[39;49m\u001b[43m)\u001b[49m\n",
      "Cell \u001b[1;32mIn [28], line 3\u001b[0m, in \u001b[0;36mITS_subplots\u001b[1;34m(ITS_param1, ITS_param2, ITS_param3)\u001b[0m\n\u001b[0;32m      1\u001b[0m \u001b[38;5;28;01mdef\u001b[39;00m \u001b[38;5;21mITS_subplots\u001b[39m(ITS_param1, ITS_param2, ITS_param3):\n\u001b[0;32m      2\u001b[0m     plt\u001b[38;5;241m.\u001b[39msubplot(\u001b[38;5;241m1\u001b[39m,\u001b[38;5;241m3\u001b[39m,\u001b[38;5;241m1\u001b[39m)\n\u001b[1;32m----> 3\u001b[0m     \u001b[43mITS_plot\u001b[49m\u001b[43m(\u001b[49m\u001b[43mITS_param1\u001b[49m\u001b[43m)\u001b[49m\n\u001b[0;32m      4\u001b[0m     plt\u001b[38;5;241m.\u001b[39mxticks(rotation\u001b[38;5;241m=\u001b[39m\u001b[38;5;241m45\u001b[39m, ha\u001b[38;5;241m=\u001b[39m\u001b[38;5;124m'\u001b[39m\u001b[38;5;124mright\u001b[39m\u001b[38;5;124m'\u001b[39m)\n\u001b[0;32m      5\u001b[0m     plt\u001b[38;5;241m.\u001b[39msubplot(\u001b[38;5;241m1\u001b[39m,\u001b[38;5;241m3\u001b[39m,\u001b[38;5;241m2\u001b[39m)\n",
      "Cell \u001b[1;32mIn [19], line 21\u001b[0m, in \u001b[0;36mITS_plot\u001b[1;34m(ITS_param)\u001b[0m\n\u001b[0;32m     18\u001b[0m ax\u001b[38;5;241m.\u001b[39mspines[\u001b[38;5;124m'\u001b[39m\u001b[38;5;124mtop\u001b[39m\u001b[38;5;124m'\u001b[39m]\u001b[38;5;241m.\u001b[39mset_visible(\u001b[38;5;28;01mTrue\u001b[39;00m)\n\u001b[0;32m     19\u001b[0m ax\u001b[38;5;241m.\u001b[39mspines[\u001b[38;5;124m'\u001b[39m\u001b[38;5;124mright\u001b[39m\u001b[38;5;124m'\u001b[39m]\u001b[38;5;241m.\u001b[39mset_visible(\u001b[38;5;28;01mTrue\u001b[39;00m)\n\u001b[1;32m---> 21\u001b[0m annotator \u001b[38;5;241m=\u001b[39m \u001b[43mAnnotator\u001b[49m\u001b[43m(\u001b[49m\u001b[43max\u001b[49m\u001b[43m,\u001b[49m\u001b[43m \u001b[49m\u001b[43mpairs\u001b[49m\u001b[43m,\u001b[49m\u001b[43m \u001b[49m\u001b[38;5;241;43m*\u001b[39;49m\u001b[38;5;241;43m*\u001b[39;49m\u001b[43mhue_plot_params\u001b[49m\u001b[43m,\u001b[49m\u001b[43m \u001b[49m\u001b[43my\u001b[49m\u001b[38;5;241;43m=\u001b[39;49m\u001b[43mITS_param\u001b[49m\u001b[43m,\u001b[49m\u001b[43mshow_non_significant\u001b[49m\u001b[38;5;241;43m=\u001b[39;49m\u001b[38;5;28;43;01mFalse\u001b[39;49;00m\u001b[43m)\u001b[49m\n\u001b[0;32m     22\u001b[0m annotator\u001b[38;5;241m.\u001b[39mconfigure(test\u001b[38;5;241m=\u001b[39m\u001b[38;5;124m'\u001b[39m\u001b[38;5;124mt-test_ind\u001b[39m\u001b[38;5;124m'\u001b[39m, comparisons_correction\u001b[38;5;241m=\u001b[39m\u001b[38;5;124m'\u001b[39m\u001b[38;5;124mBH\u001b[39m\u001b[38;5;124m'\u001b[39m, correction_format\u001b[38;5;241m=\u001b[39m\u001b[38;5;124m\"\u001b[39m\u001b[38;5;124mreplace\u001b[39m\u001b[38;5;124m\"\u001b[39m, text_format\u001b[38;5;241m=\u001b[39m\u001b[38;5;124m'\u001b[39m\u001b[38;5;124mstar\u001b[39m\u001b[38;5;124m'\u001b[39m, color\u001b[38;5;241m=\u001b[39m\u001b[38;5;124m'\u001b[39m\u001b[38;5;124mblack\u001b[39m\u001b[38;5;124m'\u001b[39m, loc\u001b[38;5;241m=\u001b[39m\u001b[38;5;124m'\u001b[39m\u001b[38;5;124minside\u001b[39m\u001b[38;5;124m'\u001b[39m,pvalue_thresholds\u001b[38;5;241m=\u001b[39m[[\u001b[38;5;241m1e-4\u001b[39m, \u001b[38;5;124m\"\u001b[39m\u001b[38;5;124m*\u001b[39m\u001b[38;5;124m\"\u001b[39m], [\u001b[38;5;241m1e-3\u001b[39m, \u001b[38;5;124m\"\u001b[39m\u001b[38;5;124m*\u001b[39m\u001b[38;5;124m\"\u001b[39m], [\u001b[38;5;241m1e-2\u001b[39m, \u001b[38;5;124m\"\u001b[39m\u001b[38;5;124m*\u001b[39m\u001b[38;5;124m\"\u001b[39m], [\u001b[38;5;241m0.05\u001b[39m, \u001b[38;5;124m\"\u001b[39m\u001b[38;5;124m*\u001b[39m\u001b[38;5;124m\"\u001b[39m],[\u001b[38;5;241m1\u001b[39m, \u001b[38;5;124m\"\u001b[39m\u001b[38;5;124m\"\u001b[39m]])\n\u001b[0;32m     23\u001b[0m annotator\u001b[38;5;241m.\u001b[39mapply_and_annotate()\n",
      "File \u001b[1;32mD:\\Anaconda3\\lib\\site-packages\\statannotations\\Annotator.py:107\u001b[0m, in \u001b[0;36mAnnotator.__init__\u001b[1;34m(self, ax, pairs, plot, data, x, y, hue, order, hue_order, engine, verbose, show_non_significant, **plot_params)\u001b[0m\n\u001b[0;32m    105\u001b[0m     \u001b[38;5;28mself\u001b[39m\u001b[38;5;241m.\u001b[39m_plotter \u001b[38;5;241m=\u001b[39m \u001b[38;5;28;01mNone\u001b[39;00m\n\u001b[0;32m    106\u001b[0m \u001b[38;5;28;01melse\u001b[39;00m:\n\u001b[1;32m--> 107\u001b[0m     \u001b[38;5;28mself\u001b[39m\u001b[38;5;241m.\u001b[39m_plotter \u001b[38;5;241m=\u001b[39m \u001b[38;5;28;43mself\u001b[39;49m\u001b[38;5;241;43m.\u001b[39;49m\u001b[43m_get_plotter\u001b[49m\u001b[43m(\u001b[49m\u001b[43mengine\u001b[49m\u001b[43m,\u001b[49m\u001b[43m \u001b[49m\u001b[43max\u001b[49m\u001b[43m,\u001b[49m\u001b[43m \u001b[49m\u001b[43mpairs\u001b[49m\u001b[43m,\u001b[49m\u001b[43m \u001b[49m\u001b[43mplot\u001b[49m\u001b[43m,\u001b[49m\u001b[43m \u001b[49m\u001b[43mdata\u001b[49m\u001b[43m,\u001b[49m\n\u001b[0;32m    108\u001b[0m \u001b[43m                                      \u001b[49m\u001b[43mx\u001b[49m\u001b[43m,\u001b[49m\u001b[43m \u001b[49m\u001b[43my\u001b[49m\u001b[43m,\u001b[49m\u001b[43m \u001b[49m\u001b[43mhue\u001b[49m\u001b[43m,\u001b[49m\u001b[43m \u001b[49m\u001b[43morder\u001b[49m\u001b[43m,\u001b[49m\u001b[43m \u001b[49m\u001b[43mhue_order\u001b[49m\u001b[43m,\u001b[49m\n\u001b[0;32m    109\u001b[0m \u001b[43m                                      \u001b[49m\u001b[43mverbose\u001b[49m\u001b[38;5;241;43m=\u001b[39;49m\u001b[43mverbose\u001b[49m\u001b[43m,\u001b[49m\u001b[43m \u001b[49m\u001b[38;5;241;43m*\u001b[39;49m\u001b[38;5;241;43m*\u001b[39;49m\u001b[43mplot_params\u001b[49m\u001b[43m)\u001b[49m\n\u001b[0;32m    111\u001b[0m \u001b[38;5;28mself\u001b[39m\u001b[38;5;241m.\u001b[39m_test \u001b[38;5;241m=\u001b[39m \u001b[38;5;28;01mNone\u001b[39;00m\n\u001b[0;32m    112\u001b[0m \u001b[38;5;28mself\u001b[39m\u001b[38;5;241m.\u001b[39mperform_stat_test \u001b[38;5;241m=\u001b[39m \u001b[38;5;28;01mNone\u001b[39;00m\n",
      "File \u001b[1;32mD:\\Anaconda3\\lib\\site-packages\\statannotations\\Annotator.py:781\u001b[0m, in \u001b[0;36mAnnotator._get_plotter\u001b[1;34m(engine, *args, **kwargs)\u001b[0m\n\u001b[0;32m    779\u001b[0m \u001b[38;5;28;01mif\u001b[39;00m engine_plotter \u001b[38;5;129;01mis\u001b[39;00m \u001b[38;5;28;01mNone\u001b[39;00m:\n\u001b[0;32m    780\u001b[0m     \u001b[38;5;28;01mraise\u001b[39;00m \u001b[38;5;167;01mNotImplementedError\u001b[39;00m(\u001b[38;5;124mf\u001b[39m\u001b[38;5;124m\"\u001b[39m\u001b[38;5;132;01m{\u001b[39;00mengine\u001b[38;5;132;01m}\u001b[39;00m\u001b[38;5;124m engine not implemented.\u001b[39m\u001b[38;5;124m\"\u001b[39m)\n\u001b[1;32m--> 781\u001b[0m \u001b[38;5;28;01mreturn\u001b[39;00m \u001b[43mengine_plotter\u001b[49m\u001b[43m(\u001b[49m\u001b[38;5;241;43m*\u001b[39;49m\u001b[43margs\u001b[49m\u001b[43m,\u001b[49m\u001b[43m \u001b[49m\u001b[38;5;241;43m*\u001b[39;49m\u001b[38;5;241;43m*\u001b[39;49m\u001b[43mkwargs\u001b[49m\u001b[43m)\u001b[49m\n",
      "File \u001b[1;32mD:\\Anaconda3\\lib\\site-packages\\statannotations\\_Plotter.py:82\u001b[0m, in \u001b[0;36m_SeabornPlotter.__init__\u001b[1;34m(self, ax, pairs, plot, data, x, y, hue, order, hue_order, verbose, **plot_params)\u001b[0m\n\u001b[0;32m     78\u001b[0m \u001b[38;5;28;01mdef\u001b[39;00m \u001b[38;5;21m__init__\u001b[39m(\u001b[38;5;28mself\u001b[39m, ax, pairs, plot\u001b[38;5;241m=\u001b[39m\u001b[38;5;124m'\u001b[39m\u001b[38;5;124mboxplot\u001b[39m\u001b[38;5;124m'\u001b[39m, data\u001b[38;5;241m=\u001b[39m\u001b[38;5;28;01mNone\u001b[39;00m, x\u001b[38;5;241m=\u001b[39m\u001b[38;5;28;01mNone\u001b[39;00m,\n\u001b[0;32m     79\u001b[0m              y\u001b[38;5;241m=\u001b[39m\u001b[38;5;28;01mNone\u001b[39;00m, hue\u001b[38;5;241m=\u001b[39m\u001b[38;5;28;01mNone\u001b[39;00m, order\u001b[38;5;241m=\u001b[39m\u001b[38;5;28;01mNone\u001b[39;00m, hue_order\u001b[38;5;241m=\u001b[39m\u001b[38;5;28;01mNone\u001b[39;00m, verbose\u001b[38;5;241m=\u001b[39m\u001b[38;5;28;01mFalse\u001b[39;00m,\n\u001b[0;32m     80\u001b[0m              \u001b[38;5;241m*\u001b[39m\u001b[38;5;241m*\u001b[39mplot_params):\n\u001b[1;32m---> 82\u001b[0m     \u001b[43m_Plotter\u001b[49m\u001b[38;5;241;43m.\u001b[39;49m\u001b[38;5;21;43m__init__\u001b[39;49m\u001b[43m(\u001b[49m\u001b[38;5;28;43mself\u001b[39;49m\u001b[43m,\u001b[49m\u001b[43m \u001b[49m\u001b[43max\u001b[49m\u001b[43m,\u001b[49m\u001b[43m \u001b[49m\u001b[43mpairs\u001b[49m\u001b[43m,\u001b[49m\u001b[43m \u001b[49m\u001b[43mdata\u001b[49m\u001b[43m,\u001b[49m\u001b[43m \u001b[49m\u001b[43mx\u001b[49m\u001b[43m,\u001b[49m\u001b[43m \u001b[49m\u001b[43my\u001b[49m\u001b[43m,\u001b[49m\u001b[43m \u001b[49m\u001b[43mhue\u001b[49m\u001b[43m,\u001b[49m\u001b[43m \u001b[49m\u001b[43morder\u001b[49m\u001b[43m,\u001b[49m\u001b[43m \u001b[49m\u001b[43mhue_order\u001b[49m\u001b[43m,\u001b[49m\n\u001b[0;32m     83\u001b[0m \u001b[43m                      \u001b[49m\u001b[43mverbose\u001b[49m\u001b[43m,\u001b[49m\u001b[43m \u001b[49m\u001b[38;5;241;43m*\u001b[39;49m\u001b[38;5;241;43m*\u001b[39;49m\u001b[43mplot_params\u001b[49m\u001b[43m)\u001b[49m\n\u001b[0;32m     85\u001b[0m     \u001b[38;5;28mself\u001b[39m\u001b[38;5;241m.\u001b[39mcheck_plot_is_implemented(plot)\n\u001b[0;32m     86\u001b[0m     \u001b[38;5;28mself\u001b[39m\u001b[38;5;241m.\u001b[39mplot \u001b[38;5;241m=\u001b[39m plot\n",
      "File \u001b[1;32mD:\\Anaconda3\\lib\\site-packages\\statannotations\\_Plotter.py:27\u001b[0m, in \u001b[0;36m_Plotter.__init__\u001b[1;34m(self, ax, pairs, data, x, y, hue, order, hue_order, verbose, **plot_params)\u001b[0m\n\u001b[0;32m     25\u001b[0m check_not_none(\u001b[38;5;124m\"\u001b[39m\u001b[38;5;124mpairs\u001b[39m\u001b[38;5;124m\"\u001b[39m, pairs)\n\u001b[0;32m     26\u001b[0m group_coord \u001b[38;5;241m=\u001b[39m y \u001b[38;5;28;01mif\u001b[39;00m plot_params\u001b[38;5;241m.\u001b[39mget(\u001b[38;5;124m\"\u001b[39m\u001b[38;5;124morient\u001b[39m\u001b[38;5;124m\"\u001b[39m) \u001b[38;5;241m==\u001b[39m \u001b[38;5;124m\"\u001b[39m\u001b[38;5;124mh\u001b[39m\u001b[38;5;124m\"\u001b[39m \u001b[38;5;28;01melse\u001b[39;00m x\n\u001b[1;32m---> 27\u001b[0m \u001b[43mcheck_order_in_data\u001b[49m\u001b[43m(\u001b[49m\u001b[43mdata\u001b[49m\u001b[43m,\u001b[49m\u001b[43m \u001b[49m\u001b[43mgroup_coord\u001b[49m\u001b[43m,\u001b[49m\u001b[43m \u001b[49m\u001b[43morder\u001b[49m\u001b[43m)\u001b[49m\n\u001b[0;32m     28\u001b[0m check_pairs_in_data(pairs, data, group_coord, hue, hue_order)\n\u001b[0;32m     29\u001b[0m \u001b[38;5;28mself\u001b[39m\u001b[38;5;241m.\u001b[39mpairs \u001b[38;5;241m=\u001b[39m pairs\n",
      "File \u001b[1;32mD:\\Anaconda3\\lib\\site-packages\\statannotations\\utils.py:63\u001b[0m, in \u001b[0;36mcheck_order_in_data\u001b[1;34m(data, x, order)\u001b[0m\n\u001b[0;32m     60\u001b[0m unmatched_in_order \u001b[38;5;241m=\u001b[39m \u001b[38;5;28mset\u001b[39m(order) \u001b[38;5;241m-\u001b[39m x_values\n\u001b[0;32m     62\u001b[0m \u001b[38;5;28;01mif\u001b[39;00m unmatched_in_order:\n\u001b[1;32m---> 63\u001b[0m     \u001b[38;5;28;01mraise\u001b[39;00m \u001b[38;5;167;01mValueError\u001b[39;00m(\u001b[38;5;124mf\u001b[39m\u001b[38;5;124m\"\u001b[39m\u001b[38;5;124mMissing x value(s) \u001b[39m\u001b[38;5;124m\"\u001b[39m\n\u001b[0;32m     64\u001b[0m                      \u001b[38;5;124mf\u001b[39m\u001b[38;5;124m\"\u001b[39m\u001b[38;5;124m`\u001b[39m\u001b[38;5;132;01m{\u001b[39;00mrender_collection(unmatched_in_order)\u001b[38;5;132;01m}\u001b[39;00m\u001b[38;5;124m` in \u001b[39m\u001b[38;5;132;01m{\u001b[39;00mx\u001b[38;5;132;01m}\u001b[39;00m\u001b[38;5;124m \u001b[39m\u001b[38;5;124m\"\u001b[39m\n\u001b[0;32m     65\u001b[0m                      \u001b[38;5;124mf\u001b[39m\u001b[38;5;124m\"\u001b[39m\u001b[38;5;124m(specified in `order`)\u001b[39m\u001b[38;5;124m\"\u001b[39m)\n",
      "\u001b[1;31mValueError\u001b[0m: Missing x value(s) `\"LF_MED\"` in Location_Subregion (specified in `order`)"
     ]
    },
    {
     "data": {
      "image/png": "[encoded data removed]",
      "text/plain": [
       "<Figure size 1650x1650 with 1 Axes>"
      ]
     },
     "metadata": {},
     "output_type": "display_data"
    }
   ],
   "source": [
    "ITS_subplots('E','ksi','k')"
   ]
  },
  {
   "cell_type": "code",
   "execution_count": null,
   "id": "4b6c862e-f842-40a5-b235-fdf76536ca2b",
   "metadata": {},
   "outputs": [],
   "source": []
  }
 ],
 "metadata": {
  "colab": {
   "collapsed_sections": [
    "1VQxwwcKHx6W",
    "GI0xYtBkkpQd",
    "8Nva5BYxjkJR"
   ],
   "name": "ITS_analysis.ipynb",
   "provenance": []
  },
  "kernelspec": {
   "display_name": "Python 3 (ipykernel)",
   "language": "python",
   "name": "python3"
  },
  "language_info": {
   "codemirror_mode": {
    "name": "ipython",
    "version": 3
   },
   "file_extension": ".py",
   "mimetype": "text/x-python",
   "name": "python",
   "nbconvert_exporter": "python",
   "pygments_lexer": "ipython3",
   "version": "3.8.8"
  }
 },
 "nbformat": 4,
 "nbformat_minor": 5
}
