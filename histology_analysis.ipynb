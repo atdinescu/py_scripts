{
 "cells": [
  {
   "cell_type": "markdown",
   "id": "ig0UNePuHr1-",
   "metadata": {
    "id": "ig0UNePuHr1-"
   },
   "source": [
    "# Import Python libraries and directory of results"
   ]
  },
  {
   "cell_type": "code",
   "execution_count": 261,
   "id": "1449611c",
   "metadata": {
    "colab": {
     "base_uri": "https://localhost:8080/"
    },
    "id": "1449611c",
    "outputId": "30af662b-ac3e-46fd-e7a7-3bfd5b91b374"
   },
   "outputs": [],
   "source": [
    "import seaborn as sns\n",
    "import pandas as pd\n",
    "import matplotlib.pyplot as plt\n",
    "import pingouin as pg\n",
    "import statsmodels.api as sm\n",
    "import scikit_posthocs as sp\n",
    "from statsmodels.formula.api import ols\n",
    "from statannotations.Annotator import Annotator\n",
    "#from ITS_lib.ITS_functions import ITS_plot, ITS_subplots"
   ]
  },
  {
   "cell_type": "code",
   "execution_count": 262,
   "id": "93205667-5583-4a56-b393-ccf371c2ad7e",
   "metadata": {},
   "outputs": [],
   "source": [
    "#from google.colab import drive\n",
    "#drive.mount(\"/content/drive\")\n",
    "\n",
    "#!pip install pingouin\n",
    "\n",
    "#!pip install statannotations\n",
    "#!pip install statsmodels\n",
    "#!pip install scikit_posthocs"
   ]
  },
  {
   "cell_type": "code",
   "execution_count": 263,
   "id": "WJJSB6rhFgAU",
   "metadata": {
    "id": "WJJSB6rhFgAU"
   },
   "outputs": [],
   "source": [
    "from pathlib import Path\n",
    "\n",
    "#DATA = Path(\"/content/drive/My Drive/BBL/GP_ITS\")\n",
    "DATA = Path(\"C:/Users/Teo/Downloads\")"
   ]
  },
  {
   "cell_type": "markdown",
   "id": "TAZa2l41tbx3",
   "metadata": {
    "id": "TAZa2l41tbx3"
   },
   "source": [
    "# Create one table with histo results"
   ]
  },
  {
   "cell_type": "code",
   "execution_count": 289,
   "id": "yRDB7RnO2DSh",
   "metadata": {
    "colab": {
     "base_uri": "https://localhost:8080/",
     "height": 314
    },
    "id": "yRDB7RnO2DSh",
    "outputId": "5c02908d-6bbd-440b-82d9-41108846e449"
   },
   "outputs": [
    {
     "data": {
      "text/html": [
       "<div>\n",
       "<style scoped>\n",
       "    .dataframe tbody tr th:only-of-type {\n",
       "        vertical-align: middle;\n",
       "    }\n",
       "\n",
       "    .dataframe tbody tr th {\n",
       "        vertical-align: top;\n",
       "    }\n",
       "\n",
       "    .dataframe thead th {\n",
       "        text-align: right;\n",
       "    }\n",
       "</style>\n",
       "<table border=\"1\" class=\"dataframe\">\n",
       "  <thead>\n",
       "    <tr style=\"text-align: right;\">\n",
       "      <th></th>\n",
       "      <th>Filename</th>\n",
       "      <th>Blinded</th>\n",
       "      <th>Single_nucleated</th>\n",
       "      <th>Multi_nucleated</th>\n",
       "      <th>BS</th>\n",
       "      <th>OS</th>\n",
       "      <th>OS/BS</th>\n",
       "      <th>single_number/BS</th>\n",
       "      <th>multi_number/BS</th>\n",
       "      <th>ID</th>\n",
       "      <th>Location</th>\n",
       "      <th>Subregion</th>\n",
       "      <th>Location_Subregion</th>\n",
       "    </tr>\n",
       "  </thead>\n",
       "  <tbody>\n",
       "    <tr>\n",
       "      <th>0</th>\n",
       "      <td>GP11_RF_21_LAT_40x_21.tif</td>\n",
       "      <td>1</td>\n",
       "      <td>6.0</td>\n",
       "      <td>1.0</td>\n",
       "      <td>3689.207522</td>\n",
       "      <td>460.731526</td>\n",
       "      <td>0.124886</td>\n",
       "      <td>0.001626</td>\n",
       "      <td>0.000271</td>\n",
       "      <td>GP11</td>\n",
       "      <td>RF</td>\n",
       "      <td>LAT</td>\n",
       "      <td>RF_LAT</td>\n",
       "    </tr>\n",
       "    <tr>\n",
       "      <th>1</th>\n",
       "      <td>GP11_RF_21_LAT_40x_33.tif</td>\n",
       "      <td>2</td>\n",
       "      <td>2.0</td>\n",
       "      <td>0.0</td>\n",
       "      <td>2122.168126</td>\n",
       "      <td>71.113694</td>\n",
       "      <td>0.033510</td>\n",
       "      <td>0.000942</td>\n",
       "      <td>0.000000</td>\n",
       "      <td>GP11</td>\n",
       "      <td>RF</td>\n",
       "      <td>LAT</td>\n",
       "      <td>RF_LAT</td>\n",
       "    </tr>\n",
       "    <tr>\n",
       "      <th>2</th>\n",
       "      <td>GP11_RF_21_LAT_40x_31.tif</td>\n",
       "      <td>3</td>\n",
       "      <td>1.0</td>\n",
       "      <td>2.0</td>\n",
       "      <td>3098.195472</td>\n",
       "      <td>250.663076</td>\n",
       "      <td>0.080906</td>\n",
       "      <td>0.000323</td>\n",
       "      <td>0.000646</td>\n",
       "      <td>GP11</td>\n",
       "      <td>RF</td>\n",
       "      <td>LAT</td>\n",
       "      <td>RF_LAT</td>\n",
       "    </tr>\n",
       "    <tr>\n",
       "      <th>3</th>\n",
       "      <td>GP11_RT_10_MED_40x_25.tif</td>\n",
       "      <td>4</td>\n",
       "      <td>NaN</td>\n",
       "      <td>NaN</td>\n",
       "      <td>NaN</td>\n",
       "      <td>NaN</td>\n",
       "      <td>NaN</td>\n",
       "      <td>NaN</td>\n",
       "      <td>NaN</td>\n",
       "      <td>GP11</td>\n",
       "      <td>RT</td>\n",
       "      <td>MED</td>\n",
       "      <td>RT_MED</td>\n",
       "    </tr>\n",
       "    <tr>\n",
       "      <th>4</th>\n",
       "      <td>GP11_RT_10_MED_40x_31.tif</td>\n",
       "      <td>5</td>\n",
       "      <td>3.0</td>\n",
       "      <td>0.0</td>\n",
       "      <td>2643.795213</td>\n",
       "      <td>270.968813</td>\n",
       "      <td>0.102492</td>\n",
       "      <td>0.001135</td>\n",
       "      <td>0.000000</td>\n",
       "      <td>GP11</td>\n",
       "      <td>RT</td>\n",
       "      <td>MED</td>\n",
       "      <td>RT_MED</td>\n",
       "    </tr>\n",
       "  </tbody>\n",
       "</table>\n",
       "</div>"
      ],
      "text/plain": [
       "                    Filename  Blinded  Single_nucleated  Multi_nucleated  \\\n",
       "0  GP11_RF_21_LAT_40x_21.tif        1               6.0              1.0   \n",
       "1  GP11_RF_21_LAT_40x_33.tif        2               2.0              0.0   \n",
       "2  GP11_RF_21_LAT_40x_31.tif        3               1.0              2.0   \n",
       "3  GP11_RT_10_MED_40x_25.tif        4               NaN              NaN   \n",
       "4  GP11_RT_10_MED_40x_31.tif        5               3.0              0.0   \n",
       "\n",
       "            BS          OS     OS/BS  single_number/BS  multi_number/BS    ID  \\\n",
       "0  3689.207522  460.731526  0.124886          0.001626         0.000271  GP11   \n",
       "1  2122.168126   71.113694  0.033510          0.000942         0.000000  GP11   \n",
       "2  3098.195472  250.663076  0.080906          0.000323         0.000646  GP11   \n",
       "3          NaN         NaN       NaN               NaN              NaN  GP11   \n",
       "4  2643.795213  270.968813  0.102492          0.001135         0.000000  GP11   \n",
       "\n",
       "  Location Subregion Location_Subregion  \n",
       "0       RF       LAT             RF_LAT  \n",
       "1       RF       LAT             RF_LAT  \n",
       "2       RF       LAT             RF_LAT  \n",
       "3       RT       MED             RT_MED  \n",
       "4       RT       MED             RT_MED  "
      ]
     },
     "execution_count": 289,
     "metadata": {},
     "output_type": "execute_result"
    }
   ],
   "source": [
    "ITS = pd.read_csv(DATA / 'result_gp_histo.txt', sep = '\\t', header = None)\n",
    "ITS.columns = ['Filename','Blinded','Single_nucleated', 'Multi_nucleated', 'BS', 'OS']\n",
    "ITS['OS/BS'] = ITS.apply(\n",
    "    lambda row:(row.OS)/(row.BS), axis=1)\n",
    "ITS['single_number/BS'] = ITS.apply(\n",
    "    lambda row:(row.Single_nucleated)/(row.BS), axis=1)\n",
    "ITS['multi_number/BS'] = ITS.apply(\n",
    "    lambda row:(row.Multi_nucleated)/(row.BS), axis=1)\n",
    "ITS['ID'] = ITS['Filename'].astype(str).str.split('_').str[0]\n",
    "ITS['Location'] = ITS['Filename'].astype(str).str.split('_').str[1]\n",
    "ITS['Subregion'] = ITS['Filename'].astype(str).str.split('_').str[3]\n",
    "ITS['Location_Subregion'] = ITS['Location'] + '_' + ITS['Subregion']\n",
    "ITS.head()"
   ]
  },
  {
   "cell_type": "code",
   "execution_count": 296,
   "id": "04e99c11-7c67-4cb4-8a55-e4d22ddfe294",
   "metadata": {},
   "outputs": [
    {
     "data": {
      "text/html": [
       "<div>\n",
       "<style scoped>\n",
       "    .dataframe tbody tr th:only-of-type {\n",
       "        vertical-align: middle;\n",
       "    }\n",
       "\n",
       "    .dataframe tbody tr th {\n",
       "        vertical-align: top;\n",
       "    }\n",
       "\n",
       "    .dataframe thead th {\n",
       "        text-align: right;\n",
       "    }\n",
       "</style>\n",
       "<table border=\"1\" class=\"dataframe\">\n",
       "  <thead>\n",
       "    <tr style=\"text-align: right;\">\n",
       "      <th></th>\n",
       "      <th>Filename</th>\n",
       "      <th>ID</th>\n",
       "      <th>Location</th>\n",
       "      <th>Subregion_lower</th>\n",
       "      <th>Subregion</th>\n",
       "      <th>slide</th>\n",
       "      <th>blinded</th>\n",
       "      <th>Tiffany</th>\n",
       "      <th>Kangle</th>\n",
       "      <th>Average</th>\n",
       "      <th>Age</th>\n",
       "      <th>Location_Subregion</th>\n",
       "    </tr>\n",
       "  </thead>\n",
       "  <tbody>\n",
       "    <tr>\n",
       "      <th>0</th>\n",
       "      <td>'GP1_LF_lat_slide4_20X_28.tif'</td>\n",
       "      <td>GP1</td>\n",
       "      <td>LF</td>\n",
       "      <td>lat</td>\n",
       "      <td>LAT</td>\n",
       "      <td>slide4</td>\n",
       "      <td>56</td>\n",
       "      <td>2.0</td>\n",
       "      <td>0</td>\n",
       "      <td>1.0</td>\n",
       "      <td>5</td>\n",
       "      <td>LF_LAT</td>\n",
       "    </tr>\n",
       "    <tr>\n",
       "      <th>1</th>\n",
       "      <td>'GP1_LF_med_slide4_20X_14.tif'</td>\n",
       "      <td>GP1</td>\n",
       "      <td>LF</td>\n",
       "      <td>med</td>\n",
       "      <td>MED</td>\n",
       "      <td>slide4</td>\n",
       "      <td>51</td>\n",
       "      <td>3.0</td>\n",
       "      <td>4</td>\n",
       "      <td>3.5</td>\n",
       "      <td>5</td>\n",
       "      <td>LF_MED</td>\n",
       "    </tr>\n",
       "    <tr>\n",
       "      <th>2</th>\n",
       "      <td>'GP1_LT_lat_slide1_20X_136.tif'</td>\n",
       "      <td>GP1</td>\n",
       "      <td>LT</td>\n",
       "      <td>lat</td>\n",
       "      <td>LAT</td>\n",
       "      <td>slide1</td>\n",
       "      <td>42</td>\n",
       "      <td>2.0</td>\n",
       "      <td>1</td>\n",
       "      <td>1.5</td>\n",
       "      <td>5</td>\n",
       "      <td>LT_LAT</td>\n",
       "    </tr>\n",
       "    <tr>\n",
       "      <th>3</th>\n",
       "      <td>'GP1_LT_med_slide2_20X_153.tif'</td>\n",
       "      <td>GP1</td>\n",
       "      <td>LT</td>\n",
       "      <td>med</td>\n",
       "      <td>MED</td>\n",
       "      <td>slide2</td>\n",
       "      <td>8</td>\n",
       "      <td>7.0</td>\n",
       "      <td>8</td>\n",
       "      <td>7.5</td>\n",
       "      <td>5</td>\n",
       "      <td>LT_MED</td>\n",
       "    </tr>\n",
       "    <tr>\n",
       "      <th>4</th>\n",
       "      <td>'GP1_RT_lat_slide11_20X_40.tif'</td>\n",
       "      <td>GP1</td>\n",
       "      <td>RT</td>\n",
       "      <td>lat</td>\n",
       "      <td>LAT</td>\n",
       "      <td>slide11</td>\n",
       "      <td>67</td>\n",
       "      <td>6.0</td>\n",
       "      <td>3</td>\n",
       "      <td>4.5</td>\n",
       "      <td>5</td>\n",
       "      <td>RT_LAT</td>\n",
       "    </tr>\n",
       "  </tbody>\n",
       "</table>\n",
       "</div>"
      ],
      "text/plain": [
       "                          Filename   ID Location Subregion_lower Subregion  \\\n",
       "0   'GP1_LF_lat_slide4_20X_28.tif'  GP1       LF             lat       LAT   \n",
       "1   'GP1_LF_med_slide4_20X_14.tif'  GP1       LF             med       MED   \n",
       "2  'GP1_LT_lat_slide1_20X_136.tif'  GP1       LT             lat       LAT   \n",
       "3  'GP1_LT_med_slide2_20X_153.tif'  GP1       LT             med       MED   \n",
       "4  'GP1_RT_lat_slide11_20X_40.tif'  GP1       RT             lat       LAT   \n",
       "\n",
       "     slide  blinded  Tiffany  Kangle  Average  Age Location_Subregion  \n",
       "0   slide4       56      2.0       0      1.0    5             LF_LAT  \n",
       "1   slide4       51      3.0       4      3.5    5             LF_MED  \n",
       "2   slide1       42      2.0       1      1.5    5             LT_LAT  \n",
       "3   slide2        8      7.0       8      7.5    5             LT_MED  \n",
       "4  slide11       67      6.0       3      4.5    5             RT_LAT  "
      ]
     },
     "execution_count": 296,
     "metadata": {},
     "output_type": "execute_result"
    }
   ],
   "source": [
    "ITS = pd.read_csv(DATA / 'result_gp_tolblue.txt', sep = '\\t', header = None)\n",
    "ITS.columns = ['Filename','ID','Location','Subregion_lower', 'Subregion','slide','blinded','Tiffany','Kangle','Average','Age']\n",
    "#ITS['ID'] = ITS['Filename'].astype(str).str.split('_').str[0]\n",
    "#ITS['Location'] = ITS['Filename'].astype(str).str.split('_').str[1]\n",
    "#ITS['Subregion'] = ITS['Filename'].astype(str).str.split('_').str[3]\n",
    "ITS['Location_Subregion'] = ITS['Location'] + '_' + ITS['Subregion']\n",
    "ITS.head()"
   ]
  },
  {
   "cell_type": "code",
   "execution_count": 300,
   "id": "372fea25-28cd-4640-8143-b1cde5913d08",
   "metadata": {},
   "outputs": [
    {
     "data": {
      "text/html": [
       "<div>\n",
       "<style scoped>\n",
       "    .dataframe tbody tr th:only-of-type {\n",
       "        vertical-align: middle;\n",
       "    }\n",
       "\n",
       "    .dataframe tbody tr th {\n",
       "        vertical-align: top;\n",
       "    }\n",
       "\n",
       "    .dataframe thead th {\n",
       "        text-align: right;\n",
       "    }\n",
       "</style>\n",
       "<table border=\"1\" class=\"dataframe\">\n",
       "  <thead>\n",
       "    <tr style=\"text-align: right;\">\n",
       "      <th></th>\n",
       "      <th></th>\n",
       "      <th>blinded</th>\n",
       "      <th>Tiffany</th>\n",
       "      <th>Kangle</th>\n",
       "      <th>Average</th>\n",
       "    </tr>\n",
       "    <tr>\n",
       "      <th>Location_Subregion</th>\n",
       "      <th>Age</th>\n",
       "      <th></th>\n",
       "      <th></th>\n",
       "      <th></th>\n",
       "      <th></th>\n",
       "    </tr>\n",
       "  </thead>\n",
       "  <tbody>\n",
       "    <tr>\n",
       "      <th>LF_LAT</th>\n",
       "      <th>5</th>\n",
       "      <td>56.000000</td>\n",
       "      <td>2.000000</td>\n",
       "      <td>0.000000</td>\n",
       "      <td>1.000000</td>\n",
       "    </tr>\n",
       "    <tr>\n",
       "      <th>LF_MED</th>\n",
       "      <th>5</th>\n",
       "      <td>51.000000</td>\n",
       "      <td>3.000000</td>\n",
       "      <td>4.000000</td>\n",
       "      <td>3.500000</td>\n",
       "    </tr>\n",
       "    <tr>\n",
       "      <th>LT_LAT</th>\n",
       "      <th>5</th>\n",
       "      <td>42.000000</td>\n",
       "      <td>2.000000</td>\n",
       "      <td>1.000000</td>\n",
       "      <td>1.500000</td>\n",
       "    </tr>\n",
       "    <tr>\n",
       "      <th>LT_MED</th>\n",
       "      <th>5</th>\n",
       "      <td>8.000000</td>\n",
       "      <td>7.000000</td>\n",
       "      <td>8.000000</td>\n",
       "      <td>7.500000</td>\n",
       "    </tr>\n",
       "    <tr>\n",
       "      <th rowspan=\"4\" valign=\"top\">RF_LAT</th>\n",
       "      <th>2</th>\n",
       "      <td>57.000000</td>\n",
       "      <td>3.500000</td>\n",
       "      <td>3.166667</td>\n",
       "      <td>3.125000</td>\n",
       "    </tr>\n",
       "    <tr>\n",
       "      <th>3</th>\n",
       "      <td>63.857143</td>\n",
       "      <td>4.500000</td>\n",
       "      <td>3.714286</td>\n",
       "      <td>5.375000</td>\n",
       "    </tr>\n",
       "    <tr>\n",
       "      <th>4</th>\n",
       "      <td>45.600000</td>\n",
       "      <td>5.666667</td>\n",
       "      <td>4.200000</td>\n",
       "      <td>5.500000</td>\n",
       "    </tr>\n",
       "    <tr>\n",
       "      <th>5</th>\n",
       "      <td>44.833333</td>\n",
       "      <td>3.333333</td>\n",
       "      <td>5.500000</td>\n",
       "      <td>4.416667</td>\n",
       "    </tr>\n",
       "    <tr>\n",
       "      <th rowspan=\"4\" valign=\"top\">RF_MED</th>\n",
       "      <th>2</th>\n",
       "      <td>59.857143</td>\n",
       "      <td>2.250000</td>\n",
       "      <td>2.857143</td>\n",
       "      <td>2.000000</td>\n",
       "    </tr>\n",
       "    <tr>\n",
       "      <th>3</th>\n",
       "      <td>63.750000</td>\n",
       "      <td>2.750000</td>\n",
       "      <td>2.916667</td>\n",
       "      <td>2.875000</td>\n",
       "    </tr>\n",
       "    <tr>\n",
       "      <th>4</th>\n",
       "      <td>45.250000</td>\n",
       "      <td>4.666667</td>\n",
       "      <td>3.000000</td>\n",
       "      <td>4.083333</td>\n",
       "    </tr>\n",
       "    <tr>\n",
       "      <th>5</th>\n",
       "      <td>28.800000</td>\n",
       "      <td>1.800000</td>\n",
       "      <td>1.200000</td>\n",
       "      <td>1.500000</td>\n",
       "    </tr>\n",
       "    <tr>\n",
       "      <th rowspan=\"3\" valign=\"top\">RT_LAT</th>\n",
       "      <th>3</th>\n",
       "      <td>46.000000</td>\n",
       "      <td>3.500000</td>\n",
       "      <td>4.000000</td>\n",
       "      <td>4.000000</td>\n",
       "    </tr>\n",
       "    <tr>\n",
       "      <th>4</th>\n",
       "      <td>34.250000</td>\n",
       "      <td>2.625000</td>\n",
       "      <td>1.875000</td>\n",
       "      <td>2.250000</td>\n",
       "    </tr>\n",
       "    <tr>\n",
       "      <th>5</th>\n",
       "      <td>58.750000</td>\n",
       "      <td>5.000000</td>\n",
       "      <td>3.500000</td>\n",
       "      <td>4.250000</td>\n",
       "    </tr>\n",
       "    <tr>\n",
       "      <th rowspan=\"3\" valign=\"top\">RT_MED</th>\n",
       "      <th>3</th>\n",
       "      <td>24.000000</td>\n",
       "      <td>1.500000</td>\n",
       "      <td>1.000000</td>\n",
       "      <td>1.250000</td>\n",
       "    </tr>\n",
       "    <tr>\n",
       "      <th>4</th>\n",
       "      <td>33.571429</td>\n",
       "      <td>3.571429</td>\n",
       "      <td>3.285714</td>\n",
       "      <td>3.428571</td>\n",
       "    </tr>\n",
       "    <tr>\n",
       "      <th>5</th>\n",
       "      <td>40.500000</td>\n",
       "      <td>3.500000</td>\n",
       "      <td>3.666667</td>\n",
       "      <td>3.583333</td>\n",
       "    </tr>\n",
       "  </tbody>\n",
       "</table>\n",
       "</div>"
      ],
      "text/plain": [
       "                          blinded   Tiffany    Kangle   Average\n",
       "Location_Subregion Age                                         \n",
       "LF_LAT             5    56.000000  2.000000  0.000000  1.000000\n",
       "LF_MED             5    51.000000  3.000000  4.000000  3.500000\n",
       "LT_LAT             5    42.000000  2.000000  1.000000  1.500000\n",
       "LT_MED             5     8.000000  7.000000  8.000000  7.500000\n",
       "RF_LAT             2    57.000000  3.500000  3.166667  3.125000\n",
       "                   3    63.857143  4.500000  3.714286  5.375000\n",
       "                   4    45.600000  5.666667  4.200000  5.500000\n",
       "                   5    44.833333  3.333333  5.500000  4.416667\n",
       "RF_MED             2    59.857143  2.250000  2.857143  2.000000\n",
       "                   3    63.750000  2.750000  2.916667  2.875000\n",
       "                   4    45.250000  4.666667  3.000000  4.083333\n",
       "                   5    28.800000  1.800000  1.200000  1.500000\n",
       "RT_LAT             3    46.000000  3.500000  4.000000  4.000000\n",
       "                   4    34.250000  2.625000  1.875000  2.250000\n",
       "                   5    58.750000  5.000000  3.500000  4.250000\n",
       "RT_MED             3    24.000000  1.500000  1.000000  1.250000\n",
       "                   4    33.571429  3.571429  3.285714  3.428571\n",
       "                   5    40.500000  3.500000  3.666667  3.583333"
      ]
     },
     "execution_count": 300,
     "metadata": {},
     "output_type": "execute_result"
    }
   ],
   "source": [
    "ITS.groupby(['Location_Subregion', 'Age']).mean()"
   ]
  },
  {
   "cell_type": "code",
   "execution_count": 290,
   "id": "HeHFMEUdtaRC",
   "metadata": {
    "id": "HeHFMEUdtaRC"
   },
   "outputs": [
    {
     "data": {
      "text/html": [
       "<div>\n",
       "<style scoped>\n",
       "    .dataframe tbody tr th:only-of-type {\n",
       "        vertical-align: middle;\n",
       "    }\n",
       "\n",
       "    .dataframe tbody tr th {\n",
       "        vertical-align: top;\n",
       "    }\n",
       "\n",
       "    .dataframe thead th {\n",
       "        text-align: right;\n",
       "    }\n",
       "</style>\n",
       "<table border=\"1\" class=\"dataframe\">\n",
       "  <thead>\n",
       "    <tr style=\"text-align: right;\">\n",
       "      <th></th>\n",
       "      <th>GP</th>\n",
       "      <th>Month</th>\n",
       "    </tr>\n",
       "  </thead>\n",
       "  <tbody>\n",
       "    <tr>\n",
       "      <th>0</th>\n",
       "      <td>GP5</td>\n",
       "      <td>2</td>\n",
       "    </tr>\n",
       "    <tr>\n",
       "      <th>1</th>\n",
       "      <td>GP6</td>\n",
       "      <td>2</td>\n",
       "    </tr>\n",
       "    <tr>\n",
       "      <th>2</th>\n",
       "      <td>GP7</td>\n",
       "      <td>2</td>\n",
       "    </tr>\n",
       "    <tr>\n",
       "      <th>3</th>\n",
       "      <td>GP8</td>\n",
       "      <td>3</td>\n",
       "    </tr>\n",
       "    <tr>\n",
       "      <th>4</th>\n",
       "      <td>GP9</td>\n",
       "      <td>4</td>\n",
       "    </tr>\n",
       "  </tbody>\n",
       "</table>\n",
       "</div>"
      ],
      "text/plain": [
       "    GP  Month\n",
       "0  GP5      2\n",
       "1  GP6      2\n",
       "2  GP7      2\n",
       "3  GP8      3\n",
       "4  GP9      4"
      ]
     },
     "execution_count": 290,
     "metadata": {},
     "output_type": "execute_result"
    }
   ],
   "source": [
    "GP_ID = pd.read_csv(DATA /'GP_fileID_histo.txt', header = None, sep = '\\t')\n",
    "GP_ID.columns = ['GP','Month']\n",
    "GP_ID.head()"
   ]
  },
  {
   "cell_type": "code",
   "execution_count": 291,
   "id": "1RIu2uXo2l5w",
   "metadata": {
    "colab": {
     "base_uri": "https://localhost:8080/",
     "height": 314
    },
    "id": "1RIu2uXo2l5w",
    "outputId": "a325aac0-72ff-4a27-82db-668782e8817b"
   },
   "outputs": [
    {
     "data": {
      "text/html": [
       "<div>\n",
       "<style scoped>\n",
       "    .dataframe tbody tr th:only-of-type {\n",
       "        vertical-align: middle;\n",
       "    }\n",
       "\n",
       "    .dataframe tbody tr th {\n",
       "        vertical-align: top;\n",
       "    }\n",
       "\n",
       "    .dataframe thead th {\n",
       "        text-align: right;\n",
       "    }\n",
       "</style>\n",
       "<table border=\"1\" class=\"dataframe\">\n",
       "  <thead>\n",
       "    <tr style=\"text-align: right;\">\n",
       "      <th></th>\n",
       "      <th>Filename</th>\n",
       "      <th>Blinded</th>\n",
       "      <th>Single_nucleated</th>\n",
       "      <th>Multi_nucleated</th>\n",
       "      <th>BS</th>\n",
       "      <th>OS</th>\n",
       "      <th>OS/BS</th>\n",
       "      <th>single_number/BS</th>\n",
       "      <th>multi_number/BS</th>\n",
       "      <th>ID</th>\n",
       "      <th>Location</th>\n",
       "      <th>Subregion</th>\n",
       "      <th>Location_Subregion</th>\n",
       "      <th>GP</th>\n",
       "      <th>Month</th>\n",
       "    </tr>\n",
       "  </thead>\n",
       "  <tbody>\n",
       "    <tr>\n",
       "      <th>0</th>\n",
       "      <td>GP11_RF_21_LAT_40x_21.tif</td>\n",
       "      <td>1</td>\n",
       "      <td>6.0</td>\n",
       "      <td>1.0</td>\n",
       "      <td>3689.207522</td>\n",
       "      <td>460.731526</td>\n",
       "      <td>0.124886</td>\n",
       "      <td>0.001626</td>\n",
       "      <td>0.000271</td>\n",
       "      <td>GP11</td>\n",
       "      <td>RF</td>\n",
       "      <td>LAT</td>\n",
       "      <td>RF_LAT</td>\n",
       "      <td>GP11</td>\n",
       "      <td>5</td>\n",
       "    </tr>\n",
       "    <tr>\n",
       "      <th>1</th>\n",
       "      <td>GP11_RF_21_LAT_40x_33.tif</td>\n",
       "      <td>2</td>\n",
       "      <td>2.0</td>\n",
       "      <td>0.0</td>\n",
       "      <td>2122.168126</td>\n",
       "      <td>71.113694</td>\n",
       "      <td>0.033510</td>\n",
       "      <td>0.000942</td>\n",
       "      <td>0.000000</td>\n",
       "      <td>GP11</td>\n",
       "      <td>RF</td>\n",
       "      <td>LAT</td>\n",
       "      <td>RF_LAT</td>\n",
       "      <td>GP11</td>\n",
       "      <td>5</td>\n",
       "    </tr>\n",
       "    <tr>\n",
       "      <th>2</th>\n",
       "      <td>GP11_RF_21_LAT_40x_31.tif</td>\n",
       "      <td>3</td>\n",
       "      <td>1.0</td>\n",
       "      <td>2.0</td>\n",
       "      <td>3098.195472</td>\n",
       "      <td>250.663076</td>\n",
       "      <td>0.080906</td>\n",
       "      <td>0.000323</td>\n",
       "      <td>0.000646</td>\n",
       "      <td>GP11</td>\n",
       "      <td>RF</td>\n",
       "      <td>LAT</td>\n",
       "      <td>RF_LAT</td>\n",
       "      <td>GP11</td>\n",
       "      <td>5</td>\n",
       "    </tr>\n",
       "    <tr>\n",
       "      <th>3</th>\n",
       "      <td>GP11_RT_10_MED_40x_25.tif</td>\n",
       "      <td>4</td>\n",
       "      <td>NaN</td>\n",
       "      <td>NaN</td>\n",
       "      <td>NaN</td>\n",
       "      <td>NaN</td>\n",
       "      <td>NaN</td>\n",
       "      <td>NaN</td>\n",
       "      <td>NaN</td>\n",
       "      <td>GP11</td>\n",
       "      <td>RT</td>\n",
       "      <td>MED</td>\n",
       "      <td>RT_MED</td>\n",
       "      <td>GP11</td>\n",
       "      <td>5</td>\n",
       "    </tr>\n",
       "    <tr>\n",
       "      <th>4</th>\n",
       "      <td>GP11_RT_10_MED_40x_31.tif</td>\n",
       "      <td>5</td>\n",
       "      <td>3.0</td>\n",
       "      <td>0.0</td>\n",
       "      <td>2643.795213</td>\n",
       "      <td>270.968813</td>\n",
       "      <td>0.102492</td>\n",
       "      <td>0.001135</td>\n",
       "      <td>0.000000</td>\n",
       "      <td>GP11</td>\n",
       "      <td>RT</td>\n",
       "      <td>MED</td>\n",
       "      <td>RT_MED</td>\n",
       "      <td>GP11</td>\n",
       "      <td>5</td>\n",
       "    </tr>\n",
       "  </tbody>\n",
       "</table>\n",
       "</div>"
      ],
      "text/plain": [
       "                    Filename  Blinded  Single_nucleated  Multi_nucleated  \\\n",
       "0  GP11_RF_21_LAT_40x_21.tif        1               6.0              1.0   \n",
       "1  GP11_RF_21_LAT_40x_33.tif        2               2.0              0.0   \n",
       "2  GP11_RF_21_LAT_40x_31.tif        3               1.0              2.0   \n",
       "3  GP11_RT_10_MED_40x_25.tif        4               NaN              NaN   \n",
       "4  GP11_RT_10_MED_40x_31.tif        5               3.0              0.0   \n",
       "\n",
       "            BS          OS     OS/BS  single_number/BS  multi_number/BS    ID  \\\n",
       "0  3689.207522  460.731526  0.124886          0.001626         0.000271  GP11   \n",
       "1  2122.168126   71.113694  0.033510          0.000942         0.000000  GP11   \n",
       "2  3098.195472  250.663076  0.080906          0.000323         0.000646  GP11   \n",
       "3          NaN         NaN       NaN               NaN              NaN  GP11   \n",
       "4  2643.795213  270.968813  0.102492          0.001135         0.000000  GP11   \n",
       "\n",
       "  Location Subregion Location_Subregion    GP  Month  \n",
       "0       RF       LAT             RF_LAT  GP11      5  \n",
       "1       RF       LAT             RF_LAT  GP11      5  \n",
       "2       RF       LAT             RF_LAT  GP11      5  \n",
       "3       RT       MED             RT_MED  GP11      5  \n",
       "4       RT       MED             RT_MED  GP11      5  "
      ]
     },
     "execution_count": 291,
     "metadata": {},
     "output_type": "execute_result"
    }
   ],
   "source": [
    "ITS_merge = pd.merge(ITS, GP_ID, left_on = 'ID', right_on = 'GP')\n",
    "ITS_merge.head()"
   ]
  },
  {
   "cell_type": "code",
   "execution_count": 297,
   "id": "NlWAHXkiN3rt",
   "metadata": {
    "colab": {
     "base_uri": "https://localhost:8080/",
     "height": 1000
    },
    "id": "NlWAHXkiN3rt",
    "outputId": "a23dbe5a-69cf-471b-e489-839594fc1a3e"
   },
   "outputs": [
    {
     "data": {
      "text/html": [
       "<div>\n",
       "<style scoped>\n",
       "    .dataframe tbody tr th:only-of-type {\n",
       "        vertical-align: middle;\n",
       "    }\n",
       "\n",
       "    .dataframe tbody tr th {\n",
       "        vertical-align: top;\n",
       "    }\n",
       "\n",
       "    .dataframe thead th {\n",
       "        text-align: right;\n",
       "    }\n",
       "</style>\n",
       "<table border=\"1\" class=\"dataframe\">\n",
       "  <thead>\n",
       "    <tr style=\"text-align: right;\">\n",
       "      <th></th>\n",
       "      <th></th>\n",
       "      <th>Blinded</th>\n",
       "      <th>Single_nucleated</th>\n",
       "      <th>Multi_nucleated</th>\n",
       "      <th>BS</th>\n",
       "      <th>OS</th>\n",
       "      <th>OS/BS</th>\n",
       "      <th>single_number/BS</th>\n",
       "      <th>multi_number/BS</th>\n",
       "    </tr>\n",
       "    <tr>\n",
       "      <th>Location_Subregion</th>\n",
       "      <th>Month</th>\n",
       "      <th></th>\n",
       "      <th></th>\n",
       "      <th></th>\n",
       "      <th></th>\n",
       "      <th></th>\n",
       "      <th></th>\n",
       "      <th></th>\n",
       "      <th></th>\n",
       "    </tr>\n",
       "  </thead>\n",
       "  <tbody>\n",
       "    <tr>\n",
       "      <th rowspan=\"2\" valign=\"top\">RF_LAT</th>\n",
       "      <th>3</th>\n",
       "      <td>24.333333</td>\n",
       "      <td>3.666667</td>\n",
       "      <td>2.000000</td>\n",
       "      <td>3528.952703</td>\n",
       "      <td>386.128311</td>\n",
       "      <td>0.112912</td>\n",
       "      <td>0.001174</td>\n",
       "      <td>0.000739</td>\n",
       "    </tr>\n",
       "    <tr>\n",
       "      <th>5</th>\n",
       "      <td>7.857143</td>\n",
       "      <td>2.142857</td>\n",
       "      <td>0.714286</td>\n",
       "      <td>2934.639371</td>\n",
       "      <td>230.605141</td>\n",
       "      <td>0.077626</td>\n",
       "      <td>0.000732</td>\n",
       "      <td>0.000211</td>\n",
       "    </tr>\n",
       "    <tr>\n",
       "      <th rowspan=\"2\" valign=\"top\">RF_MED</th>\n",
       "      <th>3</th>\n",
       "      <td>28.000000</td>\n",
       "      <td>3.500000</td>\n",
       "      <td>2.000000</td>\n",
       "      <td>3588.367353</td>\n",
       "      <td>327.713219</td>\n",
       "      <td>0.089857</td>\n",
       "      <td>0.000970</td>\n",
       "      <td>0.000539</td>\n",
       "    </tr>\n",
       "    <tr>\n",
       "      <th>5</th>\n",
       "      <td>10.166667</td>\n",
       "      <td>3.833333</td>\n",
       "      <td>1.000000</td>\n",
       "      <td>2818.327360</td>\n",
       "      <td>373.750691</td>\n",
       "      <td>0.125879</td>\n",
       "      <td>0.001367</td>\n",
       "      <td>0.000317</td>\n",
       "    </tr>\n",
       "    <tr>\n",
       "      <th rowspan=\"2\" valign=\"top\">RT_LAT</th>\n",
       "      <th>3</th>\n",
       "      <td>29.000000</td>\n",
       "      <td>4.500000</td>\n",
       "      <td>1.000000</td>\n",
       "      <td>3892.836016</td>\n",
       "      <td>478.180197</td>\n",
       "      <td>0.166504</td>\n",
       "      <td>0.001215</td>\n",
       "      <td>0.000450</td>\n",
       "    </tr>\n",
       "    <tr>\n",
       "      <th>4</th>\n",
       "      <td>26.666667</td>\n",
       "      <td>7.000000</td>\n",
       "      <td>2.000000</td>\n",
       "      <td>2591.520925</td>\n",
       "      <td>721.823334</td>\n",
       "      <td>0.299484</td>\n",
       "      <td>0.003112</td>\n",
       "      <td>0.000875</td>\n",
       "    </tr>\n",
       "    <tr>\n",
       "      <th rowspan=\"3\" valign=\"top\">RT_MED</th>\n",
       "      <th>3</th>\n",
       "      <td>22.500000</td>\n",
       "      <td>3.000000</td>\n",
       "      <td>0.500000</td>\n",
       "      <td>2077.534028</td>\n",
       "      <td>387.343509</td>\n",
       "      <td>0.191627</td>\n",
       "      <td>0.001471</td>\n",
       "      <td>0.000279</td>\n",
       "    </tr>\n",
       "    <tr>\n",
       "      <th>4</th>\n",
       "      <td>24.500000</td>\n",
       "      <td>4.333333</td>\n",
       "      <td>2.500000</td>\n",
       "      <td>2996.746390</td>\n",
       "      <td>553.422958</td>\n",
       "      <td>0.189329</td>\n",
       "      <td>0.001483</td>\n",
       "      <td>0.000883</td>\n",
       "    </tr>\n",
       "    <tr>\n",
       "      <th>5</th>\n",
       "      <td>6.666667</td>\n",
       "      <td>6.500000</td>\n",
       "      <td>2.000000</td>\n",
       "      <td>3525.945834</td>\n",
       "      <td>814.606851</td>\n",
       "      <td>0.205309</td>\n",
       "      <td>0.001702</td>\n",
       "      <td>0.000454</td>\n",
       "    </tr>\n",
       "  </tbody>\n",
       "</table>\n",
       "</div>"
      ],
      "text/plain": [
       "                            Blinded  Single_nucleated  Multi_nucleated  \\\n",
       "Location_Subregion Month                                                 \n",
       "RF_LAT             3      24.333333          3.666667         2.000000   \n",
       "                   5       7.857143          2.142857         0.714286   \n",
       "RF_MED             3      28.000000          3.500000         2.000000   \n",
       "                   5      10.166667          3.833333         1.000000   \n",
       "RT_LAT             3      29.000000          4.500000         1.000000   \n",
       "                   4      26.666667          7.000000         2.000000   \n",
       "RT_MED             3      22.500000          3.000000         0.500000   \n",
       "                   4      24.500000          4.333333         2.500000   \n",
       "                   5       6.666667          6.500000         2.000000   \n",
       "\n",
       "                                   BS          OS     OS/BS  single_number/BS  \\\n",
       "Location_Subregion Month                                                        \n",
       "RF_LAT             3      3528.952703  386.128311  0.112912          0.001174   \n",
       "                   5      2934.639371  230.605141  0.077626          0.000732   \n",
       "RF_MED             3      3588.367353  327.713219  0.089857          0.000970   \n",
       "                   5      2818.327360  373.750691  0.125879          0.001367   \n",
       "RT_LAT             3      3892.836016  478.180197  0.166504          0.001215   \n",
       "                   4      2591.520925  721.823334  0.299484          0.003112   \n",
       "RT_MED             3      2077.534028  387.343509  0.191627          0.001471   \n",
       "                   4      2996.746390  553.422958  0.189329          0.001483   \n",
       "                   5      3525.945834  814.606851  0.205309          0.001702   \n",
       "\n",
       "                          multi_number/BS  \n",
       "Location_Subregion Month                   \n",
       "RF_LAT             3             0.000739  \n",
       "                   5             0.000211  \n",
       "RF_MED             3             0.000539  \n",
       "                   5             0.000317  \n",
       "RT_LAT             3             0.000450  \n",
       "                   4             0.000875  \n",
       "RT_MED             3             0.000279  \n",
       "                   4             0.000883  \n",
       "                   5             0.000454  "
      ]
     },
     "execution_count": 297,
     "metadata": {},
     "output_type": "execute_result"
    }
   ],
   "source": [
    "ITS_merge.groupby(['Location_Subregion', 'Month']).mean()"
   ]
  },
  {
   "cell_type": "code",
   "execution_count": 298,
   "id": "KI6QmdiPN9Zd",
   "metadata": {
    "colab": {
     "base_uri": "https://localhost:8080/",
     "height": 1000
    },
    "id": "KI6QmdiPN9Zd",
    "outputId": "de728f5f-a377-4df9-d50b-b90d2d30e542"
   },
   "outputs": [
    {
     "data": {
      "text/html": [
       "<div>\n",
       "<style scoped>\n",
       "    .dataframe tbody tr th:only-of-type {\n",
       "        vertical-align: middle;\n",
       "    }\n",
       "\n",
       "    .dataframe tbody tr th {\n",
       "        vertical-align: top;\n",
       "    }\n",
       "\n",
       "    .dataframe thead th {\n",
       "        text-align: right;\n",
       "    }\n",
       "</style>\n",
       "<table border=\"1\" class=\"dataframe\">\n",
       "  <thead>\n",
       "    <tr style=\"text-align: right;\">\n",
       "      <th></th>\n",
       "      <th></th>\n",
       "      <th>Blinded</th>\n",
       "      <th>Single_nucleated</th>\n",
       "      <th>Multi_nucleated</th>\n",
       "      <th>BS</th>\n",
       "      <th>OS</th>\n",
       "      <th>OS/BS</th>\n",
       "      <th>single_number/BS</th>\n",
       "      <th>multi_number/BS</th>\n",
       "    </tr>\n",
       "    <tr>\n",
       "      <th>Location_Subregion</th>\n",
       "      <th>Month</th>\n",
       "      <th></th>\n",
       "      <th></th>\n",
       "      <th></th>\n",
       "      <th></th>\n",
       "      <th></th>\n",
       "      <th></th>\n",
       "      <th></th>\n",
       "      <th></th>\n",
       "    </tr>\n",
       "  </thead>\n",
       "  <tbody>\n",
       "    <tr>\n",
       "      <th rowspan=\"2\" valign=\"top\">RF_LAT</th>\n",
       "      <th>3</th>\n",
       "      <td>4.041452</td>\n",
       "      <td>0.577350</td>\n",
       "      <td>1.000000</td>\n",
       "      <td>1766.316902</td>\n",
       "      <td>154.730431</td>\n",
       "      <td>0.019948</td>\n",
       "      <td>0.000405</td>\n",
       "      <td>0.000690</td>\n",
       "    </tr>\n",
       "    <tr>\n",
       "      <th>5</th>\n",
       "      <td>6.362090</td>\n",
       "      <td>1.864454</td>\n",
       "      <td>0.755929</td>\n",
       "      <td>791.173776</td>\n",
       "      <td>117.718804</td>\n",
       "      <td>0.029877</td>\n",
       "      <td>0.000510</td>\n",
       "      <td>0.000236</td>\n",
       "    </tr>\n",
       "    <tr>\n",
       "      <th rowspan=\"2\" valign=\"top\">RF_MED</th>\n",
       "      <th>3</th>\n",
       "      <td>8.485281</td>\n",
       "      <td>0.707107</td>\n",
       "      <td>1.414214</td>\n",
       "      <td>380.417610</td>\n",
       "      <td>133.650716</td>\n",
       "      <td>0.027719</td>\n",
       "      <td>0.000094</td>\n",
       "      <td>0.000337</td>\n",
       "    </tr>\n",
       "    <tr>\n",
       "      <th>5</th>\n",
       "      <td>2.786874</td>\n",
       "      <td>2.483277</td>\n",
       "      <td>1.264911</td>\n",
       "      <td>687.126245</td>\n",
       "      <td>283.673131</td>\n",
       "      <td>0.068398</td>\n",
       "      <td>0.000890</td>\n",
       "      <td>0.000361</td>\n",
       "    </tr>\n",
       "    <tr>\n",
       "      <th rowspan=\"2\" valign=\"top\">RT_LAT</th>\n",
       "      <th>3</th>\n",
       "      <td>4.242641</td>\n",
       "      <td>2.121320</td>\n",
       "      <td>1.414214</td>\n",
       "      <td>2365.691178</td>\n",
       "      <td>165.558477</td>\n",
       "      <td>0.143714</td>\n",
       "      <td>0.000193</td>\n",
       "      <td>0.000637</td>\n",
       "    </tr>\n",
       "    <tr>\n",
       "      <th>4</th>\n",
       "      <td>4.932883</td>\n",
       "      <td>0.000000</td>\n",
       "      <td>1.000000</td>\n",
       "      <td>1029.616002</td>\n",
       "      <td>278.688633</td>\n",
       "      <td>0.112990</td>\n",
       "      <td>0.001559</td>\n",
       "      <td>0.000532</td>\n",
       "    </tr>\n",
       "    <tr>\n",
       "      <th rowspan=\"3\" valign=\"top\">RT_MED</th>\n",
       "      <th>3</th>\n",
       "      <td>6.363961</td>\n",
       "      <td>0.000000</td>\n",
       "      <td>0.707107</td>\n",
       "      <td>400.502968</td>\n",
       "      <td>34.968475</td>\n",
       "      <td>0.053773</td>\n",
       "      <td>0.000284</td>\n",
       "      <td>0.000394</td>\n",
       "    </tr>\n",
       "    <tr>\n",
       "      <th>4</th>\n",
       "      <td>6.379655</td>\n",
       "      <td>3.669696</td>\n",
       "      <td>1.760682</td>\n",
       "      <td>877.459331</td>\n",
       "      <td>191.813093</td>\n",
       "      <td>0.053654</td>\n",
       "      <td>0.001020</td>\n",
       "      <td>0.000710</td>\n",
       "    </tr>\n",
       "    <tr>\n",
       "      <th>5</th>\n",
       "      <td>3.785939</td>\n",
       "      <td>4.949747</td>\n",
       "      <td>2.828427</td>\n",
       "      <td>1247.549372</td>\n",
       "      <td>768.820287</td>\n",
       "      <td>0.145404</td>\n",
       "      <td>0.000802</td>\n",
       "      <td>0.000642</td>\n",
       "    </tr>\n",
       "  </tbody>\n",
       "</table>\n",
       "</div>"
      ],
      "text/plain": [
       "                           Blinded  Single_nucleated  Multi_nucleated  \\\n",
       "Location_Subregion Month                                                \n",
       "RF_LAT             3      4.041452          0.577350         1.000000   \n",
       "                   5      6.362090          1.864454         0.755929   \n",
       "RF_MED             3      8.485281          0.707107         1.414214   \n",
       "                   5      2.786874          2.483277         1.264911   \n",
       "RT_LAT             3      4.242641          2.121320         1.414214   \n",
       "                   4      4.932883          0.000000         1.000000   \n",
       "RT_MED             3      6.363961          0.000000         0.707107   \n",
       "                   4      6.379655          3.669696         1.760682   \n",
       "                   5      3.785939          4.949747         2.828427   \n",
       "\n",
       "                                   BS          OS     OS/BS  single_number/BS  \\\n",
       "Location_Subregion Month                                                        \n",
       "RF_LAT             3      1766.316902  154.730431  0.019948          0.000405   \n",
       "                   5       791.173776  117.718804  0.029877          0.000510   \n",
       "RF_MED             3       380.417610  133.650716  0.027719          0.000094   \n",
       "                   5       687.126245  283.673131  0.068398          0.000890   \n",
       "RT_LAT             3      2365.691178  165.558477  0.143714          0.000193   \n",
       "                   4      1029.616002  278.688633  0.112990          0.001559   \n",
       "RT_MED             3       400.502968   34.968475  0.053773          0.000284   \n",
       "                   4       877.459331  191.813093  0.053654          0.001020   \n",
       "                   5      1247.549372  768.820287  0.145404          0.000802   \n",
       "\n",
       "                          multi_number/BS  \n",
       "Location_Subregion Month                   \n",
       "RF_LAT             3             0.000690  \n",
       "                   5             0.000236  \n",
       "RF_MED             3             0.000337  \n",
       "                   5             0.000361  \n",
       "RT_LAT             3             0.000637  \n",
       "                   4             0.000532  \n",
       "RT_MED             3             0.000394  \n",
       "                   4             0.000710  \n",
       "                   5             0.000642  "
      ]
     },
     "execution_count": 298,
     "metadata": {},
     "output_type": "execute_result"
    }
   ],
   "source": [
    "ITS_merge.groupby(['Location_Subregion', 'Month']).std()"
   ]
  },
  {
   "cell_type": "markdown",
   "id": "JkKmCcrlwqU2",
   "metadata": {
    "id": "JkKmCcrlwqU2",
    "tags": [],
    "toc-hr-collapsed": true
   },
   "source": [
    "### Add code to save merged dataframe and can start with that"
   ]
  },
  {
   "cell_type": "markdown",
   "id": "YV39FnO3N4Rt",
   "metadata": {
    "id": "YV39FnO3N4Rt",
    "tags": [],
    "toc-hr-collapsed": true
   },
   "source": [
    "## Filter by individual GP"
   ]
  },
  {
   "cell_type": "code",
   "execution_count": 137,
   "id": "k4TdBE8c2ceA",
   "metadata": {
    "id": "k4TdBE8c2ceA"
   },
   "outputs": [],
   "source": [
    "def label_cohort (row):\n",
    "   if row['GP'] == 'GP_10':\n",
    "      return 5\n",
    "   if row['GP'] == 'GP_11':\n",
    "      return 5\n",
    "   if row['GP'] == 'GP_12':\n",
    "      return 5\n",
    "   if row['GP'] == 'GP_13':\n",
    "      return 4\n",
    "   if row['GP'] == 'GP_14':\n",
    "      return 4\n",
    "   if row['GP'] == 'GP_15':\n",
    "      return 4\n",
    "   if row['GP'] == 'GP_8':\n",
    "      return 3\n",
    "   if row['GP'] == 'GP_9':\n",
    "      return 3\n",
    "   if row['GP'] == 'GP_16':\n",
    "      return 3\n",
    "   if row['GP'] == 'GP_17':\n",
    "      return 3\n",
    "   return 0"
   ]
  },
  {
   "cell_type": "code",
   "execution_count": 138,
   "id": "KEk6W73m5U_8",
   "metadata": {
    "id": "KEk6W73m5U_8"
   },
   "outputs": [],
   "source": [
    "ITS_merge['Cohort'] = ITS_merge.apply(lambda row: label_cohort(row), axis=1)"
   ]
  },
  {
   "cell_type": "code",
   "execution_count": 139,
   "id": "3Lf2x7P0NIdR",
   "metadata": {
    "id": "3Lf2x7P0NIdR"
   },
   "outputs": [],
   "source": [
    "ITS_merge['GP_Location_Subregion'] = ITS_merge['GP'] + '_' + ITS_merge['Location_Subregion']"
   ]
  },
  {
   "cell_type": "code",
   "execution_count": 140,
   "id": "yavYrrZqN0ve",
   "metadata": {
    "id": "yavYrrZqN0ve"
   },
   "outputs": [],
   "source": [
    "ITS_erode_RT_MED = ITS_merge[(ITS_merge.Location_Subregion == \"RT_MED\")]"
   ]
  },
  {
   "cell_type": "code",
   "execution_count": 141,
   "id": "WSlFbslgRpOO",
   "metadata": {
    "colab": {
     "base_uri": "https://localhost:8080/",
     "height": 905
    },
    "id": "WSlFbslgRpOO",
    "outputId": "4cf11a20-f35d-49fe-c3ae-f2a6f83a8624"
   },
   "outputs": [
    {
     "data": {
      "text/html": [
       "<div>\n",
       "<style scoped>\n",
       "    .dataframe tbody tr th:only-of-type {\n",
       "        vertical-align: middle;\n",
       "    }\n",
       "\n",
       "    .dataframe tbody tr th {\n",
       "        vertical-align: top;\n",
       "    }\n",
       "\n",
       "    .dataframe thead th {\n",
       "        text-align: right;\n",
       "    }\n",
       "</style>\n",
       "<table border=\"1\" class=\"dataframe\">\n",
       "  <thead>\n",
       "    <tr style=\"text-align: right;\">\n",
       "      <th></th>\n",
       "      <th></th>\n",
       "      <th>Thickness</th>\n",
       "      <th>Porosity</th>\n",
       "      <th>BMD</th>\n",
       "      <th>TMD</th>\n",
       "      <th>Cohort</th>\n",
       "    </tr>\n",
       "    <tr>\n",
       "      <th>GP</th>\n",
       "      <th>Month</th>\n",
       "      <th></th>\n",
       "      <th></th>\n",
       "      <th></th>\n",
       "      <th></th>\n",
       "      <th></th>\n",
       "    </tr>\n",
       "  </thead>\n",
       "  <tbody>\n",
       "    <tr>\n",
       "      <th rowspan=\"4\" valign=\"top\">GP_10</th>\n",
       "      <th>2</th>\n",
       "      <td>0.1446</td>\n",
       "      <td>0.193494</td>\n",
       "      <td>982.034077</td>\n",
       "      <td>1211.728012</td>\n",
       "      <td>5</td>\n",
       "    </tr>\n",
       "    <tr>\n",
       "      <th>3</th>\n",
       "      <td>0.2976</td>\n",
       "      <td>0.220531</td>\n",
       "      <td>992.584060</td>\n",
       "      <td>1266.438423</td>\n",
       "      <td>5</td>\n",
       "    </tr>\n",
       "    <tr>\n",
       "      <th>4</th>\n",
       "      <td>0.3243</td>\n",
       "      <td>0.221924</td>\n",
       "      <td>1044.528148</td>\n",
       "      <td>1335.421439</td>\n",
       "      <td>5</td>\n",
       "    </tr>\n",
       "    <tr>\n",
       "      <th>5</th>\n",
       "      <td>0.2374</td>\n",
       "      <td>0.069232</td>\n",
       "      <td>1679.945869</td>\n",
       "      <td>1803.069656</td>\n",
       "      <td>5</td>\n",
       "    </tr>\n",
       "    <tr>\n",
       "      <th rowspan=\"3\" valign=\"top\">GP_11</th>\n",
       "      <th>3</th>\n",
       "      <td>0.3102</td>\n",
       "      <td>0.145073</td>\n",
       "      <td>1155.866665</td>\n",
       "      <td>1347.825076</td>\n",
       "      <td>5</td>\n",
       "    </tr>\n",
       "    <tr>\n",
       "      <th>4</th>\n",
       "      <td>0.2750</td>\n",
       "      <td>0.171932</td>\n",
       "      <td>1161.073406</td>\n",
       "      <td>1397.031073</td>\n",
       "      <td>5</td>\n",
       "    </tr>\n",
       "    <tr>\n",
       "      <th>5</th>\n",
       "      <td>0.1901</td>\n",
       "      <td>0.120319</td>\n",
       "      <td>1517.626240</td>\n",
       "      <td>1721.830562</td>\n",
       "      <td>5</td>\n",
       "    </tr>\n",
       "    <tr>\n",
       "      <th rowspan=\"4\" valign=\"top\">GP_12</th>\n",
       "      <th>2</th>\n",
       "      <td>0.2260</td>\n",
       "      <td>0.165613</td>\n",
       "      <td>NaN</td>\n",
       "      <td>NaN</td>\n",
       "      <td>5</td>\n",
       "    </tr>\n",
       "    <tr>\n",
       "      <th>3</th>\n",
       "      <td>0.2503</td>\n",
       "      <td>0.238783</td>\n",
       "      <td>947.348096</td>\n",
       "      <td>1236.786998</td>\n",
       "      <td>5</td>\n",
       "    </tr>\n",
       "    <tr>\n",
       "      <th>4</th>\n",
       "      <td>0.3041</td>\n",
       "      <td>0.119437</td>\n",
       "      <td>NaN</td>\n",
       "      <td>NaN</td>\n",
       "      <td>5</td>\n",
       "    </tr>\n",
       "    <tr>\n",
       "      <th>5</th>\n",
       "      <td>0.2956</td>\n",
       "      <td>0.040218</td>\n",
       "      <td>1654.722103</td>\n",
       "      <td>1722.293739</td>\n",
       "      <td>5</td>\n",
       "    </tr>\n",
       "  </tbody>\n",
       "</table>\n",
       "</div>"
      ],
      "text/plain": [
       "             Thickness  Porosity          BMD          TMD  Cohort\n",
       "GP    Month                                                       \n",
       "GP_10 2         0.1446  0.193494   982.034077  1211.728012       5\n",
       "      3         0.2976  0.220531   992.584060  1266.438423       5\n",
       "      4         0.3243  0.221924  1044.528148  1335.421439       5\n",
       "      5         0.2374  0.069232  1679.945869  1803.069656       5\n",
       "GP_11 3         0.3102  0.145073  1155.866665  1347.825076       5\n",
       "      4         0.2750  0.171932  1161.073406  1397.031073       5\n",
       "      5         0.1901  0.120319  1517.626240  1721.830562       5\n",
       "GP_12 2         0.2260  0.165613          NaN          NaN       5\n",
       "      3         0.2503  0.238783   947.348096  1236.786998       5\n",
       "      4         0.3041  0.119437          NaN          NaN       5\n",
       "      5         0.2956  0.040218  1654.722103  1722.293739       5"
      ]
     },
     "execution_count": 141,
     "metadata": {},
     "output_type": "execute_result"
    }
   ],
   "source": [
    "ITS_erode_RT_MED.groupby(['GP', 'Month']).mean()"
   ]
  },
  {
   "cell_type": "code",
   "execution_count": 142,
   "id": "OEBQa5WeKpb5",
   "metadata": {
    "colab": {
     "base_uri": "https://localhost:8080/",
     "height": 394
    },
    "id": "OEBQa5WeKpb5",
    "outputId": "6002bc10-1d00-4be4-9987-cf833a3b816b"
   },
   "outputs": [
    {
     "data": {
      "text/html": [
       "<div>\n",
       "<style scoped>\n",
       "    .dataframe tbody tr th:only-of-type {\n",
       "        vertical-align: middle;\n",
       "    }\n",
       "\n",
       "    .dataframe tbody tr th {\n",
       "        vertical-align: top;\n",
       "    }\n",
       "\n",
       "    .dataframe thead th {\n",
       "        text-align: right;\n",
       "    }\n",
       "</style>\n",
       "<table border=\"1\" class=\"dataframe\">\n",
       "  <thead>\n",
       "    <tr style=\"text-align: right;\">\n",
       "      <th></th>\n",
       "      <th></th>\n",
       "      <th>Thickness</th>\n",
       "      <th>Porosity</th>\n",
       "      <th>BMD</th>\n",
       "      <th>TMD</th>\n",
       "    </tr>\n",
       "    <tr>\n",
       "      <th>Cohort</th>\n",
       "      <th>Month</th>\n",
       "      <th></th>\n",
       "      <th></th>\n",
       "      <th></th>\n",
       "      <th></th>\n",
       "    </tr>\n",
       "  </thead>\n",
       "  <tbody>\n",
       "    <tr>\n",
       "      <th rowspan=\"4\" valign=\"top\">5</th>\n",
       "      <th>2</th>\n",
       "      <td>0.185300</td>\n",
       "      <td>0.179554</td>\n",
       "      <td>982.034077</td>\n",
       "      <td>1211.728012</td>\n",
       "    </tr>\n",
       "    <tr>\n",
       "      <th>3</th>\n",
       "      <td>0.286033</td>\n",
       "      <td>0.201462</td>\n",
       "      <td>1031.932940</td>\n",
       "      <td>1283.683499</td>\n",
       "    </tr>\n",
       "    <tr>\n",
       "      <th>4</th>\n",
       "      <td>0.301133</td>\n",
       "      <td>0.171098</td>\n",
       "      <td>1102.800777</td>\n",
       "      <td>1366.226256</td>\n",
       "    </tr>\n",
       "    <tr>\n",
       "      <th>5</th>\n",
       "      <td>0.241033</td>\n",
       "      <td>0.076590</td>\n",
       "      <td>1617.431404</td>\n",
       "      <td>1749.064652</td>\n",
       "    </tr>\n",
       "  </tbody>\n",
       "</table>\n",
       "</div>"
      ],
      "text/plain": [
       "              Thickness  Porosity          BMD          TMD\n",
       "Cohort Month                                               \n",
       "5      2       0.185300  0.179554   982.034077  1211.728012\n",
       "       3       0.286033  0.201462  1031.932940  1283.683499\n",
       "       4       0.301133  0.171098  1102.800777  1366.226256\n",
       "       5       0.241033  0.076590  1617.431404  1749.064652"
      ]
     },
     "execution_count": 142,
     "metadata": {},
     "output_type": "execute_result"
    }
   ],
   "source": [
    "ITS_erode_RT_MED.groupby(['Cohort', 'Month']).mean()"
   ]
  },
  {
   "cell_type": "code",
   "execution_count": 143,
   "id": "P4Z2Q3gdK5k-",
   "metadata": {
    "colab": {
     "base_uri": "https://localhost:8080/"
    },
    "id": "P4Z2Q3gdK5k-",
    "outputId": "6035a257-51d7-40c9-9b8b-3d091608b6ef"
   },
   "outputs": [
    {
     "name": "stderr",
     "output_type": "stream",
     "text": [
      "D:\\Anaconda3\\lib\\site-packages\\scipy\\stats\\_stats_py.py:3630: F_onewayBadInputSizesWarning: at least one input has length 0\n",
      "  warnings.warn(F_onewayBadInputSizesWarning('at least one input '\n"
     ]
    },
    {
     "data": {
      "text/plain": [
       "F_onewayResult(statistic=nan, pvalue=nan)"
      ]
     },
     "execution_count": 143,
     "metadata": {},
     "output_type": "execute_result"
    }
   ],
   "source": [
    "import scipy.stats as stats\n",
    "\n",
    "stats.f_oneway(ITS_erode_RT_MED['Thickness'][ITS_erode_RT_MED['Cohort'] == 3],\n",
    "               ITS_erode_RT_MED['Thickness'][ITS_erode_RT_MED['Cohort'] == 4],\n",
    "               ITS_erode_RT_MED['Thickness'][ITS_erode_RT_MED['Cohort'] == 5])"
   ]
  },
  {
   "cell_type": "code",
   "execution_count": 144,
   "id": "U5QPn3OOLYvd",
   "metadata": {
    "colab": {
     "base_uri": "https://localhost:8080/"
    },
    "id": "U5QPn3OOLYvd",
    "outputId": "9b1fc5d8-ef31-4c9e-9a18-aa0533fce534"
   },
   "outputs": [
    {
     "name": "stderr",
     "output_type": "stream",
     "text": [
      "D:\\Anaconda3\\lib\\site-packages\\scipy\\stats\\_stats_py.py:3630: F_onewayBadInputSizesWarning: at least one input has length 0\n",
      "  warnings.warn(F_onewayBadInputSizesWarning('at least one input '\n"
     ]
    },
    {
     "data": {
      "text/plain": [
       "F_onewayResult(statistic=nan, pvalue=nan)"
      ]
     },
     "execution_count": 144,
     "metadata": {},
     "output_type": "execute_result"
    }
   ],
   "source": [
    "stats.f_oneway(ITS_erode_RT_MED['Porosity'][ITS_erode_RT_MED['Cohort'] == 3],\n",
    "               ITS_erode_RT_MED['Porosity'][ITS_erode_RT_MED['Cohort'] == 4],\n",
    "               ITS_erode_RT_MED['Porosity'][ITS_erode_RT_MED['Cohort'] == 5])"
   ]
  },
  {
   "cell_type": "code",
   "execution_count": 145,
   "id": "R_Zf-GydSNi2",
   "metadata": {
    "colab": {
     "base_uri": "https://localhost:8080/"
    },
    "id": "R_Zf-GydSNi2",
    "outputId": "7534e245-f5d4-4f77-9e1b-56def7b09baf"
   },
   "outputs": [
    {
     "name": "stderr",
     "output_type": "stream",
     "text": [
      "D:\\Anaconda3\\lib\\site-packages\\scipy\\stats\\_stats_py.py:3630: F_onewayBadInputSizesWarning: at least one input has length 0\n",
      "  warnings.warn(F_onewayBadInputSizesWarning('at least one input '\n"
     ]
    },
    {
     "data": {
      "text/plain": [
       "F_onewayResult(statistic=nan, pvalue=nan)"
      ]
     },
     "execution_count": 145,
     "metadata": {},
     "output_type": "execute_result"
    }
   ],
   "source": [
    "stats.f_oneway(ITS_erode_RT_MED['TMD'][ITS_erode_RT_MED['Cohort'] == 3],\n",
    "               ITS_erode_RT_MED['TMD'][ITS_erode_RT_MED['Cohort'] == 4],\n",
    "               ITS_erode_RT_MED['TMD'][ITS_erode_RT_MED['Cohort'] == 5])"
   ]
  },
  {
   "cell_type": "code",
   "execution_count": 146,
   "id": "C474ETZGSSdh",
   "metadata": {
    "colab": {
     "base_uri": "https://localhost:8080/"
    },
    "id": "C474ETZGSSdh",
    "outputId": "0f8d9a15-b930-4014-ad1f-5cb017efc0a7"
   },
   "outputs": [
    {
     "name": "stderr",
     "output_type": "stream",
     "text": [
      "D:\\Anaconda3\\lib\\site-packages\\scipy\\stats\\_stats_py.py:3630: F_onewayBadInputSizesWarning: at least one input has length 0\n",
      "  warnings.warn(F_onewayBadInputSizesWarning('at least one input '\n"
     ]
    },
    {
     "data": {
      "text/plain": [
       "F_onewayResult(statistic=nan, pvalue=nan)"
      ]
     },
     "execution_count": 146,
     "metadata": {},
     "output_type": "execute_result"
    }
   ],
   "source": [
    "stats.f_oneway(ITS_erode_RT_MED['BMD'][ITS_erode_RT_MED['Cohort'] == 3],\n",
    "               ITS_erode_RT_MED['BMD'][ITS_erode_RT_MED['Cohort'] == 4],\n",
    "               ITS_erode_RT_MED['BMD'][ITS_erode_RT_MED['Cohort'] == 5])"
   ]
  },
  {
   "cell_type": "markdown",
   "id": "GI0xYtBkkpQd",
   "metadata": {
    "id": "GI0xYtBkkpQd",
    "tags": [],
    "toc-hr-collapsed": true
   },
   "source": [
    "# Cartilage thickness"
   ]
  },
  {
   "cell_type": "code",
   "execution_count": null,
   "id": "UXlFmEoAvL-S",
   "metadata": {
    "id": "UXlFmEoAvL-S"
   },
   "outputs": [],
   "source": [
    "GP_measurements = pd.read_csv(DATA /'gp_measurements.txt', header = None, sep = '\\t')\n",
    "GP_measurements.columns = ['GP','Sample','ID']"
   ]
  },
  {
   "cell_type": "code",
   "execution_count": null,
   "id": "rQjjn_mZvffg",
   "metadata": {
    "id": "rQjjn_mZvffg"
   },
   "outputs": [],
   "source": [
    "GP_cartilage_thickness= pd.read_csv(DATA /'gp_cartilage_thickness.txt', header = None, sep = '\\t')\n",
    "GP_cartilage_thickness.columns = ['Sample','Cart_LAT_thickness','Cart_MED_thickness']"
   ]
  },
  {
   "cell_type": "code",
   "execution_count": null,
   "id": "v-H2nwcxvz4D",
   "metadata": {
    "id": "v-H2nwcxvz4D"
   },
   "outputs": [],
   "source": [
    "GP_merge = pd.merge(GP_cartilage_thickness, GP_measurements, left_on = 'Sample', right_on = 'Sample')\n",
    "GP_merge.head()"
   ]
  },
  {
   "cell_type": "code",
   "execution_count": null,
   "id": "UBIbtLTwzbfZ",
   "metadata": {
    "id": "UBIbtLTwzbfZ"
   },
   "outputs": [],
   "source": [
    "ITS_erode_merge = pd.merge(ITS_erode_merge, GP_merge, left_on = 'ID', right_on = 'ID')\n",
    "ITS_erode_merge.head()"
   ]
  },
  {
   "cell_type": "code",
   "execution_count": null,
   "id": "cg4S4DRerx40",
   "metadata": {
    "id": "cg4S4DRerx40"
   },
   "outputs": [],
   "source": [
    "ITS_erode_merge.to_csv(DATA /'GP_right.txt', sep = '\\t')"
   ]
  },
  {
   "cell_type": "code",
   "execution_count": null,
   "id": "PnHJZ5tc0lue",
   "metadata": {
    "id": "PnHJZ5tc0lue"
   },
   "outputs": [],
   "source": [
    "ax = sns.barplot(data = ITS_erode_merge, x='Location_Subregion', y='Cart_LAT_thickness', hue='Month', estimator=np.mean, ci = 68, capsize=.2)\n",
    "ax.legend_.remove()\n",
    "pairs=[('RF_LAT', 'RF_MED'), ('RF_LAT', 'RT_LAT'), ('RF_LAT', 'RT_MED'),('RF_MED',  'RT_LAT'), ('RF_MED', 'RT_MED'), ('RT_LAT', 'RT_MED')]\n",
    "\n",
    "annotator = Annotator(ax, pairs, data=ITS_erode_merge, x='Location_Subregion', y='Cart_LAT_thickness')\n",
    "annotator.configure(test='t-test_paired', text_format='star', loc='outside')\n",
    "#annotator.apply_and_annotate()"
   ]
  },
  {
   "cell_type": "markdown",
   "id": "8Nva5BYxjkJR",
   "metadata": {
    "id": "8Nva5BYxjkJR",
    "tags": [],
    "toc-hr-collapsed": true
   },
   "source": [
    "# Statistical Analysis"
   ]
  },
  {
   "cell_type": "code",
   "execution_count": null,
   "id": "g0MEeJ-zhj5f",
   "metadata": {
    "colab": {
     "base_uri": "https://localhost:8080/"
    },
    "id": "g0MEeJ-zhj5f",
    "outputId": "3d195ef1-3b7d-4e64-e418-01b1a71bea50"
   },
   "outputs": [],
   "source": [
    "print(pg.normality(ITS_erode_merge))"
   ]
  },
  {
   "cell_type": "markdown",
   "id": "FmJx-WlpH2Yc",
   "metadata": {
    "id": "FmJx-WlpH2Yc"
   },
   "source": [
    "## Longitudinal Analyses"
   ]
  },
  {
   "cell_type": "code",
   "execution_count": null,
   "id": "FP8fgCdcjmj4",
   "metadata": {
    "colab": {
     "base_uri": "https://localhost:8080/"
    },
    "id": "FP8fgCdcjmj4",
    "outputId": "930e51eb-3f31-41e9-a90d-ad172d28794d"
   },
   "outputs": [],
   "source": [
    "ITS_erode_merge.rm_anova(dv='PR_ratio',\n",
    "                  within=['Location_Subregion', 'Month'],\n",
    "                  subject='GP', detailed = False)"
   ]
  },
  {
   "cell_type": "code",
   "execution_count": null,
   "id": "uT1aGwO5Qwlq",
   "metadata": {
    "colab": {
     "base_uri": "https://localhost:8080/"
    },
    "id": "uT1aGwO5Qwlq",
    "outputId": "b946f652-53e7-4ffb-8d97-bd6213f640d9"
   },
   "outputs": [],
   "source": [
    "post_hocs = pg.pairwise_ttests(dv='PR_ratio',\n",
    "                  within=['Location_Subregion', 'Month'],\n",
    "                  subject='GP', padjust='sidak', data = ITS_erode_merge)\n",
    "post_hocs"
   ]
  },
  {
   "cell_type": "code",
   "execution_count": null,
   "id": "ikTm8SLOS1aV",
   "metadata": {
    "id": "ikTm8SLOS1aV"
   },
   "outputs": [],
   "source": [
    "ITS_erode_merge.rm_anova(dv='rTb_N',\n",
    "                  within=['Location_Subregion', 'Month'],\n",
    "                  subject='GP', detailed = False)"
   ]
  },
  {
   "cell_type": "code",
   "execution_count": null,
   "id": "3l5gjlJDS72c",
   "metadata": {
    "id": "3l5gjlJDS72c"
   },
   "outputs": [],
   "source": [
    "post_hocs = pg.pairwise_ttests(dv='rTb_N',\n",
    "                  within=['Location_Subregion', 'Month'],\n",
    "                  subject='GP', padjust='BH', data = ITS_erode_merge)\n",
    "post_hocs"
   ]
  },
  {
   "cell_type": "code",
   "execution_count": null,
   "id": "P3T3SMKzTIs6",
   "metadata": {
    "id": "P3T3SMKzTIs6"
   },
   "outputs": [],
   "source": [
    "ITS_erode_merge.rm_anova(dv='pTb_Th',\n",
    "                  within=['Location_Subregion', 'Month'],\n",
    "                  subject='GP', detailed = False)"
   ]
  },
  {
   "cell_type": "code",
   "execution_count": null,
   "id": "qbiEyCEATLfS",
   "metadata": {
    "id": "qbiEyCEATLfS"
   },
   "outputs": [],
   "source": [
    "post_hocs = pg.pairwise_ttests(dv='pTb_Th',\n",
    "                  within=['Location_Subregion', 'Month'],\n",
    "                  subject='GP', padjust='bonferroni', data = ITS_erode_merge)\n",
    "post_hocs"
   ]
  },
  {
   "cell_type": "markdown",
   "id": "AYwiOOo3H5aa",
   "metadata": {
    "id": "AYwiOOo3H5aa"
   },
   "source": [
    "## Cross-sectional Analyses"
   ]
  },
  {
   "cell_type": "code",
   "execution_count": null,
   "id": "L5mlZfVWH7pS",
   "metadata": {
    "id": "L5mlZfVWH7pS"
   },
   "outputs": [],
   "source": [
    "PR_model = ols('PR_ratio ~ C(Location_Subregion) + C(Month) + C(Location_Subregion):C(Month)', data=ITS_erode_merge).fit()\n",
    "\n",
    "sm.stats.anova_lm(PR_model,typ=2)"
   ]
  },
  {
   "cell_type": "code",
   "execution_count": null,
   "id": "7uk3ZswTKny7",
   "metadata": {
    "id": "7uk3ZswTKny7"
   },
   "outputs": [],
   "source": [
    "sp.posthoc_ttest(ITS_erode_merge, val_col='PR_Ratio', group_col='Month', p_adjust='holm')"
   ]
  },
  {
   "cell_type": "markdown",
   "id": "KsEK9K0vzIKl",
   "metadata": {
    "id": "KsEK9K0vzIKl",
    "tags": [],
    "toc-hr-collapsed": true
   },
   "source": [
    "# Plot ITS results - line graphs\n"
   ]
  },
  {
   "cell_type": "code",
   "execution_count": null,
   "id": "J3w58fLRzP9_",
   "metadata": {
    "id": "J3w58fLRzP9_"
   },
   "outputs": [],
   "source": [
    "plt.style.use('seaborn-bright')\n",
    "plt.rcParams[\"figure.figsize\"] = (20,10)\n",
    "plt.rcParams.update({'font.size': 20}) \n",
    "import numpy as np"
   ]
  },
  {
   "cell_type": "code",
   "execution_count": null,
   "id": "JAT3uGuUzhmw",
   "metadata": {
    "colab": {
     "base_uri": "https://localhost:8080/"
    },
    "id": "JAT3uGuUzhmw",
    "outputId": "fa3dd9ca-c502-49ab-85e6-b7c12721a7f5"
   },
   "outputs": [],
   "source": [
    "ITS_erode_RT_MED[\"Month\"] = ITS_erode_RT_MED[\"Month\"].astype(str)\n",
    "\n",
    "#hue_order = list(['3', '4', '5'])\n",
    "#order = [\"RF_LAT\", \"RF_MED\", \"RT_LAT\",\"RT_MED\"]\n",
    "#order = [\"LF_LAT\", \"LF_MED\", \"LT_LAT\",\"LT_MED\",\"RF_LAT\", \"RF_MED\", \"RT_LAT\",\"RT_MED\"]\n",
    "\n",
    "\n",
    "hue_plot_params = {\n",
    "    'data': ITS_erode_RT_MED,\n",
    "    'x': 'Month',\n",
    "  #  \"order\": order,\n",
    "    \"hue\": \"GP_Location_Subregion\",\n",
    "    #\"hue_order\": \"RT_MED\"\n",
    "    #\"hue_order\": order\n",
    "}"
   ]
  },
  {
   "cell_type": "code",
   "execution_count": null,
   "id": "FmNnUF0szW2n",
   "metadata": {
    "colab": {
     "base_uri": "https://localhost:8080/",
     "height": 624
    },
    "id": "FmNnUF0szW2n",
    "outputId": "cf19e023-1b9e-4450-beba-67d510e5f886"
   },
   "outputs": [],
   "source": [
    "ax = sns.lineplot(**hue_plot_params, y='PR_ratio')"
   ]
  },
  {
   "cell_type": "code",
   "execution_count": null,
   "id": "HX_ofrtmgeSg",
   "metadata": {
    "colab": {
     "base_uri": "https://localhost:8080/",
     "height": 624
    },
    "id": "HX_ofrtmgeSg",
    "outputId": "82b61049-9203-48cc-d1b8-17058eeec221"
   },
   "outputs": [],
   "source": [
    "ax = sns.lineplot(**hue_plot_params, y='BV_TV')"
   ]
  },
  {
   "cell_type": "code",
   "execution_count": null,
   "id": "4170b709-3982-4323-9ccd-28b764019e23",
   "metadata": {},
   "outputs": [],
   "source": [
    "ax = sns.lineplot(**hue_plot_params, y='pBV_TV')"
   ]
  },
  {
   "cell_type": "code",
   "execution_count": null,
   "id": "pG6ERlX3YoYE",
   "metadata": {
    "colab": {
     "base_uri": "https://localhost:8080/",
     "height": 624
    },
    "id": "pG6ERlX3YoYE",
    "outputId": "f527e985-1fd0-4376-8b69-1b8751bc288a"
   },
   "outputs": [],
   "source": [
    "ax = sns.lineplot(**hue_plot_params, y='rBV_TV')"
   ]
  },
  {
   "cell_type": "code",
   "execution_count": null,
   "id": "iTtXiwJ-THDe",
   "metadata": {
    "colab": {
     "base_uri": "https://localhost:8080/",
     "height": 624
    },
    "id": "iTtXiwJ-THDe",
    "outputId": "fa93a70b-cd2c-463e-c461-13a91cf64e12"
   },
   "outputs": [],
   "source": [
    "ax = sns.lineplot(**hue_plot_params, y='rTb_N')"
   ]
  },
  {
   "cell_type": "code",
   "execution_count": null,
   "id": "Yz6ZbnLwTK37",
   "metadata": {
    "colab": {
     "base_uri": "https://localhost:8080/",
     "height": 624
    },
    "id": "Yz6ZbnLwTK37",
    "outputId": "8ccef3d6-68cd-4abb-a946-f241cc48c88a"
   },
   "outputs": [],
   "source": [
    "ax = sns.lineplot(**hue_plot_params, y='rTb_Th')"
   ]
  },
  {
   "cell_type": "code",
   "execution_count": null,
   "id": "q5bNH42K2g8_",
   "metadata": {
    "colab": {
     "base_uri": "https://localhost:8080/",
     "height": 624
    },
    "id": "q5bNH42K2g8_",
    "outputId": "9ae4c44a-8f5d-4e7e-b957-50aa81c8b9c9"
   },
   "outputs": [],
   "source": [
    "ax = sns.lineplot(**hue_plot_params, y='pTb_Th')"
   ]
  },
  {
   "cell_type": "markdown",
   "id": "bdYe_VDgHg24",
   "metadata": {
    "id": "bdYe_VDgHg24"
   },
   "source": [
    "# Plot ITS results bar graphs\n"
   ]
  },
  {
   "cell_type": "code",
   "execution_count": 251,
   "id": "1df6022d",
   "metadata": {
    "id": "1df6022d"
   },
   "outputs": [],
   "source": [
    "plt.style.use('seaborn-muted')\n",
    "#plt.style.use('dark_background')\n",
    "#plt.style.use('seaborn-bright')\n",
    "#plt.style.use('grayscale')\n",
    "#colors=['darkgray','gray','dimgray','lightgray']\n",
    "#plt.style.use('seaborn-Greys')"
   ]
  },
  {
   "cell_type": "code",
   "execution_count": 252,
   "id": "2fb7d310",
   "metadata": {
    "id": "2fb7d310"
   },
   "outputs": [],
   "source": [
    "#plt.rcParams[\"figure.figsize\"] = (5.5, 4)\n",
    "#plt.rcParams[\"figure.figsize\"] = (16.5,6.2)\n",
    "plt.rcParams[\"figure.figsize\"] = (16.5,16.5)\n",
    "#plt.rcParams[\"figure.figsize\"] = (12,5)\n",
    "plt.rcParams.update({'font.size': 20}) # 'font.weight' : 'bold', 'axes.labelweight': 'bold'})"
   ]
  },
  {
   "cell_type": "code",
   "execution_count": 253,
   "id": "PvfyDxV-o1Fd",
   "metadata": {
    "id": "PvfyDxV-o1Fd"
   },
   "outputs": [],
   "source": [
    "import numpy as np"
   ]
  },
  {
   "cell_type": "code",
   "execution_count": 254,
   "id": "C9JdAQ3nT542",
   "metadata": {
    "id": "C9JdAQ3nT542"
   },
   "outputs": [],
   "source": [
    "ITS_merge[\"Month\"] = ITS_merge[\"Month\"].astype(str)\n",
    "#ITS_merge_5months[\"Month\"] = ITS_merge_5months[\"Month\"].astype(str)\n",
    "\n",
    "hue_order = list(['2', '3', '4', '5'])\n",
    "#order = [\"RF_LAT\", \"RF_MED\", \"RT_LAT\",\"RT_MED\"]\n",
    "order = [\"LF_LAT\", \"LF_MED\", \"LT_LAT\",\"LT_MED\",\"RF_LAT\", \"RF_MED\", \"RT_LAT\",\"RT_MED\"]\n",
    "\n",
    "\n",
    "hue_plot_params = {\n",
    "    'data': ITS_merge,\n",
    "    'x': 'Location_Subregion',\n",
    "    \"order\": order,\n",
    "    \"hue\": \"Month\",\n",
    "    \"hue_order\": hue_order\n",
    "}"
   ]
  },
  {
   "cell_type": "code",
   "execution_count": 255,
   "id": "ba4f9b77-8590-47c9-b79b-7a9500c6d6ba",
   "metadata": {},
   "outputs": [],
   "source": [
    "import seaborn as sns\n",
    "\n",
    "def ITS_plot(ITS_param):\n",
    "    ax = sns.barplot(**hue_plot_params, y=ITS_param, estimator=np.mean, ci=68, capsize=.2, errcolor='black') \n",
    "    #,fill=False)\n",
    "    ax = sns.stripplot(**hue_plot_params, y=ITS_param, color='black', dodge=True)\n",
    "    \n",
    "    #ax = sns.barplot(**hue_plot_params, y=ITS_param, estimator=np.mean, ci=68, capsize=.2, errcolor='black') #,fill=False)\n",
    "    #ax = sns.swarmplot(**hue_plot_params, y=ITS_param, color='black', dodge=True)\n",
    "    \n",
    "    ax.set(xlabel = 'Location')\n",
    "    ax.set(ylabel = '')\n",
    "    ax.set(title = ITS_param)\n",
    "\n",
    "    ax.legend_.remove()\n",
    "    #ax.legend(loc='upper center',ncol=4)\n",
    "    ax.spines['top'].set_visible(True)\n",
    "    ax.spines['right'].set_visible(True)\n",
    "\n",
    "    annotator = Annotator(ax, pairs, **hue_plot_params, y=ITS_param,show_non_significant=False)\n",
    "    annotator.configure(test='t-test_ind', comparisons_correction='BH', correction_format=\"replace\", text_format='star', color='black', loc='inside',pvalue_thresholds=[[1e-4, \"*\"], [1e-3, \"*\"], [1e-2, \"*\"], [0.05, \"*\"],[1, \"\"]])\n",
    "    annotator.apply_and_annotate()\n",
    " \n",
    "    img_name = str(DATA) + \"/ITS_\" + ITS_param + \".png\"\n",
    "    plt.tight_layout()\n",
    "\n",
    "    plt.savefig(img_name, bbox_inches = \"tight\")\n"
   ]
  },
  {
   "cell_type": "code",
   "execution_count": 256,
   "id": "d55df5be-1cb2-4ff0-bd75-cc04db3e0082",
   "metadata": {},
   "outputs": [],
   "source": [
    "def ITS_subplots(ITS_param1, ITS_param2, ITS_param3, ITS_param4):\n",
    "    plt.subplot(2,2,1)\n",
    "    ITS_plot(ITS_param1)\n",
    "    plt.xticks(rotation=45, ha='right')\n",
    "    plt.subplot(2,2,2)\n",
    "    ITS_plot(ITS_param2)\n",
    "    plt.xticks(rotation=45, ha='right')\n",
    "    plt.subplot(2,2,3)\n",
    "    ITS_plot(ITS_param3)\n",
    "    plt.xticks(rotation=45, ha='right')\n",
    "    plt.subplot(2,2,4)\n",
    "    ITS_plot(ITS_param4)\n",
    "    plt.xticks(rotation=45, ha='right')\n",
    "    \n",
    "    img_name = str(DATA) + \"/ITS_subplots.png\"\n",
    "    plt.tight_layout(pad=0.4, w_pad=0.5, h_pad=1.0)\n",
    "    plt.savefig(img_name) #, bbox_inches = \"tight\")\t"
   ]
  },
  {
   "cell_type": "code",
   "execution_count": 257,
   "id": "7c32db41-da2c-4ae9-9461-23ae4d2f3afe",
   "metadata": {},
   "outputs": [],
   "source": [
    "ITS_merge.to_csv(DATA/'SBP_merge.csv',index=False)"
   ]
  },
  {
   "cell_type": "code",
   "execution_count": 258,
   "id": "-ngl3cQQY6jF",
   "metadata": {
    "id": "-ngl3cQQY6jF"
   },
   "outputs": [],
   "source": [
    "pairs=[[('RF_LAT','2'), ('RF_LAT','3')], [('RF_LAT','2'), ('RF_LAT','4')], [('RF_LAT','2'), ('RF_LAT','5')],[('RF_LAT','3'), ('RF_LAT','4')],[('RF_LAT','3'), ('RF_LAT','5')],[('RF_LAT','4'), ('RF_LAT','5')],\n",
    "       [('RF_MED','2'), ('RF_MED','3')], [('RF_MED','2'), ('RF_MED','4')], [('RF_MED','2'), ('RF_MED','5')],[('RF_MED','3'), ('RF_MED','4')],[('RF_MED','3'), ('RF_MED','5')],[('RF_MED','4'), ('RF_MED','5')],\n",
    "       [('RT_LAT','2'), ('RT_LAT','3')], [('RT_LAT','2'), ('RT_LAT','4')], [('RT_LAT','2'), ('RT_LAT','5')],[('RT_LAT','3'), ('RT_LAT','4')],[('RT_LAT','3'), ('RT_LAT','5')],[('RT_LAT','4'), ('RT_LAT','5')],\n",
    "       [('RT_MED','2'), ('RT_MED','3')], [('RT_MED','2'), ('RT_MED','4')], [('RT_MED','2'), ('RT_MED','5')],[('RT_MED','3'), ('RT_MED','4')],[('RT_MED','3'), ('RT_MED','5')],[('RT_MED','4'), ('RT_MED','5')]]"
   ]
  },
  {
   "cell_type": "code",
   "execution_count": 259,
   "id": "3ee17bc7-b461-4566-89a4-81040d21df81",
   "metadata": {
    "id": "tqK8YlYtyoCJ"
   },
   "outputs": [],
   "source": [
    "pairs=[[('RF_LAT','2'), ('RF_LAT','3')], [('RF_LAT','2'), ('RF_LAT','4')], [('RF_LAT','2'), ('RF_LAT','5')],[('RF_LAT','3'), ('RF_LAT','4')],[('RF_LAT','3'), ('RF_LAT','5')],[('RF_LAT','4'), ('RF_LAT','5')],\n",
    "       [('RF_MED','2'), ('RF_MED','3')], [('RF_MED','2'), ('RF_MED','4')], [('RF_MED','2'), ('RF_MED','5')],[('RF_MED','3'), ('RF_MED','4')],[('RF_MED','3'), ('RF_MED','5')],[('RF_MED','4'), ('RF_MED','5')],\n",
    "       [('RT_LAT','2'), ('RT_LAT','3')], [('RT_LAT','2'), ('RT_LAT','4')], [('RT_LAT','2'), ('RT_LAT','5')],[('RT_LAT','3'), ('RT_LAT','4')],[('RT_LAT','3'), ('RT_LAT','5')],[('RT_LAT','4'), ('RT_LAT','5')],\n",
    "       [('RT_MED','2'), ('RT_MED','3')], [('RT_MED','2'), ('RT_MED','4')], [('RT_MED','2'), ('RT_MED','5')],[('RT_MED','3'), ('RT_MED','4')],[('RT_MED','3'), ('RT_MED','5')],[('RT_MED','4'), ('RT_MED','5')],\n",
    "       [('LF_LAT','2'), ('LF_LAT','3')], [('LF_LAT','2'), ('LF_LAT','4')], [('LF_LAT','2'), ('LF_LAT','5')],[('LF_LAT','3'), ('LF_LAT','4')],[('LF_LAT','3'), ('LF_LAT','5')],[('LF_LAT','4'), ('LF_LAT','5')],\n",
    "       [('LF_MED','2'), ('LF_MED','3')], [('LF_MED','2'), ('LF_MED','4')], [('LF_MED','2'), ('LF_MED','5')],[('LF_MED','3'), ('LF_MED','4')],[('LF_MED','3'), ('LF_MED','5')],[('LF_MED','4'), ('LF_MED','5')],\n",
    "       [('LT_LAT','2'), ('LT_LAT','3')], [('LT_LAT','2'), ('LT_LAT','4')], [('LT_LAT','2'), ('LT_LAT','5')],[('LT_LAT','3'), ('LT_LAT','4')],[('LT_LAT','3'), ('LT_LAT','5')],[('LT_LAT','4'), ('LT_LAT','5')],\n",
    "       [('LT_MED','2'), ('LT_MED','3')], [('LT_MED','2'), ('LT_MED','4')], [('LT_MED','2'), ('LT_MED','5')],[('LT_MED','3'), ('LT_MED','4')],[('LT_MED','3'), ('LT_MED','5')],[('LT_MED','4'), ('LT_MED','5')]]"
   ]
  },
  {
   "cell_type": "code",
   "execution_count": 260,
   "id": "xbkWI6b2wKKu",
   "metadata": {
    "colab": {
     "base_uri": "https://localhost:8080/",
     "height": 1000
    },
    "id": "xbkWI6b2wKKu",
    "outputId": "d16be2ee-bcb8-4c56-dfd7-07e562aa8795"
   },
   "outputs": [
    {
     "name": "stdout",
     "output_type": "stream",
     "text": [
      "p-value annotation legend:\n",
      "        : p <= 1.00e+00\n",
      "       *: 1.00e-02 < p <= 5.00e-02\n",
      "       *: 1.00e-03 < p <= 1.00e-02\n",
      "       *: 1.00e-04 < p <= 1.00e-03\n",
      "       *: p <= 1.00e-04\n",
      "\n",
      "RF_LAT_2 vs. RF_LAT_5: t-test independent samples with Benjamini-Hochberg correction, P_val:3.922e-02 (ns) t=-2.292e+00\n",
      "RT_MED_2 vs. RT_MED_5: t-test independent samples with Benjamini-Hochberg correction, P_val:9.492e-03 (ns) t=-3.003e+00\n",
      "p-value annotation legend:\n",
      "        : p <= 1.00e+00\n",
      "       *: 1.00e-02 < p <= 5.00e-02\n",
      "       *: 1.00e-03 < p <= 1.00e-02\n",
      "       *: 1.00e-04 < p <= 1.00e-03\n",
      "       *: p <= 1.00e-04\n",
      "\n",
      "RF_LAT_2 vs. RF_LAT_3: t-test independent samples with Benjamini-Hochberg correction, P_val:1.142e-02 t=2.857e+00\n",
      "LF_MED_4 vs. LF_MED_5: t-test independent samples with Benjamini-Hochberg correction, P_val:2.141e-02 (ns) t=3.089e+00\n",
      "LF_LAT_4 vs. LF_LAT_5: t-test independent samples with Benjamini-Hochberg correction, P_val:1.155e-02 t=3.587e+00\n",
      "LF_MED_2 vs. LF_MED_3: t-test independent samples with Benjamini-Hochberg correction, P_val:2.815e-02 (ns) t=2.448e+00\n",
      "RF_LAT_4 vs. RF_LAT_5: t-test independent samples with Benjamini-Hochberg correction, P_val:8.951e-03 t=3.430e+00\n",
      "RF_LAT_2 vs. RF_LAT_4: t-test independent samples with Benjamini-Hochberg correction, P_val:4.104e-02 (ns) t=2.235e+00\n",
      "RF_MED_2 vs. RF_MED_4: t-test independent samples with Benjamini-Hochberg correction, P_val:1.670e-02 t=2.672e+00\n",
      "RF_MED_3 vs. RF_MED_5: t-test independent samples with Benjamini-Hochberg correction, P_val:1.563e-02 t=2.973e+00\n",
      "RT_LAT_2 vs. RT_LAT_4: t-test independent samples with Benjamini-Hochberg correction, P_val:2.355e-03 t=3.653e+00\n",
      "RT_LAT_3 vs. RT_LAT_5: t-test independent samples with Benjamini-Hochberg correction, P_val:5.451e-03 t=3.530e+00\n",
      "RT_MED_2 vs. RT_MED_4: t-test independent samples with Benjamini-Hochberg correction, P_val:1.960e-03 t=3.696e+00\n",
      "RT_MED_3 vs. RT_MED_5: t-test independent samples with Benjamini-Hochberg correction, P_val:4.346e-02 (ns) t=2.257e+00\n",
      "RF_LAT_3 vs. RF_LAT_5: t-test independent samples with Benjamini-Hochberg correction, P_val:4.175e-03 t=3.807e+00\n",
      "LT_MED_2 vs. LT_MED_4: t-test independent samples with Benjamini-Hochberg correction, P_val:2.083e-02 (ns) t=2.564e+00\n",
      "LT_MED_3 vs. LT_MED_5: t-test independent samples with Benjamini-Hochberg correction, P_val:3.825e-02 (ns) t=2.354e+00\n",
      "LF_LAT_3 vs. LF_LAT_5: t-test independent samples with Benjamini-Hochberg correction, P_val:2.658e-02 (ns) t=2.598e+00\n",
      "LF_MED_3 vs. LF_MED_5: t-test independent samples with Benjamini-Hochberg correction, P_val:6.766e-03 t=3.496e+00\n",
      "RF_LAT_2 vs. RF_LAT_5: t-test independent samples with Benjamini-Hochberg correction, P_val:4.936e-05 t=5.936e+00\n",
      "RF_MED_2 vs. RF_MED_5: t-test independent samples with Benjamini-Hochberg correction, P_val:7.301e-06 t=7.166e+00\n",
      "RT_LAT_2 vs. RT_LAT_5: t-test independent samples with Benjamini-Hochberg correction, P_val:2.948e-06 t=7.484e+00\n",
      "RT_MED_2 vs. RT_MED_5: t-test independent samples with Benjamini-Hochberg correction, P_val:3.927e-05 t=5.891e+00\n",
      "LT_MED_2 vs. LT_MED_5: t-test independent samples with Benjamini-Hochberg correction, P_val:3.328e-02 (ns) t=2.404e+00\n",
      "LT_LAT_2 vs. LT_LAT_5: t-test independent samples with Benjamini-Hochberg correction, P_val:7.011e-03 t=3.246e+00\n",
      "LF_LAT_2 vs. LF_LAT_5: t-test independent samples with Benjamini-Hochberg correction, P_val:2.436e-04 t=5.143e+00\n",
      "LF_MED_2 vs. LF_MED_5: t-test independent samples with Benjamini-Hochberg correction, P_val:1.046e-03 t=4.749e+00\n",
      "p-value annotation legend:\n",
      "        : p <= 1.00e+00\n",
      "       *: 1.00e-02 < p <= 5.00e-02\n",
      "       *: 1.00e-03 < p <= 1.00e-02\n",
      "       *: 1.00e-04 < p <= 1.00e-03\n",
      "       *: p <= 1.00e-04\n",
      "\n",
      "RF_LAT_2 vs. RF_LAT_3: t-test independent samples with Benjamini-Hochberg correction, P_val:2.521e-03 t=-3.620e+00\n",
      "LT_MED_2 vs. LT_MED_3: t-test independent samples with Benjamini-Hochberg correction, P_val:1.740e-02 t=-2.652e+00\n",
      "LF_MED_4 vs. LF_MED_5: t-test independent samples with Benjamini-Hochberg correction, P_val:4.752e-03 t=-4.364e+00\n",
      "LF_LAT_4 vs. LF_LAT_5: t-test independent samples with Benjamini-Hochberg correction, P_val:4.160e-03 t=-4.487e+00\n",
      "LF_LAT_2 vs. LF_LAT_3: t-test independent samples with Benjamini-Hochberg correction, P_val:3.193e-02 t=-2.326e+00\n",
      "RF_LAT_4 vs. RF_LAT_5: t-test independent samples with Benjamini-Hochberg correction, P_val:2.882e-02 t=-2.742e+00\n",
      "RF_MED_2 vs. RF_MED_3: t-test independent samples with Benjamini-Hochberg correction, P_val:8.971e-03 t=-2.973e+00\n",
      "RT_LAT_2 vs. RT_LAT_3: t-test independent samples with Benjamini-Hochberg correction, P_val:2.704e-03 t=-3.543e+00\n",
      "RT_MED_2 vs. RT_MED_3: t-test independent samples with Benjamini-Hochberg correction, P_val:7.210e-03 t=-3.052e+00\n",
      "LT_MED_3 vs. LT_MED_4: t-test independent samples with Benjamini-Hochberg correction, P_val:3.450e-02 (ns) t=-2.342e+00\n",
      "RF_LAT_2 vs. RF_LAT_4: t-test independent samples with Benjamini-Hochberg correction, P_val:1.192e-03 t=-4.127e+00\n",
      "RF_MED_2 vs. RF_MED_4: t-test independent samples with Benjamini-Hochberg correction, P_val:7.465e-04 t=-4.217e+00\n",
      "RF_MED_3 vs. RF_MED_5: t-test independent samples with Benjamini-Hochberg correction, P_val:4.372e-03 t=-3.777e+00\n",
      "RT_LAT_2 vs. RT_LAT_4: t-test independent samples with Benjamini-Hochberg correction, P_val:4.292e-04 t=-4.579e+00\n",
      "RT_LAT_3 vs. RT_LAT_5: t-test independent samples with Benjamini-Hochberg correction, P_val:2.075e-03 t=-4.121e+00\n",
      "RT_MED_2 vs. RT_MED_4: t-test independent samples with Benjamini-Hochberg correction, P_val:3.941e-04 t=-4.624e+00\n",
      "RT_MED_3 vs. RT_MED_5: t-test independent samples with Benjamini-Hochberg correction, P_val:7.685e-03 t=-3.196e+00\n",
      "RF_LAT_3 vs. RF_LAT_5: t-test independent samples with Benjamini-Hochberg correction, P_val:4.488e-03 t=-3.760e+00\n",
      "LT_MED_2 vs. LT_MED_4: t-test independent samples with Benjamini-Hochberg correction, P_val:2.678e-04 t=-4.829e+00\n",
      "LT_MED_3 vs. LT_MED_5: t-test independent samples with Benjamini-Hochberg correction, P_val:1.364e-02 t=-2.932e+00\n",
      "LF_LAT_3 vs. LF_LAT_5: t-test independent samples with Benjamini-Hochberg correction, P_val:6.632e-03 t=-3.412e+00\n",
      "LF_MED_3 vs. LF_MED_5: t-test independent samples with Benjamini-Hochberg correction, P_val:8.085e-04 t=-5.214e+00\n",
      "LF_LAT_2 vs. LF_LAT_4: t-test independent samples with Benjamini-Hochberg correction, P_val:4.915e-03 t=-3.334e+00\n",
      "LF_MED_2 vs. LF_MED_4: t-test independent samples with Benjamini-Hochberg correction, P_val:1.538e-02 t=-2.865e+00\n",
      "RF_LAT_2 vs. RF_LAT_5: t-test independent samples with Benjamini-Hochberg correction, P_val:2.865e-06 t=-8.214e+00\n",
      "RF_MED_2 vs. RF_MED_5: t-test independent samples with Benjamini-Hochberg correction, P_val:1.612e-08 t=-1.226e+01\n",
      "RT_LAT_2 vs. RT_LAT_5: t-test independent samples with Benjamini-Hochberg correction, P_val:1.900e-08 t=-1.135e+01\n",
      "RT_MED_2 vs. RT_MED_5: t-test independent samples with Benjamini-Hochberg correction, P_val:2.420e-06 t=-7.942e+00\n",
      "LT_MED_2 vs. LT_MED_5: t-test independent samples with Benjamini-Hochberg correction, P_val:4.452e-04 t=-4.936e+00\n",
      "LT_LAT_2 vs. LT_LAT_5: t-test independent samples with Benjamini-Hochberg correction, P_val:1.396e-03 t=-4.545e+00\n",
      "LF_LAT_2 vs. LF_LAT_5: t-test independent samples with Benjamini-Hochberg correction, P_val:1.714e-06 t=-8.631e+00\n",
      "LF_MED_2 vs. LF_MED_5: t-test independent samples with Benjamini-Hochberg correction, P_val:2.897e-04 t=-5.712e+00\n",
      "p-value annotation legend:\n",
      "        : p <= 1.00e+00\n",
      "       *: 1.00e-02 < p <= 5.00e-02\n",
      "       *: 1.00e-03 < p <= 1.00e-02\n",
      "       *: 1.00e-04 < p <= 1.00e-03\n",
      "       *: p <= 1.00e-04\n",
      "\n",
      "RF_LAT_2 vs. RF_LAT_3: t-test independent samples with Benjamini-Hochberg correction, P_val:1.503e-03 t=-3.873e+00\n",
      "LT_MED_2 vs. LT_MED_3: t-test independent samples with Benjamini-Hochberg correction, P_val:3.827e-03 t=-3.379e+00\n",
      "LF_MED_4 vs. LF_MED_5: t-test independent samples with Benjamini-Hochberg correction, P_val:4.752e-03 t=-4.364e+00\n",
      "LT_LAT_2 vs. LT_LAT_3: t-test independent samples with Benjamini-Hochberg correction, P_val:3.003e-02 t=-2.460e+00\n",
      "LF_LAT_4 vs. LF_LAT_5: t-test independent samples with Benjamini-Hochberg correction, P_val:4.922e-03 t=-4.331e+00\n",
      "LF_LAT_2 vs. LF_LAT_3: t-test independent samples with Benjamini-Hochberg correction, P_val:1.363e-02 t=-2.734e+00\n",
      "RF_MED_2 vs. RF_MED_3: t-test independent samples with Benjamini-Hochberg correction, P_val:2.457e-03 t=-3.589e+00\n",
      "RT_LAT_2 vs. RT_LAT_3: t-test independent samples with Benjamini-Hochberg correction, P_val:4.718e-04 t=-4.374e+00\n",
      "RT_MED_2 vs. RT_MED_3: t-test independent samples with Benjamini-Hochberg correction, P_val:2.555e-03 t=-3.533e+00\n",
      "LT_MED_3 vs. LT_MED_4: t-test independent samples with Benjamini-Hochberg correction, P_val:1.892e-02 t=-2.653e+00\n",
      "RF_LAT_2 vs. RF_LAT_4: t-test independent samples with Benjamini-Hochberg correction, P_val:1.387e-04 t=-5.321e+00\n",
      "RF_MED_2 vs. RF_MED_4: t-test independent samples with Benjamini-Hochberg correction, P_val:1.073e-04 t=-5.202e+00\n",
      "RF_MED_3 vs. RF_MED_5: t-test independent samples with Benjamini-Hochberg correction, P_val:5.316e-03 t=-3.650e+00\n",
      "RT_LAT_2 vs. RT_LAT_4: t-test independent samples with Benjamini-Hochberg correction, P_val:1.546e-04 t=-5.124e+00\n",
      "RT_LAT_3 vs. RT_LAT_5: t-test independent samples with Benjamini-Hochberg correction, P_val:2.243e-03 t=-4.072e+00\n",
      "RT_MED_2 vs. RT_MED_4: t-test independent samples with Benjamini-Hochberg correction, P_val:1.811e-04 t=-5.039e+00\n",
      "RT_MED_3 vs. RT_MED_5: t-test independent samples with Benjamini-Hochberg correction, P_val:4.059e-03 t=-3.542e+00\n",
      "RF_LAT_3 vs. RF_LAT_5: t-test independent samples with Benjamini-Hochberg correction, P_val:9.077e-03 t=-3.311e+00\n",
      "LT_MED_2 vs. LT_MED_4: t-test independent samples with Benjamini-Hochberg correction, P_val:1.139e-05 t=-6.627e+00\n",
      "LT_MED_3 vs. LT_MED_5: t-test independent samples with Benjamini-Hochberg correction, P_val:1.165e-02 t=-3.020e+00\n",
      "LF_LAT_3 vs. LF_LAT_5: t-test independent samples with Benjamini-Hochberg correction, P_val:7.537e-03 t=-3.336e+00\n",
      "LF_MED_3 vs. LF_MED_5: t-test independent samples with Benjamini-Hochberg correction, P_val:2.964e-03 t=-4.208e+00\n",
      "LF_LAT_2 vs. LF_LAT_4: t-test independent samples with Benjamini-Hochberg correction, P_val:8.104e-05 t=-5.480e+00\n",
      "LF_MED_2 vs. LF_MED_4: t-test independent samples with Benjamini-Hochberg correction, P_val:9.392e-03 t=-3.141e+00\n",
      "LT_LAT_2 vs. LT_LAT_4: t-test independent samples with Benjamini-Hochberg correction, P_val:2.461e-04 t=-5.137e+00\n",
      "RF_LAT_2 vs. RF_LAT_5: t-test independent samples with Benjamini-Hochberg correction, P_val:3.638e-06 t=-8.026e+00\n",
      "RF_MED_2 vs. RF_MED_5: t-test independent samples with Benjamini-Hochberg correction, P_val:2.097e-08 t=-1.200e+01\n",
      "RT_LAT_2 vs. RT_LAT_5: t-test independent samples with Benjamini-Hochberg correction, P_val:2.727e-08 t=-1.103e+01\n",
      "RT_MED_2 vs. RT_MED_5: t-test independent samples with Benjamini-Hochberg correction, P_val:2.550e-06 t=-7.904e+00\n",
      "LT_MED_2 vs. LT_MED_5: t-test independent samples with Benjamini-Hochberg correction, P_val:3.535e-05 t=-6.666e+00\n",
      "LT_LAT_2 vs. LT_LAT_5: t-test independent samples with Benjamini-Hochberg correction, P_val:6.262e-04 t=-5.122e+00\n",
      "LF_LAT_2 vs. LF_LAT_5: t-test independent samples with Benjamini-Hochberg correction, P_val:1.428e-06 t=-8.783e+00\n",
      "LF_MED_2 vs. LF_MED_5: t-test independent samples with Benjamini-Hochberg correction, P_val:1.360e-03 t=-4.563e+00\n"
     ]
    },
    {
     "data": {
      "image/png": "[encoded data removed]",
      "text/plain": [
       "<Figure size 1650x1650 with 4 Axes>"
      ]
     },
     "metadata": {},
     "output_type": "display_data"
    }
   ],
   "source": [
    "ITS_subplots('Thickness','Porosity','BMD','TMD')"
   ]
  }
 ],
 "metadata": {
  "colab": {
   "collapsed_sections": [
    "1VQxwwcKHx6W",
    "GI0xYtBkkpQd",
    "8Nva5BYxjkJR"
   ],
   "name": "ITS_analysis.ipynb",
   "provenance": []
  },
  "kernelspec": {
   "display_name": "Python 3 (ipykernel)",
   "language": "python",
   "name": "python3"
  },
  "language_info": {
   "codemirror_mode": {
    "name": "ipython",
    "version": 3
   },
   "file_extension": ".py",
   "mimetype": "text/x-python",
   "name": "python",
   "nbconvert_exporter": "python",
   "pygments_lexer": "ipython3",
   "version": "3.8.8"
  }
 },
 "nbformat": 4,
 "nbformat_minor": 5
}
