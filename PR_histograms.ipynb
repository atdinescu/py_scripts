{
 "cells": [
  {
   "cell_type": "code",
   "execution_count": 2,
   "id": "0b9fe566-8c7b-4ce9-8ff5-fd5fdfb71e7c",
   "metadata": {},
   "outputs": [],
   "source": [
    "import matplotlib.pyplot as plt\n",
    "import numpy as np\n",
    "import matplotlib\n",
    "import pandas as pd\n",
    "\n",
    "#f_plates= np.loadtxt('F:\\Scans_guineapig\\ITS\\ex_vivo\\E0017301_SPLIT_ERODE5_ITS.AIM;1.plateori', unpack='False')\n",
    "#f_rods= np.loadtxt('F:\\Scans_guineapig\\ITS\\ex_vivo\\E0017301_SPLIT_ERODE5_ITS.AIM;1.rodori', unpack='False')\n",
    "size = 208*352*89\n",
    "\n",
    "f_plates= np.loadtxt('F:\\Scans_guineapig\\ITS\\MED\\E0016710_RT_MED_ITS_230.AIM;1.plateori', unpack='False')\n",
    "f_rods= np.loadtxt('F:\\Scans_guineapig\\ITS\\MED\\E0016710_RT_MED_ITS_230.AIM;1.rodori', unpack='False')"
   ]
  },
  {
   "cell_type": "code",
   "execution_count": 3,
   "id": "920deca5-e3e3-4be6-be6e-a1918a144cc3",
   "metadata": {},
   "outputs": [
    {
     "data": {
      "text/plain": [
       "array([0., 0., 0., ..., 6., 6., 6.])"
      ]
     },
     "execution_count": 3,
     "metadata": {},
     "output_type": "execute_result"
    }
   ],
   "source": [
    "f_plates"
   ]
  },
  {
   "cell_type": "code",
   "execution_count": 9,
   "id": "3dc66fca-f34f-4643-a5c0-a0f05fc44b72",
   "metadata": {},
   "outputs": [
    {
     "data": {
      "image/png": "[encoded data removed]",
      "text/plain": [
       "<Figure size 432x288 with 1 Axes>"
      ]
     },
     "metadata": {
      "needs_background": "light"
     },
     "output_type": "display_data"
    }
   ],
   "source": [
    "bins = np.linspace(0,10,10)\n",
    "\n",
    "plt.hist(f_plates,bins,label='pTb.N',alpha=0.5,color='red') #, bins = bins)\n",
    "plt.hist(f_rods,bins,label='rTb.N',alpha=0.5,color='green')\n",
    "plt.xlabel('Angle')\n",
    "plt.ylabel('Tb.N (mm-3)')\n",
    "plt.title('Plate/Rod Distribution')\n",
    "plt.show()"
   ]
  },
  {
   "cell_type": "code",
   "execution_count": null,
   "id": "2b8b234b-1ad8-47a3-8bbb-c27f8a0d3321",
   "metadata": {},
   "outputs": [],
   "source": []
  }
 ],
 "metadata": {
  "kernelspec": {
   "display_name": "Python 3 (ipykernel)",
   "language": "python",
   "name": "python3"
  },
  "language_info": {
   "codemirror_mode": {
    "name": "ipython",
    "version": 3
   },
   "file_extension": ".py",
   "mimetype": "text/x-python",
   "name": "python",
   "nbconvert_exporter": "python",
   "pygments_lexer": "ipython3",
   "version": "3.8.8"
  }
 },
 "nbformat": 4,
 "nbformat_minor": 5
}
