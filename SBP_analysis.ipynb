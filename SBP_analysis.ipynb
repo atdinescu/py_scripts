{
 "cells": [
  {
   "cell_type": "markdown",
   "id": "ig0UNePuHr1-",
   "metadata": {
    "id": "ig0UNePuHr1-"
   },
   "source": [
    "# Import Python libraries and directory of results"
   ]
  },
  {
   "cell_type": "code",
   "execution_count": 1,
   "id": "1449611c",
   "metadata": {
    "colab": {
     "base_uri": "https://localhost:8080/"
    },
    "id": "1449611c",
    "outputId": "30af662b-ac3e-46fd-e7a7-3bfd5b91b374"
   },
   "outputs": [
    {
     "name": "stderr",
     "output_type": "stream",
     "text": [
      "D:\\Anaconda3\\lib\\site-packages\\outdated\\utils.py:14: OutdatedPackageWarning: The package outdated is out of date. Your version is 0.2.1, the latest is 0.2.2.\n",
      "Set the environment variable OUTDATED_IGNORE=1 to disable these warnings.\n",
      "  return warn(\n"
     ]
    }
   ],
   "source": [
    "import seaborn as sns\n",
    "import pandas as pd\n",
    "import matplotlib.pyplot as plt\n",
    "import pingouin as pg\n",
    "import statsmodels.api as sm\n",
    "import scikit_posthocs as sp\n",
    "from statsmodels.formula.api import ols\n",
    "from statannotations.Annotator import Annotator\n",
    "#from ITS_lib.ITS_functions import ITS_plot, ITS_subplots"
   ]
  },
  {
   "cell_type": "code",
   "execution_count": 2,
   "id": "93205667-5583-4a56-b393-ccf371c2ad7e",
   "metadata": {},
   "outputs": [],
   "source": [
    "#from google.colab import drive\n",
    "#drive.mount(\"/content/drive\")\n",
    "\n",
    "#!pip install pingouin\n",
    "\n",
    "#!pip install statannotations\n",
    "#!pip install statsmodels\n",
    "#!pip install scikit_posthocs"
   ]
  },
  {
   "cell_type": "code",
   "execution_count": 3,
   "id": "WJJSB6rhFgAU",
   "metadata": {
    "id": "WJJSB6rhFgAU"
   },
   "outputs": [],
   "source": [
    "from pathlib import Path\n",
    "\n",
    "#DATA = Path(\"/content/drive/My Drive/BBL/GP_ITS\")\n",
    "DATA = Path(\"C:/Users/Teo/Downloads\")"
   ]
  },
  {
   "cell_type": "markdown",
   "id": "TAZa2l41tbx3",
   "metadata": {
    "id": "TAZa2l41tbx3"
   },
   "source": [
    "# Create one table with ITS results"
   ]
  },
  {
   "cell_type": "code",
   "execution_count": 4,
   "id": "yRDB7RnO2DSh",
   "metadata": {
    "colab": {
     "base_uri": "https://localhost:8080/",
     "height": 314
    },
    "id": "yRDB7RnO2DSh",
    "outputId": "5c02908d-6bbd-440b-82d9-41108846e449"
   },
   "outputs": [
    {
     "data": {
      "text/html": [
       "<div>\n",
       "<style scoped>\n",
       "    .dataframe tbody tr th:only-of-type {\n",
       "        vertical-align: middle;\n",
       "    }\n",
       "\n",
       "    .dataframe tbody tr th {\n",
       "        vertical-align: top;\n",
       "    }\n",
       "\n",
       "    .dataframe thead th {\n",
       "        text-align: right;\n",
       "    }\n",
       "</style>\n",
       "<table border=\"1\" class=\"dataframe\">\n",
       "  <thead>\n",
       "    <tr style=\"text-align: right;\">\n",
       "      <th></th>\n",
       "      <th>Filename</th>\n",
       "      <th>Thickness</th>\n",
       "      <th>Porosity</th>\n",
       "      <th>BMD</th>\n",
       "      <th>TMD</th>\n",
       "      <th>ID</th>\n",
       "      <th>Location</th>\n",
       "      <th>Subregion</th>\n",
       "      <th>Location_Subregion</th>\n",
       "    </tr>\n",
       "  </thead>\n",
       "  <tbody>\n",
       "    <tr>\n",
       "      <th>0</th>\n",
       "      <td>E0016652_LF_LAT</td>\n",
       "      <td>0.2738</td>\n",
       "      <td>0.247248</td>\n",
       "      <td>912.694346</td>\n",
       "      <td>1204.382048</td>\n",
       "      <td>E0016652</td>\n",
       "      <td>LF</td>\n",
       "      <td>LAT</td>\n",
       "      <td>LF_LAT</td>\n",
       "    </tr>\n",
       "    <tr>\n",
       "      <th>1</th>\n",
       "      <td>E0016652_LF_MED</td>\n",
       "      <td>0.2681</td>\n",
       "      <td>0.277952</td>\n",
       "      <td>851.170837</td>\n",
       "      <td>1169.341802</td>\n",
       "      <td>E0016652</td>\n",
       "      <td>LF</td>\n",
       "      <td>MED</td>\n",
       "      <td>LF_MED</td>\n",
       "    </tr>\n",
       "    <tr>\n",
       "      <th>2</th>\n",
       "      <td>E0016652_LT_LAT</td>\n",
       "      <td>0.2994</td>\n",
       "      <td>0.222734</td>\n",
       "      <td>960.661315</td>\n",
       "      <td>1228.887595</td>\n",
       "      <td>E0016652</td>\n",
       "      <td>LT</td>\n",
       "      <td>LAT</td>\n",
       "      <td>LT_LAT</td>\n",
       "    </tr>\n",
       "    <tr>\n",
       "      <th>3</th>\n",
       "      <td>E0016652_LT_MED</td>\n",
       "      <td>0.2483</td>\n",
       "      <td>NaN</td>\n",
       "      <td>NaN</td>\n",
       "      <td>NaN</td>\n",
       "      <td>E0016652</td>\n",
       "      <td>LT</td>\n",
       "      <td>MED</td>\n",
       "      <td>LT_MED</td>\n",
       "    </tr>\n",
       "    <tr>\n",
       "      <th>4</th>\n",
       "      <td>E0016652_RF_LAT</td>\n",
       "      <td>0.2419</td>\n",
       "      <td>0.268690</td>\n",
       "      <td>NaN</td>\n",
       "      <td>NaN</td>\n",
       "      <td>E0016652</td>\n",
       "      <td>RF</td>\n",
       "      <td>LAT</td>\n",
       "      <td>RF_LAT</td>\n",
       "    </tr>\n",
       "  </tbody>\n",
       "</table>\n",
       "</div>"
      ],
      "text/plain": [
       "          Filename  Thickness  Porosity         BMD          TMD        ID  \\\n",
       "0  E0016652_LF_LAT     0.2738  0.247248  912.694346  1204.382048  E0016652   \n",
       "1  E0016652_LF_MED     0.2681  0.277952  851.170837  1169.341802  E0016652   \n",
       "2  E0016652_LT_LAT     0.2994  0.222734  960.661315  1228.887595  E0016652   \n",
       "3  E0016652_LT_MED     0.2483       NaN         NaN          NaN  E0016652   \n",
       "4  E0016652_RF_LAT     0.2419  0.268690         NaN          NaN  E0016652   \n",
       "\n",
       "  Location Subregion Location_Subregion  \n",
       "0       LF       LAT             LF_LAT  \n",
       "1       LF       MED             LF_MED  \n",
       "2       LT       LAT             LT_LAT  \n",
       "3       LT       MED             LT_MED  \n",
       "4       RF       LAT             RF_LAT  "
      ]
     },
     "execution_count": 4,
     "metadata": {},
     "output_type": "execute_result"
    }
   ],
   "source": [
    "ITS = pd.read_csv(DATA / 'result_gp_SBP.txt', sep = '\\t', header = None)\n",
    "ITS.columns = ['Filename','Thickness', 'Porosity', 'BMD', 'TMD']\n",
    "ITS['ID'] = ITS['Filename'].astype(str).str.split('_').str[0]\n",
    "ITS['Location'] = ITS['Filename'].astype(str).str.split('_').str[1]\n",
    "ITS['Subregion'] = ITS['Filename'].astype(str).str.split('_').str[2]\n",
    "ITS['Location_Subregion'] = ITS['Location'] + '_' + ITS['Subregion']\n",
    "ITS.head()"
   ]
  },
  {
   "cell_type": "code",
   "execution_count": 5,
   "id": "HeHFMEUdtaRC",
   "metadata": {
    "id": "HeHFMEUdtaRC"
   },
   "outputs": [],
   "source": [
    "GP_ID = pd.read_csv(DATA /'GP_fileID.txt', header = None, sep = '\\t')\n",
    "GP_ID.columns = ['GP','Month', 'ID','Location']"
   ]
  },
  {
   "cell_type": "code",
   "execution_count": 6,
   "id": "1RIu2uXo2l5w",
   "metadata": {
    "colab": {
     "base_uri": "https://localhost:8080/",
     "height": 314
    },
    "id": "1RIu2uXo2l5w",
    "outputId": "a325aac0-72ff-4a27-82db-668782e8817b"
   },
   "outputs": [
    {
     "data": {
      "text/html": [
       "<div>\n",
       "<style scoped>\n",
       "    .dataframe tbody tr th:only-of-type {\n",
       "        vertical-align: middle;\n",
       "    }\n",
       "\n",
       "    .dataframe tbody tr th {\n",
       "        vertical-align: top;\n",
       "    }\n",
       "\n",
       "    .dataframe thead th {\n",
       "        text-align: right;\n",
       "    }\n",
       "</style>\n",
       "<table border=\"1\" class=\"dataframe\">\n",
       "  <thead>\n",
       "    <tr style=\"text-align: right;\">\n",
       "      <th></th>\n",
       "      <th>Filename</th>\n",
       "      <th>Thickness</th>\n",
       "      <th>Porosity</th>\n",
       "      <th>BMD</th>\n",
       "      <th>TMD</th>\n",
       "      <th>ID</th>\n",
       "      <th>Location_x</th>\n",
       "      <th>Subregion</th>\n",
       "      <th>Location_Subregion</th>\n",
       "      <th>GP</th>\n",
       "      <th>Month</th>\n",
       "      <th>Location_y</th>\n",
       "    </tr>\n",
       "  </thead>\n",
       "  <tbody>\n",
       "    <tr>\n",
       "      <th>0</th>\n",
       "      <td>E0016652_LF_LAT</td>\n",
       "      <td>0.2738</td>\n",
       "      <td>0.247248</td>\n",
       "      <td>912.694346</td>\n",
       "      <td>1204.382048</td>\n",
       "      <td>E0016652</td>\n",
       "      <td>LF</td>\n",
       "      <td>LAT</td>\n",
       "      <td>LF_LAT</td>\n",
       "      <td>GP_7</td>\n",
       "      <td>2</td>\n",
       "      <td>NaN</td>\n",
       "    </tr>\n",
       "    <tr>\n",
       "      <th>1</th>\n",
       "      <td>E0016652_LF_MED</td>\n",
       "      <td>0.2681</td>\n",
       "      <td>0.277952</td>\n",
       "      <td>851.170837</td>\n",
       "      <td>1169.341802</td>\n",
       "      <td>E0016652</td>\n",
       "      <td>LF</td>\n",
       "      <td>MED</td>\n",
       "      <td>LF_MED</td>\n",
       "      <td>GP_7</td>\n",
       "      <td>2</td>\n",
       "      <td>NaN</td>\n",
       "    </tr>\n",
       "    <tr>\n",
       "      <th>2</th>\n",
       "      <td>E0016652_LT_LAT</td>\n",
       "      <td>0.2994</td>\n",
       "      <td>0.222734</td>\n",
       "      <td>960.661315</td>\n",
       "      <td>1228.887595</td>\n",
       "      <td>E0016652</td>\n",
       "      <td>LT</td>\n",
       "      <td>LAT</td>\n",
       "      <td>LT_LAT</td>\n",
       "      <td>GP_7</td>\n",
       "      <td>2</td>\n",
       "      <td>NaN</td>\n",
       "    </tr>\n",
       "    <tr>\n",
       "      <th>3</th>\n",
       "      <td>E0016652_LT_MED</td>\n",
       "      <td>0.2483</td>\n",
       "      <td>NaN</td>\n",
       "      <td>NaN</td>\n",
       "      <td>NaN</td>\n",
       "      <td>E0016652</td>\n",
       "      <td>LT</td>\n",
       "      <td>MED</td>\n",
       "      <td>LT_MED</td>\n",
       "      <td>GP_7</td>\n",
       "      <td>2</td>\n",
       "      <td>NaN</td>\n",
       "    </tr>\n",
       "    <tr>\n",
       "      <th>4</th>\n",
       "      <td>E0016652_RF_LAT</td>\n",
       "      <td>0.2419</td>\n",
       "      <td>0.268690</td>\n",
       "      <td>NaN</td>\n",
       "      <td>NaN</td>\n",
       "      <td>E0016652</td>\n",
       "      <td>RF</td>\n",
       "      <td>LAT</td>\n",
       "      <td>RF_LAT</td>\n",
       "      <td>GP_7</td>\n",
       "      <td>2</td>\n",
       "      <td>NaN</td>\n",
       "    </tr>\n",
       "  </tbody>\n",
       "</table>\n",
       "</div>"
      ],
      "text/plain": [
       "          Filename  Thickness  Porosity         BMD          TMD        ID  \\\n",
       "0  E0016652_LF_LAT     0.2738  0.247248  912.694346  1204.382048  E0016652   \n",
       "1  E0016652_LF_MED     0.2681  0.277952  851.170837  1169.341802  E0016652   \n",
       "2  E0016652_LT_LAT     0.2994  0.222734  960.661315  1228.887595  E0016652   \n",
       "3  E0016652_LT_MED     0.2483       NaN         NaN          NaN  E0016652   \n",
       "4  E0016652_RF_LAT     0.2419  0.268690         NaN          NaN  E0016652   \n",
       "\n",
       "  Location_x Subregion Location_Subregion    GP  Month Location_y  \n",
       "0         LF       LAT             LF_LAT  GP_7      2        NaN  \n",
       "1         LF       MED             LF_MED  GP_7      2        NaN  \n",
       "2         LT       LAT             LT_LAT  GP_7      2        NaN  \n",
       "3         LT       MED             LT_MED  GP_7      2        NaN  \n",
       "4         RF       LAT             RF_LAT  GP_7      2        NaN  "
      ]
     },
     "execution_count": 6,
     "metadata": {},
     "output_type": "execute_result"
    }
   ],
   "source": [
    "ITS_merge = pd.merge(ITS, GP_ID, left_on = 'ID', right_on = 'ID')\n",
    "ITS_merge.head()"
   ]
  },
  {
   "cell_type": "code",
   "execution_count": 7,
   "id": "NlWAHXkiN3rt",
   "metadata": {
    "colab": {
     "base_uri": "https://localhost:8080/",
     "height": 1000
    },
    "id": "NlWAHXkiN3rt",
    "outputId": "a23dbe5a-69cf-471b-e489-839594fc1a3e"
   },
   "outputs": [
    {
     "data": {
      "text/html": [
       "<div>\n",
       "<style scoped>\n",
       "    .dataframe tbody tr th:only-of-type {\n",
       "        vertical-align: middle;\n",
       "    }\n",
       "\n",
       "    .dataframe tbody tr th {\n",
       "        vertical-align: top;\n",
       "    }\n",
       "\n",
       "    .dataframe thead th {\n",
       "        text-align: right;\n",
       "    }\n",
       "</style>\n",
       "<table border=\"1\" class=\"dataframe\">\n",
       "  <thead>\n",
       "    <tr style=\"text-align: right;\">\n",
       "      <th></th>\n",
       "      <th></th>\n",
       "      <th>Thickness</th>\n",
       "      <th>Porosity</th>\n",
       "      <th>BMD</th>\n",
       "      <th>TMD</th>\n",
       "    </tr>\n",
       "    <tr>\n",
       "      <th>Location_Subregion</th>\n",
       "      <th>Month</th>\n",
       "      <th></th>\n",
       "      <th></th>\n",
       "      <th></th>\n",
       "      <th></th>\n",
       "    </tr>\n",
       "  </thead>\n",
       "  <tbody>\n",
       "    <tr>\n",
       "      <th rowspan=\"4\" valign=\"top\">LF_LAT</th>\n",
       "      <th>2</th>\n",
       "      <td>0.266145</td>\n",
       "      <td>0.275675</td>\n",
       "      <td>823.453702</td>\n",
       "      <td>1124.407974</td>\n",
       "    </tr>\n",
       "    <tr>\n",
       "      <th>3</th>\n",
       "      <td>0.287967</td>\n",
       "      <td>0.211046</td>\n",
       "      <td>993.909296</td>\n",
       "      <td>1253.015733</td>\n",
       "    </tr>\n",
       "    <tr>\n",
       "      <th>4</th>\n",
       "      <td>0.347550</td>\n",
       "      <td>0.184015</td>\n",
       "      <td>1132.464239</td>\n",
       "      <td>1383.358182</td>\n",
       "    </tr>\n",
       "    <tr>\n",
       "      <th>5</th>\n",
       "      <td>0.275050</td>\n",
       "      <td>0.103039</td>\n",
       "      <td>1324.735082</td>\n",
       "      <td>1473.945180</td>\n",
       "    </tr>\n",
       "    <tr>\n",
       "      <th rowspan=\"4\" valign=\"top\">LF_MED</th>\n",
       "      <th>2</th>\n",
       "      <td>0.282300</td>\n",
       "      <td>0.292938</td>\n",
       "      <td>833.721245</td>\n",
       "      <td>1162.377933</td>\n",
       "    </tr>\n",
       "    <tr>\n",
       "      <th>3</th>\n",
       "      <td>0.287067</td>\n",
       "      <td>0.180583</td>\n",
       "      <td>883.256820</td>\n",
       "      <td>1124.104523</td>\n",
       "    </tr>\n",
       "    <tr>\n",
       "      <th>4</th>\n",
       "      <td>0.353550</td>\n",
       "      <td>0.179539</td>\n",
       "      <td>1147.514730</td>\n",
       "      <td>1393.719824</td>\n",
       "    </tr>\n",
       "    <tr>\n",
       "      <th>5</th>\n",
       "      <td>0.290450</td>\n",
       "      <td>0.097333</td>\n",
       "      <td>1398.093187</td>\n",
       "      <td>1546.581979</td>\n",
       "    </tr>\n",
       "    <tr>\n",
       "      <th rowspan=\"4\" valign=\"top\">LT_LAT</th>\n",
       "      <th>2</th>\n",
       "      <td>0.308255</td>\n",
       "      <td>0.239635</td>\n",
       "      <td>909.274533</td>\n",
       "      <td>1185.980461</td>\n",
       "    </tr>\n",
       "    <tr>\n",
       "      <th>3</th>\n",
       "      <td>0.235567</td>\n",
       "      <td>0.154852</td>\n",
       "      <td>1025.628437</td>\n",
       "      <td>1222.771436</td>\n",
       "    </tr>\n",
       "    <tr>\n",
       "      <th>4</th>\n",
       "      <td>0.380500</td>\n",
       "      <td>0.175445</td>\n",
       "      <td>1154.200807</td>\n",
       "      <td>1394.527765</td>\n",
       "    </tr>\n",
       "    <tr>\n",
       "      <th>5</th>\n",
       "      <td>0.304900</td>\n",
       "      <td>0.115898</td>\n",
       "      <td>1304.789483</td>\n",
       "      <td>1472.315018</td>\n",
       "    </tr>\n",
       "    <tr>\n",
       "      <th rowspan=\"4\" valign=\"top\">LT_MED</th>\n",
       "      <th>2</th>\n",
       "      <td>0.297973</td>\n",
       "      <td>0.258058</td>\n",
       "      <td>876.798035</td>\n",
       "      <td>1181.378433</td>\n",
       "    </tr>\n",
       "    <tr>\n",
       "      <th>3</th>\n",
       "      <td>0.283467</td>\n",
       "      <td>0.189155</td>\n",
       "      <td>1033.386736</td>\n",
       "      <td>1267.645174</td>\n",
       "    </tr>\n",
       "    <tr>\n",
       "      <th>4</th>\n",
       "      <td>0.357250</td>\n",
       "      <td>0.160727</td>\n",
       "      <td>1211.349797</td>\n",
       "      <td>1439.181396</td>\n",
       "    </tr>\n",
       "    <tr>\n",
       "      <th>5</th>\n",
       "      <td>0.287150</td>\n",
       "      <td>0.095742</td>\n",
       "      <td>1383.216336</td>\n",
       "      <td>1527.071228</td>\n",
       "    </tr>\n",
       "    <tr>\n",
       "      <th rowspan=\"4\" valign=\"top\">RF_LAT</th>\n",
       "      <th>2</th>\n",
       "      <td>0.251936</td>\n",
       "      <td>0.296954</td>\n",
       "      <td>773.696067</td>\n",
       "      <td>1089.743722</td>\n",
       "    </tr>\n",
       "    <tr>\n",
       "      <th>3</th>\n",
       "      <td>0.251367</td>\n",
       "      <td>0.193447</td>\n",
       "      <td>1045.654178</td>\n",
       "      <td>1287.220767</td>\n",
       "    </tr>\n",
       "    <tr>\n",
       "      <th>4</th>\n",
       "      <td>0.339800</td>\n",
       "      <td>0.168467</td>\n",
       "      <td>1135.656931</td>\n",
       "      <td>1360.648594</td>\n",
       "    </tr>\n",
       "    <tr>\n",
       "      <th>5</th>\n",
       "      <td>0.271400</td>\n",
       "      <td>0.111125</td>\n",
       "      <td>1300.396390</td>\n",
       "      <td>1459.853232</td>\n",
       "    </tr>\n",
       "    <tr>\n",
       "      <th rowspan=\"4\" valign=\"top\">RF_MED</th>\n",
       "      <th>2</th>\n",
       "      <td>0.274420</td>\n",
       "      <td>0.280117</td>\n",
       "      <td>815.035929</td>\n",
       "      <td>1120.516029</td>\n",
       "    </tr>\n",
       "    <tr>\n",
       "      <th>3</th>\n",
       "      <td>0.304700</td>\n",
       "      <td>0.203616</td>\n",
       "      <td>1038.034778</td>\n",
       "      <td>1292.163986</td>\n",
       "    </tr>\n",
       "    <tr>\n",
       "      <th>4</th>\n",
       "      <td>0.374050</td>\n",
       "      <td>0.156514</td>\n",
       "      <td>1183.693916</td>\n",
       "      <td>1398.793816</td>\n",
       "    </tr>\n",
       "    <tr>\n",
       "      <th>5</th>\n",
       "      <td>0.309600</td>\n",
       "      <td>0.100816</td>\n",
       "      <td>1356.459470</td>\n",
       "      <td>1506.192839</td>\n",
       "    </tr>\n",
       "    <tr>\n",
       "      <th rowspan=\"4\" valign=\"top\">RT_LAT</th>\n",
       "      <th>2</th>\n",
       "      <td>0.281318</td>\n",
       "      <td>0.226489</td>\n",
       "      <td>915.097345</td>\n",
       "      <td>1174.288989</td>\n",
       "    </tr>\n",
       "    <tr>\n",
       "      <th>3</th>\n",
       "      <td>0.327967</td>\n",
       "      <td>0.211709</td>\n",
       "      <td>1023.390635</td>\n",
       "      <td>1290.957021</td>\n",
       "    </tr>\n",
       "    <tr>\n",
       "      <th>4</th>\n",
       "      <td>0.370250</td>\n",
       "      <td>0.168602</td>\n",
       "      <td>1159.617186</td>\n",
       "      <td>1389.790769</td>\n",
       "    </tr>\n",
       "    <tr>\n",
       "      <th>5</th>\n",
       "      <td>0.290100</td>\n",
       "      <td>0.099662</td>\n",
       "      <td>1338.681742</td>\n",
       "      <td>1484.008517</td>\n",
       "    </tr>\n",
       "    <tr>\n",
       "      <th rowspan=\"4\" valign=\"top\">RT_MED</th>\n",
       "      <th>2</th>\n",
       "      <td>0.281509</td>\n",
       "      <td>0.217204</td>\n",
       "      <td>947.084672</td>\n",
       "      <td>1209.504298</td>\n",
       "    </tr>\n",
       "    <tr>\n",
       "      <th>3</th>\n",
       "      <td>0.259567</td>\n",
       "      <td>0.185874</td>\n",
       "      <td>1065.553073</td>\n",
       "      <td>1302.223998</td>\n",
       "    </tr>\n",
       "    <tr>\n",
       "      <th>4</th>\n",
       "      <td>0.388350</td>\n",
       "      <td>0.134739</td>\n",
       "      <td>1246.285734</td>\n",
       "      <td>1436.963693</td>\n",
       "    </tr>\n",
       "    <tr>\n",
       "      <th>5</th>\n",
       "      <td>0.290300</td>\n",
       "      <td>0.123886</td>\n",
       "      <td>1279.359851</td>\n",
       "      <td>1455.846823</td>\n",
       "    </tr>\n",
       "  </tbody>\n",
       "</table>\n",
       "</div>"
      ],
      "text/plain": [
       "                          Thickness  Porosity          BMD          TMD\n",
       "Location_Subregion Month                                               \n",
       "LF_LAT             2       0.266145  0.275675   823.453702  1124.407974\n",
       "                   3       0.287967  0.211046   993.909296  1253.015733\n",
       "                   4       0.347550  0.184015  1132.464239  1383.358182\n",
       "                   5       0.275050  0.103039  1324.735082  1473.945180\n",
       "LF_MED             2       0.282300  0.292938   833.721245  1162.377933\n",
       "                   3       0.287067  0.180583   883.256820  1124.104523\n",
       "                   4       0.353550  0.179539  1147.514730  1393.719824\n",
       "                   5       0.290450  0.097333  1398.093187  1546.581979\n",
       "LT_LAT             2       0.308255  0.239635   909.274533  1185.980461\n",
       "                   3       0.235567  0.154852  1025.628437  1222.771436\n",
       "                   4       0.380500  0.175445  1154.200807  1394.527765\n",
       "                   5       0.304900  0.115898  1304.789483  1472.315018\n",
       "LT_MED             2       0.297973  0.258058   876.798035  1181.378433\n",
       "                   3       0.283467  0.189155  1033.386736  1267.645174\n",
       "                   4       0.357250  0.160727  1211.349797  1439.181396\n",
       "                   5       0.287150  0.095742  1383.216336  1527.071228\n",
       "RF_LAT             2       0.251936  0.296954   773.696067  1089.743722\n",
       "                   3       0.251367  0.193447  1045.654178  1287.220767\n",
       "                   4       0.339800  0.168467  1135.656931  1360.648594\n",
       "                   5       0.271400  0.111125  1300.396390  1459.853232\n",
       "RF_MED             2       0.274420  0.280117   815.035929  1120.516029\n",
       "                   3       0.304700  0.203616  1038.034778  1292.163986\n",
       "                   4       0.374050  0.156514  1183.693916  1398.793816\n",
       "                   5       0.309600  0.100816  1356.459470  1506.192839\n",
       "RT_LAT             2       0.281318  0.226489   915.097345  1174.288989\n",
       "                   3       0.327967  0.211709  1023.390635  1290.957021\n",
       "                   4       0.370250  0.168602  1159.617186  1389.790769\n",
       "                   5       0.290100  0.099662  1338.681742  1484.008517\n",
       "RT_MED             2       0.281509  0.217204   947.084672  1209.504298\n",
       "                   3       0.259567  0.185874  1065.553073  1302.223998\n",
       "                   4       0.388350  0.134739  1246.285734  1436.963693\n",
       "                   5       0.290300  0.123886  1279.359851  1455.846823"
      ]
     },
     "execution_count": 7,
     "metadata": {},
     "output_type": "execute_result"
    }
   ],
   "source": [
    "ITS_merge.groupby(['Location_Subregion', 'Month']).mean()"
   ]
  },
  {
   "cell_type": "code",
   "execution_count": 8,
   "id": "KI6QmdiPN9Zd",
   "metadata": {
    "colab": {
     "base_uri": "https://localhost:8080/",
     "height": 1000
    },
    "id": "KI6QmdiPN9Zd",
    "outputId": "de728f5f-a377-4df9-d50b-b90d2d30e542"
   },
   "outputs": [
    {
     "data": {
      "text/html": [
       "<div>\n",
       "<style scoped>\n",
       "    .dataframe tbody tr th:only-of-type {\n",
       "        vertical-align: middle;\n",
       "    }\n",
       "\n",
       "    .dataframe tbody tr th {\n",
       "        vertical-align: top;\n",
       "    }\n",
       "\n",
       "    .dataframe thead th {\n",
       "        text-align: right;\n",
       "    }\n",
       "</style>\n",
       "<table border=\"1\" class=\"dataframe\">\n",
       "  <thead>\n",
       "    <tr style=\"text-align: right;\">\n",
       "      <th></th>\n",
       "      <th></th>\n",
       "      <th>Thickness</th>\n",
       "      <th>Porosity</th>\n",
       "      <th>BMD</th>\n",
       "      <th>TMD</th>\n",
       "    </tr>\n",
       "    <tr>\n",
       "      <th>Location_Subregion</th>\n",
       "      <th>Month</th>\n",
       "      <th></th>\n",
       "      <th></th>\n",
       "      <th></th>\n",
       "      <th></th>\n",
       "    </tr>\n",
       "  </thead>\n",
       "  <tbody>\n",
       "    <tr>\n",
       "      <th rowspan=\"4\" valign=\"top\">LF_LAT</th>\n",
       "      <th>2</th>\n",
       "      <td>0.034182</td>\n",
       "      <td>0.050084</td>\n",
       "      <td>93.520025</td>\n",
       "      <td>67.707986</td>\n",
       "    </tr>\n",
       "    <tr>\n",
       "      <th>3</th>\n",
       "      <td>0.040500</td>\n",
       "      <td>0.014388</td>\n",
       "      <td>78.046979</td>\n",
       "      <td>92.162697</td>\n",
       "    </tr>\n",
       "    <tr>\n",
       "      <th>4</th>\n",
       "      <td>0.026234</td>\n",
       "      <td>0.042132</td>\n",
       "      <td>23.555138</td>\n",
       "      <td>41.288068</td>\n",
       "    </tr>\n",
       "    <tr>\n",
       "      <th>5</th>\n",
       "      <td>0.016476</td>\n",
       "      <td>0.032547</td>\n",
       "      <td>54.017100</td>\n",
       "      <td>7.632356</td>\n",
       "    </tr>\n",
       "    <tr>\n",
       "      <th rowspan=\"4\" valign=\"top\">LF_MED</th>\n",
       "      <th>2</th>\n",
       "      <td>0.042649</td>\n",
       "      <td>0.048191</td>\n",
       "      <td>136.197698</td>\n",
       "      <td>122.585885</td>\n",
       "    </tr>\n",
       "    <tr>\n",
       "      <th>3</th>\n",
       "      <td>0.028671</td>\n",
       "      <td>0.054415</td>\n",
       "      <td>NaN</td>\n",
       "      <td>NaN</td>\n",
       "    </tr>\n",
       "    <tr>\n",
       "      <th>4</th>\n",
       "      <td>0.032173</td>\n",
       "      <td>0.055120</td>\n",
       "      <td>63.488922</td>\n",
       "      <td>14.595371</td>\n",
       "    </tr>\n",
       "    <tr>\n",
       "      <th>5</th>\n",
       "      <td>0.039810</td>\n",
       "      <td>0.007431</td>\n",
       "      <td>74.466243</td>\n",
       "      <td>95.024524</td>\n",
       "    </tr>\n",
       "    <tr>\n",
       "      <th rowspan=\"4\" valign=\"top\">LT_LAT</th>\n",
       "      <th>2</th>\n",
       "      <td>0.070859</td>\n",
       "      <td>0.045788</td>\n",
       "      <td>109.781753</td>\n",
       "      <td>73.279607</td>\n",
       "    </tr>\n",
       "    <tr>\n",
       "      <th>3</th>\n",
       "      <td>0.069115</td>\n",
       "      <td>0.013704</td>\n",
       "      <td>NaN</td>\n",
       "      <td>NaN</td>\n",
       "    </tr>\n",
       "    <tr>\n",
       "      <th>4</th>\n",
       "      <td>0.004101</td>\n",
       "      <td>0.063923</td>\n",
       "      <td>87.881989</td>\n",
       "      <td>0.381597</td>\n",
       "    </tr>\n",
       "    <tr>\n",
       "      <th>5</th>\n",
       "      <td>0.067741</td>\n",
       "      <td>0.013330</td>\n",
       "      <td>53.367657</td>\n",
       "      <td>38.535765</td>\n",
       "    </tr>\n",
       "    <tr>\n",
       "      <th rowspan=\"4\" valign=\"top\">LT_MED</th>\n",
       "      <th>2</th>\n",
       "      <td>0.045516</td>\n",
       "      <td>0.115182</td>\n",
       "      <td>170.462911</td>\n",
       "      <td>66.016691</td>\n",
       "    </tr>\n",
       "    <tr>\n",
       "      <th>3</th>\n",
       "      <td>0.057135</td>\n",
       "      <td>0.050009</td>\n",
       "      <td>109.042994</td>\n",
       "      <td>86.591762</td>\n",
       "    </tr>\n",
       "    <tr>\n",
       "      <th>4</th>\n",
       "      <td>0.018738</td>\n",
       "      <td>0.037048</td>\n",
       "      <td>30.775115</td>\n",
       "      <td>25.773411</td>\n",
       "    </tr>\n",
       "    <tr>\n",
       "      <th>5</th>\n",
       "      <td>0.050558</td>\n",
       "      <td>0.001158</td>\n",
       "      <td>13.488823</td>\n",
       "      <td>16.841716</td>\n",
       "    </tr>\n",
       "    <tr>\n",
       "      <th rowspan=\"4\" valign=\"top\">RF_LAT</th>\n",
       "      <th>2</th>\n",
       "      <td>0.043161</td>\n",
       "      <td>0.059159</td>\n",
       "      <td>106.053327</td>\n",
       "      <td>69.737607</td>\n",
       "    </tr>\n",
       "    <tr>\n",
       "      <th>3</th>\n",
       "      <td>0.028971</td>\n",
       "      <td>0.039769</td>\n",
       "      <td>141.528885</td>\n",
       "      <td>121.377874</td>\n",
       "    </tr>\n",
       "    <tr>\n",
       "      <th>4</th>\n",
       "      <td>0.049073</td>\n",
       "      <td>0.056233</td>\n",
       "      <td>77.517704</td>\n",
       "      <td>2.873521</td>\n",
       "    </tr>\n",
       "    <tr>\n",
       "      <th>5</th>\n",
       "      <td>0.020223</td>\n",
       "      <td>0.013875</td>\n",
       "      <td>23.917064</td>\n",
       "      <td>4.504242</td>\n",
       "    </tr>\n",
       "    <tr>\n",
       "      <th rowspan=\"4\" valign=\"top\">RF_MED</th>\n",
       "      <th>2</th>\n",
       "      <td>0.044694</td>\n",
       "      <td>0.044618</td>\n",
       "      <td>78.466760</td>\n",
       "      <td>49.178951</td>\n",
       "    </tr>\n",
       "    <tr>\n",
       "      <th>3</th>\n",
       "      <td>0.061803</td>\n",
       "      <td>0.062257</td>\n",
       "      <td>180.170715</td>\n",
       "      <td>127.147366</td>\n",
       "    </tr>\n",
       "    <tr>\n",
       "      <th>4</th>\n",
       "      <td>0.010960</td>\n",
       "      <td>0.027052</td>\n",
       "      <td>35.560788</td>\n",
       "      <td>1.912464</td>\n",
       "    </tr>\n",
       "    <tr>\n",
       "      <th>5</th>\n",
       "      <td>0.013294</td>\n",
       "      <td>0.027436</td>\n",
       "      <td>16.423929</td>\n",
       "      <td>26.938617</td>\n",
       "    </tr>\n",
       "    <tr>\n",
       "      <th rowspan=\"4\" valign=\"top\">RT_LAT</th>\n",
       "      <th>2</th>\n",
       "      <td>0.047823</td>\n",
       "      <td>0.046074</td>\n",
       "      <td>80.809072</td>\n",
       "      <td>49.626016</td>\n",
       "    </tr>\n",
       "    <tr>\n",
       "      <th>3</th>\n",
       "      <td>0.071799</td>\n",
       "      <td>0.025489</td>\n",
       "      <td>74.250092</td>\n",
       "      <td>70.141090</td>\n",
       "    </tr>\n",
       "    <tr>\n",
       "      <th>4</th>\n",
       "      <td>0.057064</td>\n",
       "      <td>0.000317</td>\n",
       "      <td>42.155327</td>\n",
       "      <td>51.225271</td>\n",
       "    </tr>\n",
       "    <tr>\n",
       "      <th>5</th>\n",
       "      <td>0.052184</td>\n",
       "      <td>0.013684</td>\n",
       "      <td>35.332068</td>\n",
       "      <td>17.063134</td>\n",
       "    </tr>\n",
       "    <tr>\n",
       "      <th rowspan=\"4\" valign=\"top\">RT_MED</th>\n",
       "      <th>2</th>\n",
       "      <td>0.063928</td>\n",
       "      <td>0.048310</td>\n",
       "      <td>81.311707</td>\n",
       "      <td>52.508850</td>\n",
       "    </tr>\n",
       "    <tr>\n",
       "      <th>3</th>\n",
       "      <td>0.045449</td>\n",
       "      <td>0.041974</td>\n",
       "      <td>81.120887</td>\n",
       "      <td>40.439040</td>\n",
       "    </tr>\n",
       "    <tr>\n",
       "      <th>4</th>\n",
       "      <td>0.099490</td>\n",
       "      <td>0.031065</td>\n",
       "      <td>22.486286</td>\n",
       "      <td>24.719238</td>\n",
       "    </tr>\n",
       "    <tr>\n",
       "      <th>5</th>\n",
       "      <td>0.036487</td>\n",
       "      <td>0.033266</td>\n",
       "      <td>90.739331</td>\n",
       "      <td>49.228294</td>\n",
       "    </tr>\n",
       "  </tbody>\n",
       "</table>\n",
       "</div>"
      ],
      "text/plain": [
       "                          Thickness  Porosity         BMD         TMD\n",
       "Location_Subregion Month                                             \n",
       "LF_LAT             2       0.034182  0.050084   93.520025   67.707986\n",
       "                   3       0.040500  0.014388   78.046979   92.162697\n",
       "                   4       0.026234  0.042132   23.555138   41.288068\n",
       "                   5       0.016476  0.032547   54.017100    7.632356\n",
       "LF_MED             2       0.042649  0.048191  136.197698  122.585885\n",
       "                   3       0.028671  0.054415         NaN         NaN\n",
       "                   4       0.032173  0.055120   63.488922   14.595371\n",
       "                   5       0.039810  0.007431   74.466243   95.024524\n",
       "LT_LAT             2       0.070859  0.045788  109.781753   73.279607\n",
       "                   3       0.069115  0.013704         NaN         NaN\n",
       "                   4       0.004101  0.063923   87.881989    0.381597\n",
       "                   5       0.067741  0.013330   53.367657   38.535765\n",
       "LT_MED             2       0.045516  0.115182  170.462911   66.016691\n",
       "                   3       0.057135  0.050009  109.042994   86.591762\n",
       "                   4       0.018738  0.037048   30.775115   25.773411\n",
       "                   5       0.050558  0.001158   13.488823   16.841716\n",
       "RF_LAT             2       0.043161  0.059159  106.053327   69.737607\n",
       "                   3       0.028971  0.039769  141.528885  121.377874\n",
       "                   4       0.049073  0.056233   77.517704    2.873521\n",
       "                   5       0.020223  0.013875   23.917064    4.504242\n",
       "RF_MED             2       0.044694  0.044618   78.466760   49.178951\n",
       "                   3       0.061803  0.062257  180.170715  127.147366\n",
       "                   4       0.010960  0.027052   35.560788    1.912464\n",
       "                   5       0.013294  0.027436   16.423929   26.938617\n",
       "RT_LAT             2       0.047823  0.046074   80.809072   49.626016\n",
       "                   3       0.071799  0.025489   74.250092   70.141090\n",
       "                   4       0.057064  0.000317   42.155327   51.225271\n",
       "                   5       0.052184  0.013684   35.332068   17.063134\n",
       "RT_MED             2       0.063928  0.048310   81.311707   52.508850\n",
       "                   3       0.045449  0.041974   81.120887   40.439040\n",
       "                   4       0.099490  0.031065   22.486286   24.719238\n",
       "                   5       0.036487  0.033266   90.739331   49.228294"
      ]
     },
     "execution_count": 8,
     "metadata": {},
     "output_type": "execute_result"
    }
   ],
   "source": [
    "ITS_merge.groupby(['Location_Subregion', 'Month']).std()"
   ]
  },
  {
   "cell_type": "markdown",
   "id": "JkKmCcrlwqU2",
   "metadata": {
    "id": "JkKmCcrlwqU2",
    "tags": [],
    "toc-hr-collapsed": true
   },
   "source": [
    "### Add code to save merged dataframe and can start with that"
   ]
  },
  {
   "cell_type": "markdown",
   "id": "YV39FnO3N4Rt",
   "metadata": {
    "id": "YV39FnO3N4Rt",
    "tags": [],
    "toc-hr-collapsed": true
   },
   "source": [
    "## Filter by individual GP"
   ]
  },
  {
   "cell_type": "code",
   "execution_count": null,
   "id": "k4TdBE8c2ceA",
   "metadata": {
    "id": "k4TdBE8c2ceA"
   },
   "outputs": [],
   "source": [
    "def label_cohort (row):\n",
    "   if row['GP'] == 'GP_10':\n",
    "      return 5\n",
    "   if row['GP'] == 'GP_11':\n",
    "      return 5\n",
    "   if row['GP'] == 'GP_12':\n",
    "      return 5\n",
    "   if row['GP'] == 'GP_13':\n",
    "      return 4\n",
    "   if row['GP'] == 'GP_14':\n",
    "      return 4\n",
    "   if row['GP'] == 'GP_15':\n",
    "      return 4\n",
    "   if row['GP'] == 'GP_8':\n",
    "      return 3\n",
    "   if row['GP'] == 'GP_9':\n",
    "      return 3\n",
    "   if row['GP'] == 'GP_16':\n",
    "      return 3\n",
    "   if row['GP'] == 'GP_17':\n",
    "      return 3\n",
    "   return 0"
   ]
  },
  {
   "cell_type": "code",
   "execution_count": null,
   "id": "KEk6W73m5U_8",
   "metadata": {
    "id": "KEk6W73m5U_8"
   },
   "outputs": [],
   "source": [
    "ITS_merge['Cohort'] = ITS_merge.apply(lambda row: label_cohort(row), axis=1)"
   ]
  },
  {
   "cell_type": "code",
   "execution_count": null,
   "id": "3Lf2x7P0NIdR",
   "metadata": {
    "id": "3Lf2x7P0NIdR"
   },
   "outputs": [],
   "source": [
    "ITS_merge['GP_Location_Subregion'] = ITS_merge['GP'] + '_' + ITS_merge['Location_Subregion']"
   ]
  },
  {
   "cell_type": "code",
   "execution_count": null,
   "id": "yavYrrZqN0ve",
   "metadata": {
    "id": "yavYrrZqN0ve"
   },
   "outputs": [],
   "source": [
    "ITS_erode_RT_MED = ITS_merge[(ITS_merge.Location_Subregion == \"RT_MED\")]"
   ]
  },
  {
   "cell_type": "code",
   "execution_count": null,
   "id": "WSlFbslgRpOO",
   "metadata": {
    "colab": {
     "base_uri": "https://localhost:8080/",
     "height": 905
    },
    "id": "WSlFbslgRpOO",
    "outputId": "4cf11a20-f35d-49fe-c3ae-f2a6f83a8624"
   },
   "outputs": [],
   "source": [
    "ITS_erode_RT_MED.groupby(['GP', 'Month']).mean()"
   ]
  },
  {
   "cell_type": "code",
   "execution_count": null,
   "id": "OEBQa5WeKpb5",
   "metadata": {
    "colab": {
     "base_uri": "https://localhost:8080/",
     "height": 394
    },
    "id": "OEBQa5WeKpb5",
    "outputId": "6002bc10-1d00-4be4-9987-cf833a3b816b"
   },
   "outputs": [],
   "source": [
    "ITS_erode_RT_MED.groupby(['Cohort', 'Month']).mean()"
   ]
  },
  {
   "cell_type": "code",
   "execution_count": null,
   "id": "P4Z2Q3gdK5k-",
   "metadata": {
    "colab": {
     "base_uri": "https://localhost:8080/"
    },
    "id": "P4Z2Q3gdK5k-",
    "outputId": "6035a257-51d7-40c9-9b8b-3d091608b6ef"
   },
   "outputs": [],
   "source": [
    "import scipy.stats as stats\n",
    "\n",
    "stats.f_oneway(ITS_erode_RT_MED['BV_TV'][ITS_erode_RT_MED['Cohort'] == 3],\n",
    "               ITS_erode_RT_MED['BV_TV'][ITS_erode_RT_MED['Cohort'] == 4],\n",
    "               ITS_erode_RT_MED['BV_TV'][ITS_erode_RT_MED['Cohort'] == 5])"
   ]
  },
  {
   "cell_type": "code",
   "execution_count": null,
   "id": "U5QPn3OOLYvd",
   "metadata": {
    "colab": {
     "base_uri": "https://localhost:8080/"
    },
    "id": "U5QPn3OOLYvd",
    "outputId": "9b1fc5d8-ef31-4c9e-9a18-aa0533fce534"
   },
   "outputs": [],
   "source": [
    "stats.f_oneway(ITS_erode_RT_MED['PR_ratio'][ITS_erode_RT_MED['Cohort'] == 3],\n",
    "               ITS_erode_RT_MED['PR_ratio'][ITS_erode_RT_MED['Cohort'] == 4],\n",
    "               ITS_erode_RT_MED['PR_ratio'][ITS_erode_RT_MED['Cohort'] == 5])"
   ]
  },
  {
   "cell_type": "code",
   "execution_count": null,
   "id": "R_Zf-GydSNi2",
   "metadata": {
    "colab": {
     "base_uri": "https://localhost:8080/"
    },
    "id": "R_Zf-GydSNi2",
    "outputId": "7534e245-f5d4-4f77-9e1b-56def7b09baf"
   },
   "outputs": [],
   "source": [
    "stats.f_oneway(ITS_erode_RT_MED['PR_num_ratio'][ITS_erode_RT_MED['Cohort'] == 3],\n",
    "               ITS_erode_RT_MED['PR_num_ratio'][ITS_erode_RT_MED['Cohort'] == 4],\n",
    "               ITS_erode_RT_MED['PR_num_ratio'][ITS_erode_RT_MED['Cohort'] == 5])"
   ]
  },
  {
   "cell_type": "code",
   "execution_count": null,
   "id": "C474ETZGSSdh",
   "metadata": {
    "colab": {
     "base_uri": "https://localhost:8080/"
    },
    "id": "C474ETZGSSdh",
    "outputId": "0f8d9a15-b930-4014-ad1f-5cb017efc0a7"
   },
   "outputs": [],
   "source": [
    "stats.f_oneway(ITS_erode_RT_MED['pBV_TV'][ITS_erode_RT_MED['Cohort'] == 3],\n",
    "               ITS_erode_RT_MED['pBV_TV'][ITS_erode_RT_MED['Cohort'] == 4],\n",
    "               ITS_erode_RT_MED['pBV_TV'][ITS_erode_RT_MED['Cohort'] == 5])"
   ]
  },
  {
   "cell_type": "code",
   "execution_count": null,
   "id": "PYQtcMRLSW45",
   "metadata": {
    "colab": {
     "base_uri": "https://localhost:8080/"
    },
    "id": "PYQtcMRLSW45",
    "outputId": "4d4bc82d-f83f-4924-fbdd-833ce9fd1e6a"
   },
   "outputs": [],
   "source": [
    "stats.f_oneway(ITS_erode_RT_MED['rBV_TV'][ITS_erode_RT_MED['Cohort'] == 3],\n",
    "               ITS_erode_RT_MED['rBV_TV'][ITS_erode_RT_MED['Cohort'] == 4],\n",
    "               ITS_erode_RT_MED['rBV_TV'][ITS_erode_RT_MED['Cohort'] == 5])"
   ]
  },
  {
   "cell_type": "code",
   "execution_count": null,
   "id": "VGXhvoePSZxy",
   "metadata": {
    "colab": {
     "base_uri": "https://localhost:8080/"
    },
    "id": "VGXhvoePSZxy",
    "outputId": "526973b4-94ea-4eea-8485-fe079dff83da"
   },
   "outputs": [],
   "source": [
    "stats.f_oneway(ITS_erode_RT_MED['pTb_N'][ITS_erode_RT_MED['Cohort'] == 3],\n",
    "               ITS_erode_RT_MED['pTb_N'][ITS_erode_RT_MED['Cohort'] == 4],\n",
    "               ITS_erode_RT_MED['pTb_N'][ITS_erode_RT_MED['Cohort'] == 5])"
   ]
  },
  {
   "cell_type": "code",
   "execution_count": null,
   "id": "39vCfY0ISeQA",
   "metadata": {
    "colab": {
     "base_uri": "https://localhost:8080/"
    },
    "id": "39vCfY0ISeQA",
    "outputId": "b95afcac-769c-4094-dd57-0fb94c1f4324"
   },
   "outputs": [],
   "source": [
    "stats.f_oneway(ITS_erode_RT_MED['rTb_N'][ITS_erode_RT_MED['Cohort'] == 3],\n",
    "               ITS_erode_RT_MED['rTb_N'][ITS_erode_RT_MED['Cohort'] == 4],\n",
    "               ITS_erode_RT_MED['rTb_N'][ITS_erode_RT_MED['Cohort'] == 5])"
   ]
  },
  {
   "cell_type": "code",
   "execution_count": null,
   "id": "T5VTLAoEShDR",
   "metadata": {
    "colab": {
     "base_uri": "https://localhost:8080/"
    },
    "id": "T5VTLAoEShDR",
    "outputId": "cacf8d10-4bc8-4d21-d345-f2c2efad7916"
   },
   "outputs": [],
   "source": [
    "stats.f_oneway(ITS_erode_RT_MED['pTb_Th'][ITS_erode_RT_MED['Cohort'] == 3],\n",
    "               ITS_erode_RT_MED['pTb_Th'][ITS_erode_RT_MED['Cohort'] == 4],\n",
    "               ITS_erode_RT_MED['pTb_Th'][ITS_erode_RT_MED['Cohort'] == 5])"
   ]
  },
  {
   "cell_type": "code",
   "execution_count": null,
   "id": "egu3VWcISj8g",
   "metadata": {
    "colab": {
     "base_uri": "https://localhost:8080/"
    },
    "id": "egu3VWcISj8g",
    "outputId": "c92224c4-060b-4d3f-aedf-a11155140260"
   },
   "outputs": [],
   "source": [
    "stats.f_oneway(ITS_erode_RT_MED['rTb_Th'][ITS_erode_RT_MED['Cohort'] == 3],\n",
    "               ITS_erode_RT_MED['rTb_Th'][ITS_erode_RT_MED['Cohort'] == 4],\n",
    "               ITS_erode_RT_MED['rTb_Th'][ITS_erode_RT_MED['Cohort'] == 5])"
   ]
  },
  {
   "cell_type": "markdown",
   "id": "GI0xYtBkkpQd",
   "metadata": {
    "id": "GI0xYtBkkpQd",
    "tags": [],
    "toc-hr-collapsed": true
   },
   "source": [
    "# Cartilage thickness"
   ]
  },
  {
   "cell_type": "code",
   "execution_count": null,
   "id": "UXlFmEoAvL-S",
   "metadata": {
    "id": "UXlFmEoAvL-S"
   },
   "outputs": [],
   "source": [
    "GP_measurements = pd.read_csv(DATA /'gp_measurements.txt', header = None, sep = '\\t')\n",
    "GP_measurements.columns = ['GP','Sample','ID']"
   ]
  },
  {
   "cell_type": "code",
   "execution_count": null,
   "id": "rQjjn_mZvffg",
   "metadata": {
    "id": "rQjjn_mZvffg"
   },
   "outputs": [],
   "source": [
    "GP_cartilage_thickness= pd.read_csv(DATA /'gp_cartilage_thickness.txt', header = None, sep = '\\t')\n",
    "GP_cartilage_thickness.columns = ['Sample','Cart_LAT_thickness','Cart_MED_thickness']"
   ]
  },
  {
   "cell_type": "code",
   "execution_count": null,
   "id": "v-H2nwcxvz4D",
   "metadata": {
    "id": "v-H2nwcxvz4D"
   },
   "outputs": [],
   "source": [
    "GP_merge = pd.merge(GP_cartilage_thickness, GP_measurements, left_on = 'Sample', right_on = 'Sample')\n",
    "GP_merge.head()"
   ]
  },
  {
   "cell_type": "code",
   "execution_count": null,
   "id": "UBIbtLTwzbfZ",
   "metadata": {
    "id": "UBIbtLTwzbfZ"
   },
   "outputs": [],
   "source": [
    "ITS_erode_merge = pd.merge(ITS_erode_merge, GP_merge, left_on = 'ID', right_on = 'ID')\n",
    "ITS_erode_merge.head()"
   ]
  },
  {
   "cell_type": "code",
   "execution_count": null,
   "id": "cg4S4DRerx40",
   "metadata": {
    "id": "cg4S4DRerx40"
   },
   "outputs": [],
   "source": [
    "ITS_erode_merge.to_csv(DATA /'GP_right.txt', sep = '\\t')"
   ]
  },
  {
   "cell_type": "code",
   "execution_count": null,
   "id": "PnHJZ5tc0lue",
   "metadata": {
    "id": "PnHJZ5tc0lue"
   },
   "outputs": [],
   "source": [
    "ax = sns.barplot(data = ITS_erode_merge, x='Location_Subregion', y='Cart_LAT_thickness', hue='Month', estimator=np.mean, ci = 68, capsize=.2)\n",
    "ax.legend_.remove()\n",
    "pairs=[('RF_LAT', 'RF_MED'), ('RF_LAT', 'RT_LAT'), ('RF_LAT', 'RT_MED'),('RF_MED',  'RT_LAT'), ('RF_MED', 'RT_MED'), ('RT_LAT', 'RT_MED')]\n",
    "\n",
    "annotator = Annotator(ax, pairs, data=ITS_erode_merge, x='Location_Subregion', y='Cart_LAT_thickness')\n",
    "annotator.configure(test='t-test_paired', text_format='star', loc='outside')\n",
    "#annotator.apply_and_annotate()"
   ]
  },
  {
   "cell_type": "markdown",
   "id": "8Nva5BYxjkJR",
   "metadata": {
    "id": "8Nva5BYxjkJR",
    "tags": [],
    "toc-hr-collapsed": true
   },
   "source": [
    "# Statistical Analysis"
   ]
  },
  {
   "cell_type": "code",
   "execution_count": null,
   "id": "g0MEeJ-zhj5f",
   "metadata": {
    "colab": {
     "base_uri": "https://localhost:8080/"
    },
    "id": "g0MEeJ-zhj5f",
    "outputId": "3d195ef1-3b7d-4e64-e418-01b1a71bea50"
   },
   "outputs": [],
   "source": [
    "print(pg.normality(ITS_erode_merge))"
   ]
  },
  {
   "cell_type": "markdown",
   "id": "FmJx-WlpH2Yc",
   "metadata": {
    "id": "FmJx-WlpH2Yc"
   },
   "source": [
    "## Longitudinal Analyses"
   ]
  },
  {
   "cell_type": "code",
   "execution_count": null,
   "id": "FP8fgCdcjmj4",
   "metadata": {
    "colab": {
     "base_uri": "https://localhost:8080/"
    },
    "id": "FP8fgCdcjmj4",
    "outputId": "930e51eb-3f31-41e9-a90d-ad172d28794d"
   },
   "outputs": [],
   "source": [
    "ITS_erode_merge.rm_anova(dv='PR_ratio',\n",
    "                  within=['Location_Subregion', 'Month'],\n",
    "                  subject='GP', detailed = False)"
   ]
  },
  {
   "cell_type": "code",
   "execution_count": null,
   "id": "uT1aGwO5Qwlq",
   "metadata": {
    "colab": {
     "base_uri": "https://localhost:8080/"
    },
    "id": "uT1aGwO5Qwlq",
    "outputId": "b946f652-53e7-4ffb-8d97-bd6213f640d9"
   },
   "outputs": [],
   "source": [
    "post_hocs = pg.pairwise_ttests(dv='PR_ratio',\n",
    "                  within=['Location_Subregion', 'Month'],\n",
    "                  subject='GP', padjust='sidak', data = ITS_erode_merge)\n",
    "post_hocs"
   ]
  },
  {
   "cell_type": "code",
   "execution_count": null,
   "id": "ikTm8SLOS1aV",
   "metadata": {
    "id": "ikTm8SLOS1aV"
   },
   "outputs": [],
   "source": [
    "ITS_erode_merge.rm_anova(dv='rTb_N',\n",
    "                  within=['Location_Subregion', 'Month'],\n",
    "                  subject='GP', detailed = False)"
   ]
  },
  {
   "cell_type": "code",
   "execution_count": null,
   "id": "3l5gjlJDS72c",
   "metadata": {
    "id": "3l5gjlJDS72c"
   },
   "outputs": [],
   "source": [
    "post_hocs = pg.pairwise_ttests(dv='rTb_N',\n",
    "                  within=['Location_Subregion', 'Month'],\n",
    "                  subject='GP', padjust='BH', data = ITS_erode_merge)\n",
    "post_hocs"
   ]
  },
  {
   "cell_type": "code",
   "execution_count": null,
   "id": "P3T3SMKzTIs6",
   "metadata": {
    "id": "P3T3SMKzTIs6"
   },
   "outputs": [],
   "source": [
    "ITS_erode_merge.rm_anova(dv='pTb_Th',\n",
    "                  within=['Location_Subregion', 'Month'],\n",
    "                  subject='GP', detailed = False)"
   ]
  },
  {
   "cell_type": "code",
   "execution_count": null,
   "id": "qbiEyCEATLfS",
   "metadata": {
    "id": "qbiEyCEATLfS"
   },
   "outputs": [],
   "source": [
    "post_hocs = pg.pairwise_ttests(dv='pTb_Th',\n",
    "                  within=['Location_Subregion', 'Month'],\n",
    "                  subject='GP', padjust='bonferroni', data = ITS_erode_merge)\n",
    "post_hocs"
   ]
  },
  {
   "cell_type": "markdown",
   "id": "AYwiOOo3H5aa",
   "metadata": {
    "id": "AYwiOOo3H5aa"
   },
   "source": [
    "## Cross-sectional Analyses"
   ]
  },
  {
   "cell_type": "code",
   "execution_count": null,
   "id": "L5mlZfVWH7pS",
   "metadata": {
    "id": "L5mlZfVWH7pS"
   },
   "outputs": [],
   "source": [
    "PR_model = ols('PR_ratio ~ C(Location_Subregion) + C(Month) + C(Location_Subregion):C(Month)', data=ITS_erode_merge).fit()\n",
    "\n",
    "sm.stats.anova_lm(PR_model,typ=2)"
   ]
  },
  {
   "cell_type": "code",
   "execution_count": null,
   "id": "7uk3ZswTKny7",
   "metadata": {
    "id": "7uk3ZswTKny7"
   },
   "outputs": [],
   "source": [
    "sp.posthoc_ttest(ITS_erode_merge, val_col='PR_Ratio', group_col='Month', p_adjust='holm')"
   ]
  },
  {
   "cell_type": "markdown",
   "id": "KsEK9K0vzIKl",
   "metadata": {
    "id": "KsEK9K0vzIKl",
    "tags": [],
    "toc-hr-collapsed": true
   },
   "source": [
    "# Plot ITS results - line graphs\n"
   ]
  },
  {
   "cell_type": "code",
   "execution_count": null,
   "id": "J3w58fLRzP9_",
   "metadata": {
    "id": "J3w58fLRzP9_"
   },
   "outputs": [],
   "source": [
    "plt.style.use('seaborn-bright')\n",
    "plt.rcParams[\"figure.figsize\"] = (20,10)\n",
    "plt.rcParams.update({'font.size': 20}) \n",
    "import numpy as np"
   ]
  },
  {
   "cell_type": "code",
   "execution_count": null,
   "id": "JAT3uGuUzhmw",
   "metadata": {
    "colab": {
     "base_uri": "https://localhost:8080/"
    },
    "id": "JAT3uGuUzhmw",
    "outputId": "fa3dd9ca-c502-49ab-85e6-b7c12721a7f5"
   },
   "outputs": [],
   "source": [
    "ITS_erode_RT_MED[\"Month\"] = ITS_erode_RT_MED[\"Month\"].astype(str)\n",
    "\n",
    "#hue_order = list(['3', '4', '5'])\n",
    "#order = [\"RF_LAT\", \"RF_MED\", \"RT_LAT\",\"RT_MED\"]\n",
    "#order = [\"LF_LAT\", \"LF_MED\", \"LT_LAT\",\"LT_MED\",\"RF_LAT\", \"RF_MED\", \"RT_LAT\",\"RT_MED\"]\n",
    "\n",
    "\n",
    "hue_plot_params = {\n",
    "    'data': ITS_erode_RT_MED,\n",
    "    'x': 'Month',\n",
    "  #  \"order\": order,\n",
    "    \"hue\": \"GP_Location_Subregion\",\n",
    "    #\"hue_order\": \"RT_MED\"\n",
    "    #\"hue_order\": order\n",
    "}"
   ]
  },
  {
   "cell_type": "code",
   "execution_count": null,
   "id": "FmNnUF0szW2n",
   "metadata": {
    "colab": {
     "base_uri": "https://localhost:8080/",
     "height": 624
    },
    "id": "FmNnUF0szW2n",
    "outputId": "cf19e023-1b9e-4450-beba-67d510e5f886"
   },
   "outputs": [],
   "source": [
    "ax = sns.lineplot(**hue_plot_params, y='PR_ratio')"
   ]
  },
  {
   "cell_type": "code",
   "execution_count": null,
   "id": "HX_ofrtmgeSg",
   "metadata": {
    "colab": {
     "base_uri": "https://localhost:8080/",
     "height": 624
    },
    "id": "HX_ofrtmgeSg",
    "outputId": "82b61049-9203-48cc-d1b8-17058eeec221"
   },
   "outputs": [],
   "source": [
    "ax = sns.lineplot(**hue_plot_params, y='BV_TV')"
   ]
  },
  {
   "cell_type": "code",
   "execution_count": null,
   "id": "4170b709-3982-4323-9ccd-28b764019e23",
   "metadata": {},
   "outputs": [],
   "source": [
    "ax = sns.lineplot(**hue_plot_params, y='pBV_TV')"
   ]
  },
  {
   "cell_type": "code",
   "execution_count": null,
   "id": "pG6ERlX3YoYE",
   "metadata": {
    "colab": {
     "base_uri": "https://localhost:8080/",
     "height": 624
    },
    "id": "pG6ERlX3YoYE",
    "outputId": "f527e985-1fd0-4376-8b69-1b8751bc288a"
   },
   "outputs": [],
   "source": [
    "ax = sns.lineplot(**hue_plot_params, y='rBV_TV')"
   ]
  },
  {
   "cell_type": "code",
   "execution_count": null,
   "id": "iTtXiwJ-THDe",
   "metadata": {
    "colab": {
     "base_uri": "https://localhost:8080/",
     "height": 624
    },
    "id": "iTtXiwJ-THDe",
    "outputId": "fa93a70b-cd2c-463e-c461-13a91cf64e12"
   },
   "outputs": [],
   "source": [
    "ax = sns.lineplot(**hue_plot_params, y='rTb_N')"
   ]
  },
  {
   "cell_type": "code",
   "execution_count": null,
   "id": "Yz6ZbnLwTK37",
   "metadata": {
    "colab": {
     "base_uri": "https://localhost:8080/",
     "height": 624
    },
    "id": "Yz6ZbnLwTK37",
    "outputId": "8ccef3d6-68cd-4abb-a946-f241cc48c88a"
   },
   "outputs": [],
   "source": [
    "ax = sns.lineplot(**hue_plot_params, y='rTb_Th')"
   ]
  },
  {
   "cell_type": "code",
   "execution_count": null,
   "id": "q5bNH42K2g8_",
   "metadata": {
    "colab": {
     "base_uri": "https://localhost:8080/",
     "height": 624
    },
    "id": "q5bNH42K2g8_",
    "outputId": "9ae4c44a-8f5d-4e7e-b957-50aa81c8b9c9"
   },
   "outputs": [],
   "source": [
    "ax = sns.lineplot(**hue_plot_params, y='pTb_Th')"
   ]
  },
  {
   "cell_type": "markdown",
   "id": "bdYe_VDgHg24",
   "metadata": {
    "id": "bdYe_VDgHg24"
   },
   "source": [
    "# Plot ITS results bar graphs\n"
   ]
  },
  {
   "cell_type": "code",
   "execution_count": 9,
   "id": "1df6022d",
   "metadata": {
    "id": "1df6022d"
   },
   "outputs": [],
   "source": [
    "#plt.style.use('seaborn-muted')\n",
    "#plt.style.use('dark_background')\n",
    "plt.style.use('seaborn-bright')\n",
    "#plt.style.use('grayscale')\n",
    "#plt.style.use('seaborn-Greys')"
   ]
  },
  {
   "cell_type": "code",
   "execution_count": 10,
   "id": "2fb7d310",
   "metadata": {
    "id": "2fb7d310"
   },
   "outputs": [],
   "source": [
    "#plt.rcParams[\"figure.figsize\"] = (5.5, 4)\n",
    "plt.rcParams[\"figure.figsize\"] = (16.5,6.2)\n",
    "#plt.rcParams[\"figure.figsize\"] = (12,5)\n",
    "plt.rcParams.update({'font.size': 20}) # 'font.weight' : 'bold', 'axes.labelweight': 'bold'})"
   ]
  },
  {
   "cell_type": "code",
   "execution_count": 11,
   "id": "PvfyDxV-o1Fd",
   "metadata": {
    "id": "PvfyDxV-o1Fd"
   },
   "outputs": [],
   "source": [
    "import numpy as np"
   ]
  },
  {
   "cell_type": "code",
   "execution_count": 21,
   "id": "C9JdAQ3nT542",
   "metadata": {
    "id": "C9JdAQ3nT542"
   },
   "outputs": [],
   "source": [
    "ITS_merge[\"Month\"] = ITS_merge[\"Month\"].astype(str)\n",
    "\n",
    "hue_order = list(['2', '3', '4', '5'])\n",
    "order = [\"RF_LAT\", \"RF_MED\", \"RT_LAT\",\"RT_MED\"]\n",
    "#order = [\"LF_LAT\", \"LF_MED\", \"LT_LAT\",\"LT_MED\",\"RF_LAT\", \"RF_MED\", \"RT_LAT\",\"RT_MED\"]\n",
    "\n",
    "\n",
    "hue_plot_params = {\n",
    "    'data': ITS_merge,\n",
    "    'x': 'Location_Subregion',\n",
    "    \"order\": order,\n",
    "    \"hue\": \"Month\",\n",
    "    \"hue_order\": hue_order\n",
    "}"
   ]
  },
  {
   "cell_type": "code",
   "execution_count": 22,
   "id": "ba4f9b77-8590-47c9-b79b-7a9500c6d6ba",
   "metadata": {},
   "outputs": [],
   "source": [
    "import seaborn as sns\n",
    "\n",
    "def ITS_plot(ITS_param):\n",
    "    ax = sns.barplot(**hue_plot_params, y=ITS_param, estimator=np.mean, ci=68, capsize=.2, errcolor='white') \n",
    "    #,fill=False)\n",
    "    ax = sns.stripplot(**hue_plot_params, y=ITS_param, color='white', dodge=True)\n",
    "    \n",
    "    #ax = sns.barplot(**hue_plot_params, y=ITS_param, estimator=np.mean, ci=68, capsize=.2, errcolor='black') #,fill=False)\n",
    "    #ax = sns.swarmplot(**hue_plot_params, y=ITS_param, color='black', dodge=True)\n",
    "    \n",
    "    ax.set(xlabel = 'Location')\n",
    "    ax.set(ylabel = '')\n",
    "    ax.set(title = ITS_param)\n",
    "\n",
    "    ax.legend_.remove()\n",
    "    #ax.legend(loc='upper center',ncol=4)\n",
    "    ax.spines['top'].set_visible(True)\n",
    "    ax.spines['right'].set_visible(True)\n",
    "\n",
    "    #annotator = Annotator(ax, pairs, **hue_plot_params, y=ITS_param,show_non_significant=False)\n",
    "    #annotator.configure(test='t-test_ind', comparisons_correction='BH', correction_format=\"replace\", text_format='star', color='white', loc='inside',pvalue_thresholds=[[1e-4, \"*\"], [1e-3, \"*\"], [1e-2, \"*\"], [0.05, \"*\"],[1, \"\"]])\n",
    "    #annotator.apply_and_annotate()\n",
    " \n",
    "    img_name = str(DATA) + \"/ITS_\" + ITS_param + \".png\"\n",
    "    plt.tight_layout()\n",
    "\n",
    "    plt.savefig(img_name, bbox_inches = \"tight\")\n"
   ]
  },
  {
   "cell_type": "code",
   "execution_count": 28,
   "id": "d55df5be-1cb2-4ff0-bd75-cc04db3e0082",
   "metadata": {},
   "outputs": [],
   "source": [
    "def ITS_subplots(ITS_param1, ITS_param2, ITS_param3, ITS_param4):\n",
    "    plt.subplot(1,4,1)\n",
    "    ITS_plot(ITS_param1)\n",
    "    plt.xticks(rotation=45, ha='right')\n",
    "    plt.subplot(1,4,2)\n",
    "    ITS_plot(ITS_param2)\n",
    "    plt.xticks(rotation=45, ha='right')\n",
    "    plt.subplot(1,4,3)\n",
    "    ITS_plot(ITS_param3)\n",
    "    plt.xticks(rotation=45, ha='right')\n",
    "    plt.subplot(1,4,4)\n",
    "    ITS_plot(ITS_param4)\n",
    "    plt.xticks(rotation=45, ha='right')\n",
    "    \n",
    "    img_name = str(DATA) + \"/ITS_subplots.png\"\n",
    "    plt.tight_layout(pad=0.4, w_pad=0.5, h_pad=1.0)\n",
    "    plt.savefig(img_name) #, bbox_inches = \"tight\")\t"
   ]
  },
  {
   "cell_type": "code",
   "execution_count": 29,
   "id": "7c32db41-da2c-4ae9-9461-23ae4d2f3afe",
   "metadata": {},
   "outputs": [],
   "source": [
    "ITS_merge.to_csv(DATA/'SBP_merge.csv',index=False)"
   ]
  },
  {
   "cell_type": "code",
   "execution_count": 30,
   "id": "-ngl3cQQY6jF",
   "metadata": {
    "id": "-ngl3cQQY6jF"
   },
   "outputs": [],
   "source": [
    "pairs=[[('RF_LAT','2'), ('RF_LAT','3')], [('RF_LAT','2'), ('RF_LAT','4')], [('RF_LAT','2'), ('RF_LAT','5')],[('RF_LAT','3'), ('RF_LAT','4')],[('RF_LAT','3'), ('RF_LAT','5')],[('RF_LAT','4'), ('RF_LAT','5')],\n",
    "       [('RF_MED','2'), ('RF_MED','3')], [('RF_MED','2'), ('RF_MED','4')], [('RF_MED','2'), ('RF_MED','5')],[('RF_MED','3'), ('RF_MED','4')],[('RF_MED','3'), ('RF_MED','5')],[('RF_MED','4'), ('RF_MED','5')],\n",
    "       [('RT_LAT','2'), ('RT_LAT','3')], [('RT_LAT','2'), ('RT_LAT','4')], [('RT_LAT','2'), ('RT_LAT','5')],[('RT_LAT','3'), ('RT_LAT','4')],[('RT_LAT','3'), ('RT_LAT','5')],[('RT_LAT','4'), ('RT_LAT','5')],\n",
    "       [('RT_MED','2'), ('RT_MED','3')], [('RT_MED','2'), ('RT_MED','4')], [('RT_MED','2'), ('RT_MED','5')],[('RT_MED','3'), ('RT_MED','4')],[('RT_MED','3'), ('RT_MED','5')],[('RT_MED','4'), ('RT_MED','5')]]"
   ]
  },
  {
   "cell_type": "code",
   "execution_count": 26,
   "id": "3ee17bc7-b461-4566-89a4-81040d21df81",
   "metadata": {
    "id": "tqK8YlYtyoCJ"
   },
   "outputs": [],
   "source": [
    "pairs=[[('RF_LAT','2'), ('RF_LAT','3')], [('RF_LAT','2'), ('RF_LAT','4')], [('RF_LAT','2'), ('RF_LAT','5')],[('RF_LAT','3'), ('RF_LAT','4')],[('RF_LAT','3'), ('RF_LAT','5')],[('RF_LAT','4'), ('RF_LAT','5')],\n",
    "       [('RF_MED','2'), ('RF_MED','3')], [('RF_MED','2'), ('RF_MED','4')], [('RF_MED','2'), ('RF_MED','5')],[('RF_MED','3'), ('RF_MED','4')],[('RF_MED','3'), ('RF_MED','5')],[('RF_MED','4'), ('RF_MED','5')],\n",
    "       [('RT_LAT','2'), ('RT_LAT','3')], [('RT_LAT','2'), ('RT_LAT','4')], [('RT_LAT','2'), ('RT_LAT','5')],[('RT_LAT','3'), ('RT_LAT','4')],[('RT_LAT','3'), ('RT_LAT','5')],[('RT_LAT','4'), ('RT_LAT','5')],\n",
    "       [('RT_MED','2'), ('RT_MED','3')], [('RT_MED','2'), ('RT_MED','4')], [('RT_MED','2'), ('RT_MED','5')],[('RT_MED','3'), ('RT_MED','4')],[('RT_MED','3'), ('RT_MED','5')],[('RT_MED','4'), ('RT_MED','5')],\n",
    "       [('LF_LAT','2'), ('LF_LAT','3')], [('LF_LAT','2'), ('LF_LAT','4')], [('LF_LAT','2'), ('LF_LAT','5')],[('LF_LAT','3'), ('LF_LAT','4')],[('LF_LAT','3'), ('LF_LAT','5')],[('LF_LAT','4'), ('LF_LAT','5')],\n",
    "       [('LF_MED','2'), ('LF_MED','3')], [('LF_MED','2'), ('LF_MED','4')], [('LF_MED','2'), ('LF_MED','5')],[('LF_MED','3'), ('LF_MED','4')],[('LF_MED','3'), ('LF_MED','5')],[('LF_MED','4'), ('LF_MED','5')],\n",
    "       [('LT_LAT','2'), ('LT_LAT','3')], [('LT_LAT','2'), ('LT_LAT','4')], [('LT_LAT','2'), ('LT_LAT','5')],[('LT_LAT','3'), ('LT_LAT','4')],[('LT_LAT','3'), ('LT_LAT','5')],[('LT_LAT','4'), ('LT_LAT','5')],\n",
    "       [('LT_MED','2'), ('LT_MED','3')], [('LT_MED','2'), ('LT_MED','4')], [('LT_MED','2'), ('LT_MED','5')],[('LT_MED','3'), ('LT_MED','4')],[('LT_MED','3'), ('LT_MED','5')],[('LT_MED','4'), ('LT_MED','5')]]"
   ]
  },
  {
   "cell_type": "code",
   "execution_count": 31,
   "id": "xbkWI6b2wKKu",
   "metadata": {
    "colab": {
     "base_uri": "https://localhost:8080/",
     "height": 1000
    },
    "id": "xbkWI6b2wKKu",
    "outputId": "d16be2ee-bcb8-4c56-dfd7-07e562aa8795"
   },
   "outputs": [
    {
     "data": {
      "image/png": "[encoded data removed]",
      "text/plain": [
       "<Figure size 1650x620 with 4 Axes>"
      ]
     },
     "metadata": {},
     "output_type": "display_data"
    }
   ],
   "source": [
    "ITS_subplots('Thickness','Porosity','BMD','TMD')"
   ]
  },
  {
   "cell_type": "code",
   "execution_count": null,
   "id": "6af41e8c-e24a-4ecf-9322-40088f9cb300",
   "metadata": {},
   "outputs": [],
   "source": []
  }
 ],
 "metadata": {
  "colab": {
   "collapsed_sections": [
    "1VQxwwcKHx6W",
    "GI0xYtBkkpQd",
    "8Nva5BYxjkJR"
   ],
   "name": "ITS_analysis.ipynb",
   "provenance": []
  },
  "kernelspec": {
   "display_name": "Python 3 (ipykernel)",
   "language": "python",
   "name": "python3"
  },
  "language_info": {
   "codemirror_mode": {
    "name": "ipython",
    "version": 3
   },
   "file_extension": ".py",
   "mimetype": "text/x-python",
   "name": "python",
   "nbconvert_exporter": "python",
   "pygments_lexer": "ipython3",
   "version": "3.8.8"
  }
 },
 "nbformat": 4,
 "nbformat_minor": 5
}
